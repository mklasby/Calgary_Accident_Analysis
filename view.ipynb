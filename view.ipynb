{
 "metadata": {
  "language_info": {
   "codemirror_mode": {
    "name": "ipython",
    "version": 3
   },
   "file_extension": ".py",
   "mimetype": "text/x-python",
   "name": "python",
   "nbconvert_exporter": "python",
   "pygments_lexer": "ipython3",
   "version": "3.7.7-final"
  },
  "orig_nbformat": 2,
  "kernelspec": {
   "name": "python37764bitminiconda3conda325cb6264bba41129d04ca3e5f9f112e",
   "display_name": "Python 3.7.7 64-bit ('miniconda3': conda)"
  }
 },
 "nbformat": 4,
 "nbformat_minor": 2,
 "cells": [
  {
   "cell_type": "markdown",
   "metadata": {},
   "source": [
    "# ENSF 592 - FINAL PROJECT\n",
    "## Calgary Accident Analysis\n",
    "### By: Mike Lasby\n",
    "\n",
    "# README\n",
    "This notebook is the entry point of our project and functions as the View. The notebook depends on the Controller.py class to retrieve and manipulate data from the underlying data models stored as seperate .py scripts. "
   ]
  },
  {
   "cell_type": "code",
   "execution_count": 1,
   "metadata": {},
   "outputs": [],
   "source": [
    "%matplotlib inline\n",
    "import numpy as np\n",
    "import pandas as pd\n",
    "import seaborn as sns\n",
    "from geojson import Point, MultiLineString\n",
    "import geopandas as gpd\n",
    "import re\n",
    "import math\n",
    "import folium\n",
    "import matplotlib.pyplot as plt\n",
    "from controller import Controller"
   ]
  },
  {
   "cell_type": "code",
   "execution_count": 2,
   "metadata": {
    "tags": []
   },
   "outputs": [
    {
     "output_type": "stream",
     "name": "stdout",
     "text": "Loading Data...\n...Data Loaded.\nCreating geometry column in df speeds from multiline. Am I flipping coords? True\nCreating geometry column in df volumes from multilinestring. Am I flipping coords? True\nCreating geometry column in df incidents from location. Am I flipping coords? False\nCreating geometry column in df cameras from None. Am I flipping coords? True\nCreating geometry column in df signals from Point. Am I flipping coords? True\nCreating geometry column in df signs from POINT. Am I flipping coords? True\nCreating geometry column in df cells from cell_bounds. Am I flipping coords? False\nAdding cell column to speeds\nAdding cell column to volumes\nAdding cell column to incidents\nAdding cell column to cameras\nAdding cell column to signals\nAdding cell column to signs\n"
    }
   ],
   "source": [
    "ctrl = Controller()\n",
    "ctrl.load_data()\n",
    "ctrl.add_geo_cols()\n",
    "ctrl.add_cell_col()"
   ]
  },
  {
   "cell_type": "code",
   "execution_count": 5,
   "metadata": {},
   "outputs": [
    {
     "output_type": "execute_result",
     "data": {
      "text/plain": "     BOUND  CREATED_DT  DISTANCE  SPEED          STREET_NAME  \\\n0        N         NaN      0.81     60       MILLSIDE BV SE   \n1      NaN  2018/10/30       NaN     40  DEERFOOT TR SE RAMP   \n2        S  2018/10/23       NaN     60   HARVEST HILLS BV N   \n3        N  2019/10/09      4.37     70      CROWCHILD TR SW   \n4      NaN  2018/10/30       NaN     80    STONEY TR NE RAMP   \n...    ...         ...       ...    ...                  ...   \n1447     S  2018/10/29       NaN     80         STONEY TR NW   \n1448   N/S  2018/10/31       NaN     70             37 ST SW   \n1449     W  2018/11/02       NaN     60     SUN VALLEY BV SE   \n1450     E         NaN      1.85     60       JOHN LAURIE BV   \n1451   NaN  2018/12/06       NaN     60    STONEY TR SE RAMP   \n\n                                              multiline  \\\n0     MULTILINESTRING ((-114.073657541927 50.9135772...   \n1     MULTILINESTRING ((-114.034764352652 50.9962241...   \n2     MULTILINESTRING ((-114.068566084381 51.1667137...   \n3     MULTILINESTRING ((-114.117825190175 51.0050022...   \n4     MULTILINESTRING ((-113.918850808952 51.0624482...   \n...                                                 ...   \n1447  MULTILINESTRING ((-114.233241861102 51.0915352...   \n1448  MULTILINESTRING ((-114.140309947853 50.9177590...   \n1449  MULTILINESTRING ((-114.030210417675 50.9043134...   \n1450  MULTILINESTRING ((-114.177870798005 51.1241752...   \n1451  MULTILINESTRING ((-113.988645145196 50.8984752...   \n\n                                               geometry               cell  \n0     {'type': 'MultiLineString', 'coordinates': [[5...   {15: 58, 25: 45}  \n1     {'type': 'MultiLineString', 'coordinates': [[5...           {46: 52}  \n2     {'type': 'MultiLineString', 'coordinates': [[5...           {85: 30}  \n3     {'type': 'MultiLineString', 'coordinates': [[5...           {44: 25}  \n4     {'type': 'MultiLineString', 'coordinates': [[5...   {58: 11, 68: 30}  \n...                                                 ...                ...  \n1447  {'type': 'MultiLineString', 'coordinates': [[5...           {61: 18}  \n1448  {'type': 'MultiLineString', 'coordinates': [[5...            {23: 3}  \n1449  {'type': 'MultiLineString', 'coordinates': [[5...           {16: 48}  \n1450  {'type': 'MultiLineString', 'coordinates': [[5...  {73: 11, 72: 129}  \n1451  {'type': 'MultiLineString', 'coordinates': [[5...           {17: 16}  \n\n[1452 rows x 8 columns]",
      "text/html": "<div>\n<style scoped>\n    .dataframe tbody tr th:only-of-type {\n        vertical-align: middle;\n    }\n\n    .dataframe tbody tr th {\n        vertical-align: top;\n    }\n\n    .dataframe thead th {\n        text-align: right;\n    }\n</style>\n<table border=\"1\" class=\"dataframe\">\n  <thead>\n    <tr style=\"text-align: right;\">\n      <th></th>\n      <th>BOUND</th>\n      <th>CREATED_DT</th>\n      <th>DISTANCE</th>\n      <th>SPEED</th>\n      <th>STREET_NAME</th>\n      <th>multiline</th>\n      <th>geometry</th>\n      <th>cell</th>\n    </tr>\n  </thead>\n  <tbody>\n    <tr>\n      <th>0</th>\n      <td>N</td>\n      <td>NaN</td>\n      <td>0.81</td>\n      <td>60</td>\n      <td>MILLSIDE BV SE</td>\n      <td>MULTILINESTRING ((-114.073657541927 50.9135772...</td>\n      <td>{'type': 'MultiLineString', 'coordinates': [[5...</td>\n      <td>{15: 58, 25: 45}</td>\n    </tr>\n    <tr>\n      <th>1</th>\n      <td>NaN</td>\n      <td>2018/10/30</td>\n      <td>NaN</td>\n      <td>40</td>\n      <td>DEERFOOT TR SE RAMP</td>\n      <td>MULTILINESTRING ((-114.034764352652 50.9962241...</td>\n      <td>{'type': 'MultiLineString', 'coordinates': [[5...</td>\n      <td>{46: 52}</td>\n    </tr>\n    <tr>\n      <th>2</th>\n      <td>S</td>\n      <td>2018/10/23</td>\n      <td>NaN</td>\n      <td>60</td>\n      <td>HARVEST HILLS BV N</td>\n      <td>MULTILINESTRING ((-114.068566084381 51.1667137...</td>\n      <td>{'type': 'MultiLineString', 'coordinates': [[5...</td>\n      <td>{85: 30}</td>\n    </tr>\n    <tr>\n      <th>3</th>\n      <td>N</td>\n      <td>2019/10/09</td>\n      <td>4.37</td>\n      <td>70</td>\n      <td>CROWCHILD TR SW</td>\n      <td>MULTILINESTRING ((-114.117825190175 51.0050022...</td>\n      <td>{'type': 'MultiLineString', 'coordinates': [[5...</td>\n      <td>{44: 25}</td>\n    </tr>\n    <tr>\n      <th>4</th>\n      <td>NaN</td>\n      <td>2018/10/30</td>\n      <td>NaN</td>\n      <td>80</td>\n      <td>STONEY TR NE RAMP</td>\n      <td>MULTILINESTRING ((-113.918850808952 51.0624482...</td>\n      <td>{'type': 'MultiLineString', 'coordinates': [[5...</td>\n      <td>{58: 11, 68: 30}</td>\n    </tr>\n    <tr>\n      <th>...</th>\n      <td>...</td>\n      <td>...</td>\n      <td>...</td>\n      <td>...</td>\n      <td>...</td>\n      <td>...</td>\n      <td>...</td>\n      <td>...</td>\n    </tr>\n    <tr>\n      <th>1447</th>\n      <td>S</td>\n      <td>2018/10/29</td>\n      <td>NaN</td>\n      <td>80</td>\n      <td>STONEY TR NW</td>\n      <td>MULTILINESTRING ((-114.233241861102 51.0915352...</td>\n      <td>{'type': 'MultiLineString', 'coordinates': [[5...</td>\n      <td>{61: 18}</td>\n    </tr>\n    <tr>\n      <th>1448</th>\n      <td>N/S</td>\n      <td>2018/10/31</td>\n      <td>NaN</td>\n      <td>70</td>\n      <td>37 ST SW</td>\n      <td>MULTILINESTRING ((-114.140309947853 50.9177590...</td>\n      <td>{'type': 'MultiLineString', 'coordinates': [[5...</td>\n      <td>{23: 3}</td>\n    </tr>\n    <tr>\n      <th>1449</th>\n      <td>W</td>\n      <td>2018/11/02</td>\n      <td>NaN</td>\n      <td>60</td>\n      <td>SUN VALLEY BV SE</td>\n      <td>MULTILINESTRING ((-114.030210417675 50.9043134...</td>\n      <td>{'type': 'MultiLineString', 'coordinates': [[5...</td>\n      <td>{16: 48}</td>\n    </tr>\n    <tr>\n      <th>1450</th>\n      <td>E</td>\n      <td>NaN</td>\n      <td>1.85</td>\n      <td>60</td>\n      <td>JOHN LAURIE BV</td>\n      <td>MULTILINESTRING ((-114.177870798005 51.1241752...</td>\n      <td>{'type': 'MultiLineString', 'coordinates': [[5...</td>\n      <td>{73: 11, 72: 129}</td>\n    </tr>\n    <tr>\n      <th>1451</th>\n      <td>NaN</td>\n      <td>2018/12/06</td>\n      <td>NaN</td>\n      <td>60</td>\n      <td>STONEY TR SE RAMP</td>\n      <td>MULTILINESTRING ((-113.988645145196 50.8984752...</td>\n      <td>{'type': 'MultiLineString', 'coordinates': [[5...</td>\n      <td>{17: 16}</td>\n    </tr>\n  </tbody>\n</table>\n<p>1452 rows × 8 columns</p>\n</div>"
     },
     "metadata": {},
     "execution_count": 5
    }
   ],
   "source": []
  }
 ]
}