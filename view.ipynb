{
 "metadata": {
  "language_info": {
   "codemirror_mode": {
    "name": "ipython",
    "version": 3
   },
   "file_extension": ".py",
   "mimetype": "text/x-python",
   "name": "python",
   "nbconvert_exporter": "python",
   "pygments_lexer": "ipython3",
   "version": "3.7.7-final"
  },
  "orig_nbformat": 2,
  "kernelspec": {
   "name": "python37764bitminiconda3conda325cb6264bba41129d04ca3e5f9f112e",
   "display_name": "Python 3.7.7 64-bit ('miniconda3': conda)"
  }
 },
 "nbformat": 4,
 "nbformat_minor": 2,
 "cells": [
  {
   "cell_type": "markdown",
   "metadata": {},
   "source": [
    "# ENSF 592 - FINAL PROJECT\n",
    "## Calgary Accident Analysis\n",
    "### By: Mike Lasby\n",
    "\n",
    "# README\n",
    "This notebook is the entry point of our project and functions as the View. The notebook depends on the Controller.py class to retrieve and manipulate data from the underlying data models stored as seperate .py scripts. "
   ]
  },
  {
   "cell_type": "code",
   "execution_count": 1,
   "metadata": {},
   "outputs": [],
   "source": [
    "%matplotlib inline\n",
    "import numpy as np\n",
    "import pandas as pd\n",
    "import seaborn as sns\n",
    "from geojson import Point, MultiLineString\n",
    "import geopandas as gpd\n",
    "import re\n",
    "import math\n",
    "import folium\n",
    "import matplotlib.pyplot as plt\n",
    "from controller import Controller"
   ]
  },
  {
   "cell_type": "code",
   "execution_count": 2,
   "metadata": {
    "tags": []
   },
   "outputs": [
    {
     "output_type": "stream",
     "name": "stdout",
     "text": "Loading Data...\nGetting weather at yyc for month 1 in 2018\nGetting weather at yyc for month 2 in 2018\nGetting weather at yyc for month 3 in 2018\nGetting weather at yyc for month 4 in 2018\nGetting weather at yyc for month 5 in 2018\nGetting weather at yyc for month 6 in 2018\nGetting weather at yyc for month 7 in 2018\nGetting weather at yyc for month 8 in 2018\nGetting weather at yyc for month 9 in 2018\nGetting weather at yyc for month 10 in 2018\nGetting weather at yyc for month 11 in 2018\nGetting weather at yyc for month 12 in 2018\n...Data Loaded.\nAdding geometry column to speeds from multiline. Flip coords? True\nAdding geometry column to volumes from multilinestring. Flip coords? True\nAdding geometry column to incidents from location. Flip coords? False\nAdding geometry column to cameras from None. Flip coords? True\nAdding geometry column to signals from Point. Flip coords? True\nAdding geometry column to signs from POINT. Flip coords? True\nAdding geometry column to cells from cell_bounds. Flip coords? False\nAdding cell column to speeds\nAdding cell column to volumes\nAdding cell column to incidents\nAdding cell column to cameras\nAdding cell column to signals\nAdding cell column to signs\n"
    }
   ],
   "source": [
    "ctrl = Controller()\n",
    "ctrl.load_data()\n",
    "ctrl.add_geo_cols()\n",
    "ctrl.add_cell_col()"
   ]
  },
  {
   "cell_type": "code",
   "execution_count": 3,
   "metadata": {},
   "outputs": [
    {
     "output_type": "display_data",
     "data": {
      "text/plain": "                                           INCIDENT INFO  \\\n875           Southbound Deerfoot Trail and 16 Avenue NE   \n2169                     36 Avenue and Burnsland Road SE   \n3262   Falconridge Boulevard at Castleridge Boulevard NE   \n4559          Southbound Deerfoot Trail and 16 Avenue NE   \n4695           Spruce Meadows Trail and Macleod Trail SE   \n...                                                  ...   \n17407  Westbound 16 Avenue approaching Deerfoot Trail NE   \n17408   Southbound Crowchild Trail at Kensington Road NW   \n17409                          52 Street and 5 Avenue SE   \n17410            Eastbound Memorial Drive at 8 Street NW   \n17411                           5 Avenue and 6 Street SW   \n\n                                          DESCRIPTION                START_DT  \\\n875                           Multi-vehicle incident.  05/07/2018 06:30:02 PM   \n2169                            Two vehicle incident.  05/25/2018 02:53:33 PM   \n3262                            Two vehicle incident.  05/25/2018 03:29:49 PM   \n4559                          Multi-vehicle incident.  05/07/2018 06:30:02 PM   \n4695                            Two vehicle incident.  05/07/2018 07:33:14 PM   \n...                                               ...                     ...   \n17407   Two vehicle incident. Blocking the left lane.  12/31/2018 05:47:41 PM   \n17408  Two vehicle incident.  Blocking multiple lanes  12/31/2018 05:59:28 PM   \n17409                         Multi-vehicle incident.  12/31/2018 06:42:53 PM   \n17410                           Two vehicle incident.  12/31/2018 08:00:47 PM   \n17411                           Two vehicle incident.  12/31/2018 08:55:03 PM   \n\n                  MODIFIED_DT QUADRANT   Longitude   Latitude  \\\n875    05/07/2018 07:07:04 PM       NE -114.028193  51.065699   \n2169   05/25/2018 03:31:13 PM       SE -114.059276  51.021205   \n3262   05/25/2018 04:27:18 PM       NE -113.958764  51.099956   \n4559   05/07/2018 06:31:50 PM       NE -114.028183  51.065739   \n4695   05/07/2018 07:44:52 PM       SE -114.061310  50.892629   \n...                       ...      ...         ...        ...   \n17407  12/31/2018 05:49:08 PM       NE -114.020057  51.067053   \n17408  12/31/2018 06:16:01 PM       NW -114.118501  51.052492   \n17409  12/31/2018 06:43:50 PM       SE -113.956571  51.049133   \n17410  12/31/2018 08:02:03 PM       NW -114.079493  51.054765   \n17411  12/31/2018 08:55:59 PM       SW -114.076108  51.048764   \n\n                                   location  Count  \\\n875     (51.06569942197, -114.028192583328)      1   \n2169   (51.021204781033, -114.059276077804)      1   \n3262   (51.099956277275, -113.958763979051)      1   \n4559   (51.065739428335, -114.028183476698)      1   \n4695    (50.892628633145, -114.06131023126)      1   \n...                                     ...    ...   \n17407  (51.067052792253, -114.020056658954)      1   \n17408   (51.052492333505, -114.11850138363)      1   \n17409  (51.049133273898, -113.956570563768)      1   \n17410   (51.05476543077, -114.079492649993)      1   \n17411  (51.048763537207, -114.076107590207)      1   \n\n                                                      id                date  \\\n875    2018-05-07T17:30:0251.0656994219703-114.028192... 2018-05-07 18:30:02   \n2169     2018052514533351.0212047810334-114.059276077804 2018-05-25 14:53:33   \n3262     2018052515294951.0999562772749-113.958763979051 2018-05-25 15:29:49   \n4559   2018-05-07T17:30:0251.0657394283348-114.028183... 2018-05-07 18:30:02   \n4695   2018-05-07T18:33:1450.8926286331446-114.061310... 2018-05-07 19:33:14   \n...                                                  ...                 ...   \n17407    2018123117474151.0670527922526-114.020056658954 2018-12-31 17:47:41   \n17408     2018123117592851.0524923335053-114.11850138363 2018-12-31 17:59:28   \n17409     2018123118425351.049133273898-113.956570563768 2018-12-31 18:42:53   \n17410    2018123120004751.0547654307696-114.079492649993 2018-12-31 20:00:47   \n17411     2018123120550351.048763537207-114.076107590207 2018-12-31 20:55:03   \n\n                                                geometry  cell  \n875    {'type': 'Point', 'coordinates': [51.065699, -...    66  \n2169   {'type': 'Point', 'coordinates': [51.021205, -...    45  \n3262   {'type': 'Point', 'coordinates': [51.099956, -...    67  \n4559   {'type': 'Point', 'coordinates': [51.065739, -...    66  \n4695   {'type': 'Point', 'coordinates': [50.892629, -...    15  \n...                                                  ...   ...  \n17407  {'type': 'Point', 'coordinates': [51.067053, -...    66  \n17408  {'type': 'Point', 'coordinates': [51.052492, -...    54  \n17409  {'type': 'Point', 'coordinates': [51.049133, -...    57  \n17410  {'type': 'Point', 'coordinates': [51.054765, -...    55  \n17411  {'type': 'Point', 'coordinates': [51.048764, -...    55  \n\n[6567 rows x 13 columns]",
      "text/html": "<div>\n<style scoped>\n    .dataframe tbody tr th:only-of-type {\n        vertical-align: middle;\n    }\n\n    .dataframe tbody tr th {\n        vertical-align: top;\n    }\n\n    .dataframe thead th {\n        text-align: right;\n    }\n</style>\n<table border=\"1\" class=\"dataframe\">\n  <thead>\n    <tr style=\"text-align: right;\">\n      <th></th>\n      <th>INCIDENT INFO</th>\n      <th>DESCRIPTION</th>\n      <th>START_DT</th>\n      <th>MODIFIED_DT</th>\n      <th>QUADRANT</th>\n      <th>Longitude</th>\n      <th>Latitude</th>\n      <th>location</th>\n      <th>Count</th>\n      <th>id</th>\n      <th>date</th>\n      <th>geometry</th>\n      <th>cell</th>\n    </tr>\n  </thead>\n  <tbody>\n    <tr>\n      <th>875</th>\n      <td>Southbound Deerfoot Trail and 16 Avenue NE</td>\n      <td>Multi-vehicle incident.</td>\n      <td>05/07/2018 06:30:02 PM</td>\n      <td>05/07/2018 07:07:04 PM</td>\n      <td>NE</td>\n      <td>-114.028193</td>\n      <td>51.065699</td>\n      <td>(51.06569942197, -114.028192583328)</td>\n      <td>1</td>\n      <td>2018-05-07T17:30:0251.0656994219703-114.028192...</td>\n      <td>2018-05-07 18:30:02</td>\n      <td>{'type': 'Point', 'coordinates': [51.065699, -...</td>\n      <td>66</td>\n    </tr>\n    <tr>\n      <th>2169</th>\n      <td>36 Avenue and Burnsland Road SE</td>\n      <td>Two vehicle incident.</td>\n      <td>05/25/2018 02:53:33 PM</td>\n      <td>05/25/2018 03:31:13 PM</td>\n      <td>SE</td>\n      <td>-114.059276</td>\n      <td>51.021205</td>\n      <td>(51.021204781033, -114.059276077804)</td>\n      <td>1</td>\n      <td>2018052514533351.0212047810334-114.059276077804</td>\n      <td>2018-05-25 14:53:33</td>\n      <td>{'type': 'Point', 'coordinates': [51.021205, -...</td>\n      <td>45</td>\n    </tr>\n    <tr>\n      <th>3262</th>\n      <td>Falconridge Boulevard at Castleridge Boulevard NE</td>\n      <td>Two vehicle incident.</td>\n      <td>05/25/2018 03:29:49 PM</td>\n      <td>05/25/2018 04:27:18 PM</td>\n      <td>NE</td>\n      <td>-113.958764</td>\n      <td>51.099956</td>\n      <td>(51.099956277275, -113.958763979051)</td>\n      <td>1</td>\n      <td>2018052515294951.0999562772749-113.958763979051</td>\n      <td>2018-05-25 15:29:49</td>\n      <td>{'type': 'Point', 'coordinates': [51.099956, -...</td>\n      <td>67</td>\n    </tr>\n    <tr>\n      <th>4559</th>\n      <td>Southbound Deerfoot Trail and 16 Avenue NE</td>\n      <td>Multi-vehicle incident.</td>\n      <td>05/07/2018 06:30:02 PM</td>\n      <td>05/07/2018 06:31:50 PM</td>\n      <td>NE</td>\n      <td>-114.028183</td>\n      <td>51.065739</td>\n      <td>(51.065739428335, -114.028183476698)</td>\n      <td>1</td>\n      <td>2018-05-07T17:30:0251.0657394283348-114.028183...</td>\n      <td>2018-05-07 18:30:02</td>\n      <td>{'type': 'Point', 'coordinates': [51.065739, -...</td>\n      <td>66</td>\n    </tr>\n    <tr>\n      <th>4695</th>\n      <td>Spruce Meadows Trail and Macleod Trail SE</td>\n      <td>Two vehicle incident.</td>\n      <td>05/07/2018 07:33:14 PM</td>\n      <td>05/07/2018 07:44:52 PM</td>\n      <td>SE</td>\n      <td>-114.061310</td>\n      <td>50.892629</td>\n      <td>(50.892628633145, -114.06131023126)</td>\n      <td>1</td>\n      <td>2018-05-07T18:33:1450.8926286331446-114.061310...</td>\n      <td>2018-05-07 19:33:14</td>\n      <td>{'type': 'Point', 'coordinates': [50.892629, -...</td>\n      <td>15</td>\n    </tr>\n    <tr>\n      <th>...</th>\n      <td>...</td>\n      <td>...</td>\n      <td>...</td>\n      <td>...</td>\n      <td>...</td>\n      <td>...</td>\n      <td>...</td>\n      <td>...</td>\n      <td>...</td>\n      <td>...</td>\n      <td>...</td>\n      <td>...</td>\n      <td>...</td>\n    </tr>\n    <tr>\n      <th>17407</th>\n      <td>Westbound 16 Avenue approaching Deerfoot Trail NE</td>\n      <td>Two vehicle incident. Blocking the left lane.</td>\n      <td>12/31/2018 05:47:41 PM</td>\n      <td>12/31/2018 05:49:08 PM</td>\n      <td>NE</td>\n      <td>-114.020057</td>\n      <td>51.067053</td>\n      <td>(51.067052792253, -114.020056658954)</td>\n      <td>1</td>\n      <td>2018123117474151.0670527922526-114.020056658954</td>\n      <td>2018-12-31 17:47:41</td>\n      <td>{'type': 'Point', 'coordinates': [51.067053, -...</td>\n      <td>66</td>\n    </tr>\n    <tr>\n      <th>17408</th>\n      <td>Southbound Crowchild Trail at Kensington Road NW</td>\n      <td>Two vehicle incident.  Blocking multiple lanes</td>\n      <td>12/31/2018 05:59:28 PM</td>\n      <td>12/31/2018 06:16:01 PM</td>\n      <td>NW</td>\n      <td>-114.118501</td>\n      <td>51.052492</td>\n      <td>(51.052492333505, -114.11850138363)</td>\n      <td>1</td>\n      <td>2018123117592851.0524923335053-114.11850138363</td>\n      <td>2018-12-31 17:59:28</td>\n      <td>{'type': 'Point', 'coordinates': [51.052492, -...</td>\n      <td>54</td>\n    </tr>\n    <tr>\n      <th>17409</th>\n      <td>52 Street and 5 Avenue SE</td>\n      <td>Multi-vehicle incident.</td>\n      <td>12/31/2018 06:42:53 PM</td>\n      <td>12/31/2018 06:43:50 PM</td>\n      <td>SE</td>\n      <td>-113.956571</td>\n      <td>51.049133</td>\n      <td>(51.049133273898, -113.956570563768)</td>\n      <td>1</td>\n      <td>2018123118425351.049133273898-113.956570563768</td>\n      <td>2018-12-31 18:42:53</td>\n      <td>{'type': 'Point', 'coordinates': [51.049133, -...</td>\n      <td>57</td>\n    </tr>\n    <tr>\n      <th>17410</th>\n      <td>Eastbound Memorial Drive at 8 Street NW</td>\n      <td>Two vehicle incident.</td>\n      <td>12/31/2018 08:00:47 PM</td>\n      <td>12/31/2018 08:02:03 PM</td>\n      <td>NW</td>\n      <td>-114.079493</td>\n      <td>51.054765</td>\n      <td>(51.05476543077, -114.079492649993)</td>\n      <td>1</td>\n      <td>2018123120004751.0547654307696-114.079492649993</td>\n      <td>2018-12-31 20:00:47</td>\n      <td>{'type': 'Point', 'coordinates': [51.054765, -...</td>\n      <td>55</td>\n    </tr>\n    <tr>\n      <th>17411</th>\n      <td>5 Avenue and 6 Street SW</td>\n      <td>Two vehicle incident.</td>\n      <td>12/31/2018 08:55:03 PM</td>\n      <td>12/31/2018 08:55:59 PM</td>\n      <td>SW</td>\n      <td>-114.076108</td>\n      <td>51.048764</td>\n      <td>(51.048763537207, -114.076107590207)</td>\n      <td>1</td>\n      <td>2018123120550351.048763537207-114.076107590207</td>\n      <td>2018-12-31 20:55:03</td>\n      <td>{'type': 'Point', 'coordinates': [51.048764, -...</td>\n      <td>55</td>\n    </tr>\n  </tbody>\n</table>\n<p>6567 rows × 13 columns</p>\n</div>"
     },
     "metadata": {}
    }
   ],
   "source": [
    "display(ctrl.get_frame('incidents'))"
   ]
  },
  {
   "cell_type": "code",
   "execution_count": null,
   "metadata": {},
   "outputs": [],
   "source": []
  },
  {
   "cell_type": "code",
   "execution_count": 4,
   "metadata": {
    "tags": []
   },
   "outputs": [
    {
     "output_type": "stream",
     "name": "stdout",
     "text": "[nan, nan, nan, nan, nan, 59.673202614379086, 66.20689655172414, 80.44554455445545, nan, nan, nan, nan, 70.0, 70.45454545454545, 62.04255319148936, 63.6741519350215, 71.49141630901288, 67.21440397350993, 70.76843198338526, 76.34146341463415, nan, nan, nan, 72.1853388658368, 64.78494623655914, 62.06577119036591, 66.55727155727156, 69.90340620233859, 64.29906542056075, 58.07531380753138, nan, nan, nan, 60.0, 62.34993614303959, 62.788844621513945, 68.22074566260613, 70.02633889376646, 72.98299845440495, nan, nan, 73.96825396825396, 65.70743405275779, 73.4090909090909, 59.4337899543379, 58.44332175560467, 70.82397003745318, 62.31227651966627, 72.13842975206612, 80.0, nan, 60.0, 61.02028639618138, 66.2549537648613, 57.83313325330132, 44.25901201602136, 74.37106056453823, 75.69165143205363, 69.5031055900621, 80.0, 110.0, 70.859375, 63.483365949119374, 65.62115621156211, 61.7911227154047, 61.484848484848484, 67.25333333333333, 59.10411622276029, 71.12003780718337, nan, nan, 61.75438596491228, 64.86463257412979, 67.98728813559322, 71.529933481153, 70.43478260869566, 67.54098360655738, 61.294765840220386, 76.88504326328801, nan, nan, 64.94252873563218, 64.84554815263476, 63.734756097560975, 65.63218390804597, 63.56513676402411, 72.75438596491227, 68.57015192135836, 83.72116349047141, nan, nan, 75.07936507936508, 71.1842105263158, 63.63636363636363, 60.0, 75.04950495049505, 88.55238095238096, 69.6229802513465, 98.83333333333333, nan]\n"
    }
   ],
   "source": [
    "speeds = ctrl.get_frame('speeds')\n",
    "cells = ctrl.get_frame('cells')\n",
    "# display(speeds)\n",
    "# display(cells)\n",
    "\n",
    "\n",
    "def get_avg_speed(cell_idx):\n",
    "    # print(f'testing cell {cell_idx}')\n",
    "    speed_sum = 0\n",
    "    num_points = 0 \n",
    "    for idx, row in speeds[['cell', 'SPEED']].iterrows():\n",
    "        cell_dict = row['cell']\n",
    "        speed = row['SPEED']\n",
    "        if cell_idx in cell_dict:\n",
    "            # print(f'{cell_idx} is in {cell_dict}')\n",
    "            these_points = cell_dict[cell_idx]\n",
    "            # print(f'these points = {these_points}')\n",
    "            speed_sum += speed*these_points\n",
    "            num_points += these_points\n",
    "    if num_points == 0:\n",
    "        return np.nan\n",
    "        # return 0\n",
    "    return speed_sum/num_points\n",
    "\n",
    "i = 0 \n",
    "avg_speed = []\n",
    "while i < 100: \n",
    "    avg_speed.append(get_avg_speed(i))\n",
    "    i+=1\n",
    "print(avg_speed)\n",
    "cells['avg_speed'] = avg_speed\n"
   ]
  },
  {
   "cell_type": "code",
   "execution_count": 5,
   "metadata": {},
   "outputs": [
    {
     "output_type": "display_data",
     "data": {
      "text/plain": "44.25901201602136"
     },
     "metadata": {}
    }
   ],
   "source": [
    "display(cells.iloc[55].avg_speed)"
   ]
  },
  {
   "cell_type": "code",
   "execution_count": 6,
   "metadata": {
    "tags": []
   },
   "outputs": [
    {
     "output_type": "stream",
     "name": "stdout",
     "text": "[0, 0, 0, 0, 0, 7, 17, 13, 0, 0, 0, 0, 1, 6, 50, 111, 27, 104, 35, 2, 0, 0, 0, 9, 46, 154, 96, 93, 27, 0, 0, 0, 0, 0, 88, 225, 149, 104, 38, 0, 0, 1, 15, 69, 303, 307, 297, 63, 36, 0, 0, 3, 45, 107, 326, 465, 362, 259, 84, 5, 5, 14, 44, 123, 161, 238, 354, 290, 127, 0, 0, 26, 67, 93, 23, 161, 25, 80, 81, 0, 0, 10, 32, 84, 79, 94, 55, 63, 26, 0, 0, 0, 0, 11, 2, 5, 22, 20, 1, 0]\n"
    },
    {
     "output_type": "display_data",
     "data": {
      "text/plain": "                                                cells  \\\n55  <folium.vector_layers.Rectangle object at 0x7f...   \n56  <folium.vector_layers.Rectangle object at 0x7f...   \n66  <folium.vector_layers.Rectangle object at 0x7f...   \n54  <folium.vector_layers.Rectangle object at 0x7f...   \n45  <folium.vector_layers.Rectangle object at 0x7f...   \n..                                                ...   \n39  <folium.vector_layers.Rectangle object at 0x7f...   \n40  <folium.vector_layers.Rectangle object at 0x7f...   \n49  <folium.vector_layers.Rectangle object at 0x7f...   \n1   <folium.vector_layers.Rectangle object at 0x7f...   \n99  <folium.vector_layers.Rectangle object at 0x7f...   \n\n                                          cell_bounds  avg_speed  \\\n55  [[51.027623500000004, -114.0878505], [51.06458...  44.259012   \n56  [[51.027623500000004, -114.0422614], [51.06458...  74.371061   \n66  [[51.0645838, -114.0422614], [51.1015441, -113...  67.253333   \n54  [[51.027623500000004, -114.1334396], [51.06458...  57.833133   \n45  [[50.9906632, -114.0878505], [51.0276235000000...  58.443322   \n..                                                ...        ...   \n39  [[50.953702899999996, -113.9054941], [50.99066...        NaN   \n40  [[50.9906632, -114.315796], [51.02762350000000...        NaN   \n49  [[50.9906632, -113.9054941], [51.0276235000000...  80.000000   \n1   [[50.842822, -114.2702069], [50.8797823, -114....        NaN   \n99  [[51.175464700000006, -113.9054941], [51.21242...        NaN   \n\n    incident_count  \n55             465  \n56             362  \n66             354  \n54             326  \n45             307  \n..             ...  \n39               0  \n40               0  \n49               0  \n1                0  \n99               0  \n\n[100 rows x 4 columns]",
      "text/html": "<div>\n<style scoped>\n    .dataframe tbody tr th:only-of-type {\n        vertical-align: middle;\n    }\n\n    .dataframe tbody tr th {\n        vertical-align: top;\n    }\n\n    .dataframe thead th {\n        text-align: right;\n    }\n</style>\n<table border=\"1\" class=\"dataframe\">\n  <thead>\n    <tr style=\"text-align: right;\">\n      <th></th>\n      <th>cells</th>\n      <th>cell_bounds</th>\n      <th>avg_speed</th>\n      <th>incident_count</th>\n    </tr>\n  </thead>\n  <tbody>\n    <tr>\n      <th>55</th>\n      <td>&lt;folium.vector_layers.Rectangle object at 0x7f...</td>\n      <td>[[51.027623500000004, -114.0878505], [51.06458...</td>\n      <td>44.259012</td>\n      <td>465</td>\n    </tr>\n    <tr>\n      <th>56</th>\n      <td>&lt;folium.vector_layers.Rectangle object at 0x7f...</td>\n      <td>[[51.027623500000004, -114.0422614], [51.06458...</td>\n      <td>74.371061</td>\n      <td>362</td>\n    </tr>\n    <tr>\n      <th>66</th>\n      <td>&lt;folium.vector_layers.Rectangle object at 0x7f...</td>\n      <td>[[51.0645838, -114.0422614], [51.1015441, -113...</td>\n      <td>67.253333</td>\n      <td>354</td>\n    </tr>\n    <tr>\n      <th>54</th>\n      <td>&lt;folium.vector_layers.Rectangle object at 0x7f...</td>\n      <td>[[51.027623500000004, -114.1334396], [51.06458...</td>\n      <td>57.833133</td>\n      <td>326</td>\n    </tr>\n    <tr>\n      <th>45</th>\n      <td>&lt;folium.vector_layers.Rectangle object at 0x7f...</td>\n      <td>[[50.9906632, -114.0878505], [51.0276235000000...</td>\n      <td>58.443322</td>\n      <td>307</td>\n    </tr>\n    <tr>\n      <th>...</th>\n      <td>...</td>\n      <td>...</td>\n      <td>...</td>\n      <td>...</td>\n    </tr>\n    <tr>\n      <th>39</th>\n      <td>&lt;folium.vector_layers.Rectangle object at 0x7f...</td>\n      <td>[[50.953702899999996, -113.9054941], [50.99066...</td>\n      <td>NaN</td>\n      <td>0</td>\n    </tr>\n    <tr>\n      <th>40</th>\n      <td>&lt;folium.vector_layers.Rectangle object at 0x7f...</td>\n      <td>[[50.9906632, -114.315796], [51.02762350000000...</td>\n      <td>NaN</td>\n      <td>0</td>\n    </tr>\n    <tr>\n      <th>49</th>\n      <td>&lt;folium.vector_layers.Rectangle object at 0x7f...</td>\n      <td>[[50.9906632, -113.9054941], [51.0276235000000...</td>\n      <td>80.000000</td>\n      <td>0</td>\n    </tr>\n    <tr>\n      <th>1</th>\n      <td>&lt;folium.vector_layers.Rectangle object at 0x7f...</td>\n      <td>[[50.842822, -114.2702069], [50.8797823, -114....</td>\n      <td>NaN</td>\n      <td>0</td>\n    </tr>\n    <tr>\n      <th>99</th>\n      <td>&lt;folium.vector_layers.Rectangle object at 0x7f...</td>\n      <td>[[51.175464700000006, -113.9054941], [51.21242...</td>\n      <td>NaN</td>\n      <td>0</td>\n    </tr>\n  </tbody>\n</table>\n<p>100 rows × 4 columns</p>\n</div>"
     },
     "metadata": {}
    }
   ],
   "source": [
    "\n",
    "\n",
    "\n",
    "def count_incidents(cell_idx):\n",
    "    incidents = ctrl.get_frame('incidents')\n",
    "    # print(f'testing cell {cell_idx}')\n",
    "    counter = 0\n",
    "    for _, cell in incidents['cell'].items(): \n",
    "        if cell_idx == cell:\n",
    "            counter +=1\n",
    "    return counter\n",
    "\n",
    "i = 0 \n",
    "inc_count = []\n",
    "\n",
    "while i<100: \n",
    "    inc_count.append(count_incidents(i))\n",
    "    i+=1\n",
    "print(inc_count)\n",
    "cells['incident_count'] = inc_count\n",
    "\n",
    "display(cells.sort_values(by='incident_count', ascending=False))"
   ]
  },
  {
   "cell_type": "code",
   "execution_count": 7,
   "metadata": {},
   "outputs": [
    {
     "output_type": "display_data",
     "data": {
      "text/plain": "      Longitude (x)  Latitude (y)    Station Name  Climate ID  \\\n0           -114.01         51.12  CALGARY INTL A     3031092   \n1           -114.01         51.12  CALGARY INTL A     3031092   \n2           -114.01         51.12  CALGARY INTL A     3031092   \n3           -114.01         51.12  CALGARY INTL A     3031092   \n4           -114.01         51.12  CALGARY INTL A     3031092   \n...             ...           ...             ...         ...   \n8746        -114.01         51.12  CALGARY INTL A     3031092   \n8747        -114.01         51.12  CALGARY INTL A     3031092   \n8748        -114.01         51.12  CALGARY INTL A     3031092   \n8749        -114.01         51.12  CALGARY INTL A     3031092   \n8750        -114.01         51.12  CALGARY INTL A     3031092   \n\n             Date/Time  Year  Month  Day   Time  Temp (C)  ...  \\\n0     2018-01-01 06:00  2018      1    1  06:00     -26.6  ...   \n1     2018-01-01 07:00  2018      1    1  07:00     -22.7  ...   \n2     2018-01-01 08:00  2018      1    1  08:00     -22.3  ...   \n3     2018-01-01 09:00  2018      1    1  09:00     -19.8  ...   \n4     2018-01-01 10:00  2018      1    1  10:00     -18.0  ...   \n...                ...   ...    ...  ...    ...       ...  ...   \n8746  2018-12-31 16:00  2018     12   31  16:00      -9.0  ...   \n8747  2018-12-31 17:00  2018     12   31  17:00     -11.5  ...   \n8748  2018-12-31 18:00  2018     12   31  18:00     -11.9  ...   \n8749  2018-12-31 19:00  2018     12   31  19:00     -12.8  ...   \n8750  2018-12-31 20:00  2018     12   31  20:00     -12.2  ...   \n\n      Visibility Flag  Stn Press (kPa)  Stn Press Flag  Hmdx  Hmdx Flag  \\\n0                 NaN            89.89             NaN   NaN        NaN   \n1                 NaN            89.88             NaN   NaN        NaN   \n2                 NaN            89.83             NaN   NaN        NaN   \n3                 NaN            89.81             NaN   NaN        NaN   \n4                 NaN            89.78             NaN   NaN        NaN   \n...               ...              ...             ...   ...        ...   \n8746              NaN            89.56             NaN   NaN        NaN   \n8747              NaN            89.47             NaN   NaN        NaN   \n8748              NaN            89.34             NaN   NaN        NaN   \n8749              NaN            89.31             NaN   NaN        NaN   \n8750              NaN            89.25             NaN   NaN        NaN   \n\n      Wind Chill  Wind Chill Flag       Weather                date  incidents  \n0          -29.0              NaN           NaN 2018-01-01 06:00:00          2  \n1          -28.0              NaN           NaN 2018-01-01 07:00:00          0  \n2          -29.0              NaN         Clear 2018-01-01 08:00:00          0  \n3          -27.0              NaN           NaN 2018-01-01 09:00:00          3  \n4          -27.0              NaN           NaN 2018-01-01 10:00:00          1  \n...          ...              ...           ...                 ...        ...  \n8746       -16.0              NaN           NaN 2018-12-31 16:00:00          1  \n8747       -18.0              NaN  Mainly Clear 2018-12-31 17:00:00          2  \n8748       -18.0              NaN           NaN 2018-12-31 18:00:00          1  \n8749       -19.0              NaN           NaN 2018-12-31 19:00:00          0  \n8750       -17.0              NaN  Mainly Clear 2018-12-31 20:00:00          2  \n\n[8751 rows x 30 columns]",
      "text/html": "<div>\n<style scoped>\n    .dataframe tbody tr th:only-of-type {\n        vertical-align: middle;\n    }\n\n    .dataframe tbody tr th {\n        vertical-align: top;\n    }\n\n    .dataframe thead th {\n        text-align: right;\n    }\n</style>\n<table border=\"1\" class=\"dataframe\">\n  <thead>\n    <tr style=\"text-align: right;\">\n      <th></th>\n      <th>Longitude (x)</th>\n      <th>Latitude (y)</th>\n      <th>Station Name</th>\n      <th>Climate ID</th>\n      <th>Date/Time</th>\n      <th>Year</th>\n      <th>Month</th>\n      <th>Day</th>\n      <th>Time</th>\n      <th>Temp (C)</th>\n      <th>...</th>\n      <th>Visibility Flag</th>\n      <th>Stn Press (kPa)</th>\n      <th>Stn Press Flag</th>\n      <th>Hmdx</th>\n      <th>Hmdx Flag</th>\n      <th>Wind Chill</th>\n      <th>Wind Chill Flag</th>\n      <th>Weather</th>\n      <th>date</th>\n      <th>incidents</th>\n    </tr>\n  </thead>\n  <tbody>\n    <tr>\n      <th>0</th>\n      <td>-114.01</td>\n      <td>51.12</td>\n      <td>CALGARY INTL A</td>\n      <td>3031092</td>\n      <td>2018-01-01 06:00</td>\n      <td>2018</td>\n      <td>1</td>\n      <td>1</td>\n      <td>06:00</td>\n      <td>-26.6</td>\n      <td>...</td>\n      <td>NaN</td>\n      <td>89.89</td>\n      <td>NaN</td>\n      <td>NaN</td>\n      <td>NaN</td>\n      <td>-29.0</td>\n      <td>NaN</td>\n      <td>NaN</td>\n      <td>2018-01-01 06:00:00</td>\n      <td>2</td>\n    </tr>\n    <tr>\n      <th>1</th>\n      <td>-114.01</td>\n      <td>51.12</td>\n      <td>CALGARY INTL A</td>\n      <td>3031092</td>\n      <td>2018-01-01 07:00</td>\n      <td>2018</td>\n      <td>1</td>\n      <td>1</td>\n      <td>07:00</td>\n      <td>-22.7</td>\n      <td>...</td>\n      <td>NaN</td>\n      <td>89.88</td>\n      <td>NaN</td>\n      <td>NaN</td>\n      <td>NaN</td>\n      <td>-28.0</td>\n      <td>NaN</td>\n      <td>NaN</td>\n      <td>2018-01-01 07:00:00</td>\n      <td>0</td>\n    </tr>\n    <tr>\n      <th>2</th>\n      <td>-114.01</td>\n      <td>51.12</td>\n      <td>CALGARY INTL A</td>\n      <td>3031092</td>\n      <td>2018-01-01 08:00</td>\n      <td>2018</td>\n      <td>1</td>\n      <td>1</td>\n      <td>08:00</td>\n      <td>-22.3</td>\n      <td>...</td>\n      <td>NaN</td>\n      <td>89.83</td>\n      <td>NaN</td>\n      <td>NaN</td>\n      <td>NaN</td>\n      <td>-29.0</td>\n      <td>NaN</td>\n      <td>Clear</td>\n      <td>2018-01-01 08:00:00</td>\n      <td>0</td>\n    </tr>\n    <tr>\n      <th>3</th>\n      <td>-114.01</td>\n      <td>51.12</td>\n      <td>CALGARY INTL A</td>\n      <td>3031092</td>\n      <td>2018-01-01 09:00</td>\n      <td>2018</td>\n      <td>1</td>\n      <td>1</td>\n      <td>09:00</td>\n      <td>-19.8</td>\n      <td>...</td>\n      <td>NaN</td>\n      <td>89.81</td>\n      <td>NaN</td>\n      <td>NaN</td>\n      <td>NaN</td>\n      <td>-27.0</td>\n      <td>NaN</td>\n      <td>NaN</td>\n      <td>2018-01-01 09:00:00</td>\n      <td>3</td>\n    </tr>\n    <tr>\n      <th>4</th>\n      <td>-114.01</td>\n      <td>51.12</td>\n      <td>CALGARY INTL A</td>\n      <td>3031092</td>\n      <td>2018-01-01 10:00</td>\n      <td>2018</td>\n      <td>1</td>\n      <td>1</td>\n      <td>10:00</td>\n      <td>-18.0</td>\n      <td>...</td>\n      <td>NaN</td>\n      <td>89.78</td>\n      <td>NaN</td>\n      <td>NaN</td>\n      <td>NaN</td>\n      <td>-27.0</td>\n      <td>NaN</td>\n      <td>NaN</td>\n      <td>2018-01-01 10:00:00</td>\n      <td>1</td>\n    </tr>\n    <tr>\n      <th>...</th>\n      <td>...</td>\n      <td>...</td>\n      <td>...</td>\n      <td>...</td>\n      <td>...</td>\n      <td>...</td>\n      <td>...</td>\n      <td>...</td>\n      <td>...</td>\n      <td>...</td>\n      <td>...</td>\n      <td>...</td>\n      <td>...</td>\n      <td>...</td>\n      <td>...</td>\n      <td>...</td>\n      <td>...</td>\n      <td>...</td>\n      <td>...</td>\n      <td>...</td>\n      <td>...</td>\n    </tr>\n    <tr>\n      <th>8746</th>\n      <td>-114.01</td>\n      <td>51.12</td>\n      <td>CALGARY INTL A</td>\n      <td>3031092</td>\n      <td>2018-12-31 16:00</td>\n      <td>2018</td>\n      <td>12</td>\n      <td>31</td>\n      <td>16:00</td>\n      <td>-9.0</td>\n      <td>...</td>\n      <td>NaN</td>\n      <td>89.56</td>\n      <td>NaN</td>\n      <td>NaN</td>\n      <td>NaN</td>\n      <td>-16.0</td>\n      <td>NaN</td>\n      <td>NaN</td>\n      <td>2018-12-31 16:00:00</td>\n      <td>1</td>\n    </tr>\n    <tr>\n      <th>8747</th>\n      <td>-114.01</td>\n      <td>51.12</td>\n      <td>CALGARY INTL A</td>\n      <td>3031092</td>\n      <td>2018-12-31 17:00</td>\n      <td>2018</td>\n      <td>12</td>\n      <td>31</td>\n      <td>17:00</td>\n      <td>-11.5</td>\n      <td>...</td>\n      <td>NaN</td>\n      <td>89.47</td>\n      <td>NaN</td>\n      <td>NaN</td>\n      <td>NaN</td>\n      <td>-18.0</td>\n      <td>NaN</td>\n      <td>Mainly Clear</td>\n      <td>2018-12-31 17:00:00</td>\n      <td>2</td>\n    </tr>\n    <tr>\n      <th>8748</th>\n      <td>-114.01</td>\n      <td>51.12</td>\n      <td>CALGARY INTL A</td>\n      <td>3031092</td>\n      <td>2018-12-31 18:00</td>\n      <td>2018</td>\n      <td>12</td>\n      <td>31</td>\n      <td>18:00</td>\n      <td>-11.9</td>\n      <td>...</td>\n      <td>NaN</td>\n      <td>89.34</td>\n      <td>NaN</td>\n      <td>NaN</td>\n      <td>NaN</td>\n      <td>-18.0</td>\n      <td>NaN</td>\n      <td>NaN</td>\n      <td>2018-12-31 18:00:00</td>\n      <td>1</td>\n    </tr>\n    <tr>\n      <th>8749</th>\n      <td>-114.01</td>\n      <td>51.12</td>\n      <td>CALGARY INTL A</td>\n      <td>3031092</td>\n      <td>2018-12-31 19:00</td>\n      <td>2018</td>\n      <td>12</td>\n      <td>31</td>\n      <td>19:00</td>\n      <td>-12.8</td>\n      <td>...</td>\n      <td>NaN</td>\n      <td>89.31</td>\n      <td>NaN</td>\n      <td>NaN</td>\n      <td>NaN</td>\n      <td>-19.0</td>\n      <td>NaN</td>\n      <td>NaN</td>\n      <td>2018-12-31 19:00:00</td>\n      <td>0</td>\n    </tr>\n    <tr>\n      <th>8750</th>\n      <td>-114.01</td>\n      <td>51.12</td>\n      <td>CALGARY INTL A</td>\n      <td>3031092</td>\n      <td>2018-12-31 20:00</td>\n      <td>2018</td>\n      <td>12</td>\n      <td>31</td>\n      <td>20:00</td>\n      <td>-12.2</td>\n      <td>...</td>\n      <td>NaN</td>\n      <td>89.25</td>\n      <td>NaN</td>\n      <td>NaN</td>\n      <td>NaN</td>\n      <td>-17.0</td>\n      <td>NaN</td>\n      <td>Mainly Clear</td>\n      <td>2018-12-31 20:00:00</td>\n      <td>2</td>\n    </tr>\n  </tbody>\n</table>\n<p>8751 rows × 30 columns</p>\n</div>"
     },
     "metadata": {}
    }
   ],
   "source": [
    "df = ctrl.get_frame('temporal')\n",
    "display(df)"
   ]
  },
  {
   "cell_type": "code",
   "execution_count": 8,
   "metadata": {
    "tags": []
   },
   "outputs": [
    {
     "output_type": "display_data",
     "data": {
      "text/plain": "date\n2018-01-01 06:00:00    2\n2018-01-01 07:00:00    0\n2018-01-01 08:00:00    0\n2018-01-01 09:00:00    3\n2018-01-01 10:00:00    1\n                      ..\n2018-12-31 16:00:00    1\n2018-12-31 17:00:00    2\n2018-12-31 18:00:00    1\n2018-12-31 19:00:00    0\n2018-12-31 20:00:00    2\nFreq: H, Name: Count, Length: 8751, dtype: int64"
     },
     "metadata": {}
    },
    {
     "output_type": "stream",
     "name": "stdout",
     "text": "Count\nincidents\n[24.1 64.4 32.2 19.3 48.3  9.7  2.4  0.4  0.2  0.8  3.2  6.4  8.1  4.8\n  3.6  1.6 16.1 12.9 40.2 56.3 11.3  2.   4.   1.  80.5  nan  2.8  1.2\n 14.5  0.6  0.  22.5 20.9 72.4 17.7]\n"
    },
    {
     "output_type": "error",
     "ename": "KeyError",
     "evalue": "'incidents'",
     "traceback": [
      "\u001b[0;31m---------------------------------------------------------------------------\u001b[0m",
      "\u001b[0;31mKeyError\u001b[0m                                  Traceback (most recent call last)",
      "\u001b[0;32m<ipython-input-8-0cba8b6ac6a0>\u001b[0m in \u001b[0;36m<module>\u001b[0;34m\u001b[0m\n\u001b[1;32m     30\u001b[0m \u001b[0mprint\u001b[0m\u001b[0;34m(\u001b[0m\u001b[0mmerged\u001b[0m\u001b[0;34m[\u001b[0m\u001b[0;34m'Visibility (km)'\u001b[0m\u001b[0;34m]\u001b[0m\u001b[0;34m.\u001b[0m\u001b[0munique\u001b[0m\u001b[0;34m(\u001b[0m\u001b[0;34m)\u001b[0m\u001b[0;34m)\u001b[0m\u001b[0;34m\u001b[0m\u001b[0;34m\u001b[0m\u001b[0m\n\u001b[1;32m     31\u001b[0m \u001b[0;34m\u001b[0m\u001b[0m\n\u001b[0;32m---> 32\u001b[0;31m \u001b[0mmerged\u001b[0m \u001b[0;34m=\u001b[0m \u001b[0mmerged\u001b[0m\u001b[0;34m.\u001b[0m\u001b[0msort_values\u001b[0m\u001b[0;34m(\u001b[0m\u001b[0mby\u001b[0m\u001b[0;34m=\u001b[0m\u001b[0;34m'incidents'\u001b[0m\u001b[0;34m,\u001b[0m \u001b[0mascending\u001b[0m \u001b[0;34m=\u001b[0m \u001b[0;32mFalse\u001b[0m\u001b[0;34m)\u001b[0m\u001b[0;34m\u001b[0m\u001b[0;34m\u001b[0m\u001b[0m\n\u001b[0m\u001b[1;32m     33\u001b[0m \u001b[0;31m# display(merged)\u001b[0m\u001b[0;34m\u001b[0m\u001b[0;34m\u001b[0m\u001b[0;34m\u001b[0m\u001b[0m\n\u001b[1;32m     34\u001b[0m \u001b[0;34m\u001b[0m\u001b[0m\n",
      "\u001b[0;32m~/miniconda3/lib/python3.7/site-packages/pandas/core/frame.py\u001b[0m in \u001b[0;36msort_values\u001b[0;34m(self, by, axis, ascending, inplace, kind, na_position, ignore_index)\u001b[0m\n\u001b[1;32m   4925\u001b[0m \u001b[0;34m\u001b[0m\u001b[0m\n\u001b[1;32m   4926\u001b[0m             \u001b[0mby\u001b[0m \u001b[0;34m=\u001b[0m \u001b[0mby\u001b[0m\u001b[0;34m[\u001b[0m\u001b[0;36m0\u001b[0m\u001b[0;34m]\u001b[0m\u001b[0;34m\u001b[0m\u001b[0;34m\u001b[0m\u001b[0m\n\u001b[0;32m-> 4927\u001b[0;31m             \u001b[0mk\u001b[0m \u001b[0;34m=\u001b[0m \u001b[0mself\u001b[0m\u001b[0;34m.\u001b[0m\u001b[0m_get_label_or_level_values\u001b[0m\u001b[0;34m(\u001b[0m\u001b[0mby\u001b[0m\u001b[0;34m,\u001b[0m \u001b[0maxis\u001b[0m\u001b[0;34m=\u001b[0m\u001b[0maxis\u001b[0m\u001b[0;34m)\u001b[0m\u001b[0;34m\u001b[0m\u001b[0;34m\u001b[0m\u001b[0m\n\u001b[0m\u001b[1;32m   4928\u001b[0m \u001b[0;34m\u001b[0m\u001b[0m\n\u001b[1;32m   4929\u001b[0m             \u001b[0;32mif\u001b[0m \u001b[0misinstance\u001b[0m\u001b[0;34m(\u001b[0m\u001b[0mascending\u001b[0m\u001b[0;34m,\u001b[0m \u001b[0;34m(\u001b[0m\u001b[0mtuple\u001b[0m\u001b[0;34m,\u001b[0m \u001b[0mlist\u001b[0m\u001b[0;34m)\u001b[0m\u001b[0;34m)\u001b[0m\u001b[0;34m:\u001b[0m\u001b[0;34m\u001b[0m\u001b[0;34m\u001b[0m\u001b[0m\n",
      "\u001b[0;32m~/miniconda3/lib/python3.7/site-packages/pandas/core/generic.py\u001b[0m in \u001b[0;36m_get_label_or_level_values\u001b[0;34m(self, key, axis)\u001b[0m\n\u001b[1;32m   1690\u001b[0m             \u001b[0mvalues\u001b[0m \u001b[0;34m=\u001b[0m \u001b[0mself\u001b[0m\u001b[0;34m.\u001b[0m\u001b[0maxes\u001b[0m\u001b[0;34m[\u001b[0m\u001b[0maxis\u001b[0m\u001b[0;34m]\u001b[0m\u001b[0;34m.\u001b[0m\u001b[0mget_level_values\u001b[0m\u001b[0;34m(\u001b[0m\u001b[0mkey\u001b[0m\u001b[0;34m)\u001b[0m\u001b[0;34m.\u001b[0m\u001b[0m_values\u001b[0m\u001b[0;34m\u001b[0m\u001b[0;34m\u001b[0m\u001b[0m\n\u001b[1;32m   1691\u001b[0m         \u001b[0;32melse\u001b[0m\u001b[0;34m:\u001b[0m\u001b[0;34m\u001b[0m\u001b[0;34m\u001b[0m\u001b[0m\n\u001b[0;32m-> 1692\u001b[0;31m             \u001b[0;32mraise\u001b[0m \u001b[0mKeyError\u001b[0m\u001b[0;34m(\u001b[0m\u001b[0mkey\u001b[0m\u001b[0;34m)\u001b[0m\u001b[0;34m\u001b[0m\u001b[0;34m\u001b[0m\u001b[0m\n\u001b[0m\u001b[1;32m   1693\u001b[0m \u001b[0;34m\u001b[0m\u001b[0m\n\u001b[1;32m   1694\u001b[0m         \u001b[0;31m# Check for duplicates\u001b[0m\u001b[0;34m\u001b[0m\u001b[0;34m\u001b[0m\u001b[0;34m\u001b[0m\u001b[0m\n",
      "\u001b[0;31mKeyError\u001b[0m: 'incidents'"
     ]
    }
   ],
   "source": [
    "df =ctrl.get_frame('temporal')\n",
    "\n",
    "df['date'] = pd.to_datetime(df['Date/Time'])\n",
    "# display(df)\n",
    "\n",
    "df2 = ctrl.get_frame('incidents')\n",
    "\n",
    "# display(df2)\n",
    "df2['date'] = pd.to_datetime(df2['START_DT'])\n",
    "# display(df2)\n",
    "\n",
    "df2['date'] = pd.to_datetime(df2['START_DT'])\n",
    "mask_2018 = df2['date'].dt.year == 2018\n",
    "incidents_2018 = df2[mask_2018]\n",
    "# display(incidents_2018)\n",
    "# display(df2['date'])\n",
    "\n",
    "\n",
    "incidents_2018 = incidents_2018.resample('H', on='date')['Count'].count()\n",
    "display(incidents_2018)\n",
    "print(incidents_2018.name)\n",
    "incidents_2018.name = 'incidents'\n",
    "print(incidents_2018.name)\n",
    "\n",
    "\n",
    "merged = pd.merge(df, incidents_2018, on = 'date')\n",
    "\n",
    "# display(merged)\n",
    "\n",
    "print(merged['Visibility (km)'].unique())\n",
    "\n",
    "merged = merged.sort_values(by='incidents', ascending = False)\n",
    "# display(merged)\n",
    "\n",
    "grouped_weather = merged.groupby(by='Weather')\n",
    "\n",
    "# display(grouped_weather['Count'].count())\n",
    "\n",
    "# display(cell_groups['BLADE_TYPE'].agg('count').sort_values(ascending=False).head(10))\n",
    "\n",
    "\n",
    "# cell_groups = signs_test_df.groupby(by='cell', as_index=True, sort=True)\n",
    "\n",
    "\n",
    "\n"
   ]
  },
  {
   "cell_type": "code",
   "execution_count": 9,
   "metadata": {},
   "outputs": [
    {
     "output_type": "execute_result",
     "data": {
      "text/plain": "Empty DataFrame\nColumns: [INCIDENT INFO, DESCRIPTION, START_DT, MODIFIED_DT, QUADRANT, Longitude, Latitude, location, Count, id, date, geometry, cell]\nIndex: []",
      "text/html": "<div>\n<style scoped>\n    .dataframe tbody tr th:only-of-type {\n        vertical-align: middle;\n    }\n\n    .dataframe tbody tr th {\n        vertical-align: top;\n    }\n\n    .dataframe thead th {\n        text-align: right;\n    }\n</style>\n<table border=\"1\" class=\"dataframe\">\n  <thead>\n    <tr style=\"text-align: right;\">\n      <th></th>\n      <th>INCIDENT INFO</th>\n      <th>DESCRIPTION</th>\n      <th>START_DT</th>\n      <th>MODIFIED_DT</th>\n      <th>QUADRANT</th>\n      <th>Longitude</th>\n      <th>Latitude</th>\n      <th>location</th>\n      <th>Count</th>\n      <th>id</th>\n      <th>date</th>\n      <th>geometry</th>\n      <th>cell</th>\n    </tr>\n  </thead>\n  <tbody>\n  </tbody>\n</table>\n</div>"
     },
     "metadata": {},
     "execution_count": 9
    }
   ],
   "source": [
    "df = ctrl.get_frame('incidents')\n",
    "\n",
    "filt = df['Count'] != 1\n",
    "\n",
    "df.loc[filt]"
   ]
  },
  {
   "cell_type": "code",
   "execution_count": 10,
   "metadata": {},
   "outputs": [],
   "source": [
    "ctrl.generate_map()"
   ]
  },
  {
   "cell_type": "code",
   "execution_count": null,
   "metadata": {},
   "outputs": [],
   "source": []
  },
  {
   "cell_type": "code",
   "execution_count": 11,
   "metadata": {},
   "outputs": [
    {
     "output_type": "display_data",
     "data": {
      "text/plain": "<IPython.core.display.HTML object>",
      "text/html": "<iframe src=\"index.html\" frameborder = \"0\" width = \"960\" height = \"600\" allowfullscreen=\"true\" mozallowfullscreen=\"true\" webkitallowfullscreen=\"true\"></iframe>\n"
     },
     "metadata": {}
    }
   ],
   "source": [
    "%%html\n",
    "<iframe src=\"index.html\" frameborder = \"0\" width = \"960\" height = \"600\" allowfullscreen=\"true\" mozallowfullscreen=\"true\" webkitallowfullscreen=\"true\"></iframe>"
   ]
  },
  {
   "cell_type": "code",
   "execution_count": 12,
   "metadata": {},
   "outputs": [
    {
     "output_type": "execute_result",
     "data": {
      "text/plain": "                                           INCIDENT INFO  \\\n875           Southbound Deerfoot Trail and 16 Avenue NE   \n2169                     36 Avenue and Burnsland Road SE   \n3262   Falconridge Boulevard at Castleridge Boulevard NE   \n4559          Southbound Deerfoot Trail and 16 Avenue NE   \n4695           Spruce Meadows Trail and Macleod Trail SE   \n...                                                  ...   \n17407  Westbound 16 Avenue approaching Deerfoot Trail NE   \n17408   Southbound Crowchild Trail at Kensington Road NW   \n17409                          52 Street and 5 Avenue SE   \n17410            Eastbound Memorial Drive at 8 Street NW   \n17411                           5 Avenue and 6 Street SW   \n\n                                          DESCRIPTION                START_DT  \\\n875                           Multi-vehicle incident.  05/07/2018 06:30:02 PM   \n2169                            Two vehicle incident.  05/25/2018 02:53:33 PM   \n3262                            Two vehicle incident.  05/25/2018 03:29:49 PM   \n4559                          Multi-vehicle incident.  05/07/2018 06:30:02 PM   \n4695                            Two vehicle incident.  05/07/2018 07:33:14 PM   \n...                                               ...                     ...   \n17407   Two vehicle incident. Blocking the left lane.  12/31/2018 05:47:41 PM   \n17408  Two vehicle incident.  Blocking multiple lanes  12/31/2018 05:59:28 PM   \n17409                         Multi-vehicle incident.  12/31/2018 06:42:53 PM   \n17410                           Two vehicle incident.  12/31/2018 08:00:47 PM   \n17411                           Two vehicle incident.  12/31/2018 08:55:03 PM   \n\n                  MODIFIED_DT QUADRANT   Longitude   Latitude  \\\n875    05/07/2018 07:07:04 PM       NE -114.028193  51.065699   \n2169   05/25/2018 03:31:13 PM       SE -114.059276  51.021205   \n3262   05/25/2018 04:27:18 PM       NE -113.958764  51.099956   \n4559   05/07/2018 06:31:50 PM       NE -114.028183  51.065739   \n4695   05/07/2018 07:44:52 PM       SE -114.061310  50.892629   \n...                       ...      ...         ...        ...   \n17407  12/31/2018 05:49:08 PM       NE -114.020057  51.067053   \n17408  12/31/2018 06:16:01 PM       NW -114.118501  51.052492   \n17409  12/31/2018 06:43:50 PM       SE -113.956571  51.049133   \n17410  12/31/2018 08:02:03 PM       NW -114.079493  51.054765   \n17411  12/31/2018 08:55:59 PM       SW -114.076108  51.048764   \n\n                                   location  Count  \\\n875     (51.06569942197, -114.028192583328)      1   \n2169   (51.021204781033, -114.059276077804)      1   \n3262   (51.099956277275, -113.958763979051)      1   \n4559   (51.065739428335, -114.028183476698)      1   \n4695    (50.892628633145, -114.06131023126)      1   \n...                                     ...    ...   \n17407  (51.067052792253, -114.020056658954)      1   \n17408   (51.052492333505, -114.11850138363)      1   \n17409  (51.049133273898, -113.956570563768)      1   \n17410   (51.05476543077, -114.079492649993)      1   \n17411  (51.048763537207, -114.076107590207)      1   \n\n                                                      id                date  \\\n875    2018-05-07T17:30:0251.0656994219703-114.028192... 2018-05-07 18:30:02   \n2169     2018052514533351.0212047810334-114.059276077804 2018-05-25 14:53:33   \n3262     2018052515294951.0999562772749-113.958763979051 2018-05-25 15:29:49   \n4559   2018-05-07T17:30:0251.0657394283348-114.028183... 2018-05-07 18:30:02   \n4695   2018-05-07T18:33:1450.8926286331446-114.061310... 2018-05-07 19:33:14   \n...                                                  ...                 ...   \n17407    2018123117474151.0670527922526-114.020056658954 2018-12-31 17:47:41   \n17408     2018123117592851.0524923335053-114.11850138363 2018-12-31 17:59:28   \n17409     2018123118425351.049133273898-113.956570563768 2018-12-31 18:42:53   \n17410    2018123120004751.0547654307696-114.079492649993 2018-12-31 20:00:47   \n17411     2018123120550351.048763537207-114.076107590207 2018-12-31 20:55:03   \n\n                                                geometry  cell  \n875    {'type': 'Point', 'coordinates': [51.065699, -...    66  \n2169   {'type': 'Point', 'coordinates': [51.021205, -...    45  \n3262   {'type': 'Point', 'coordinates': [51.099956, -...    67  \n4559   {'type': 'Point', 'coordinates': [51.065739, -...    66  \n4695   {'type': 'Point', 'coordinates': [50.892629, -...    15  \n...                                                  ...   ...  \n17407  {'type': 'Point', 'coordinates': [51.067053, -...    66  \n17408  {'type': 'Point', 'coordinates': [51.052492, -...    54  \n17409  {'type': 'Point', 'coordinates': [51.049133, -...    57  \n17410  {'type': 'Point', 'coordinates': [51.054765, -...    55  \n17411  {'type': 'Point', 'coordinates': [51.048764, -...    55  \n\n[6567 rows x 13 columns]",
      "text/html": "<div>\n<style scoped>\n    .dataframe tbody tr th:only-of-type {\n        vertical-align: middle;\n    }\n\n    .dataframe tbody tr th {\n        vertical-align: top;\n    }\n\n    .dataframe thead th {\n        text-align: right;\n    }\n</style>\n<table border=\"1\" class=\"dataframe\">\n  <thead>\n    <tr style=\"text-align: right;\">\n      <th></th>\n      <th>INCIDENT INFO</th>\n      <th>DESCRIPTION</th>\n      <th>START_DT</th>\n      <th>MODIFIED_DT</th>\n      <th>QUADRANT</th>\n      <th>Longitude</th>\n      <th>Latitude</th>\n      <th>location</th>\n      <th>Count</th>\n      <th>id</th>\n      <th>date</th>\n      <th>geometry</th>\n      <th>cell</th>\n    </tr>\n  </thead>\n  <tbody>\n    <tr>\n      <th>875</th>\n      <td>Southbound Deerfoot Trail and 16 Avenue NE</td>\n      <td>Multi-vehicle incident.</td>\n      <td>05/07/2018 06:30:02 PM</td>\n      <td>05/07/2018 07:07:04 PM</td>\n      <td>NE</td>\n      <td>-114.028193</td>\n      <td>51.065699</td>\n      <td>(51.06569942197, -114.028192583328)</td>\n      <td>1</td>\n      <td>2018-05-07T17:30:0251.0656994219703-114.028192...</td>\n      <td>2018-05-07 18:30:02</td>\n      <td>{'type': 'Point', 'coordinates': [51.065699, -...</td>\n      <td>66</td>\n    </tr>\n    <tr>\n      <th>2169</th>\n      <td>36 Avenue and Burnsland Road SE</td>\n      <td>Two vehicle incident.</td>\n      <td>05/25/2018 02:53:33 PM</td>\n      <td>05/25/2018 03:31:13 PM</td>\n      <td>SE</td>\n      <td>-114.059276</td>\n      <td>51.021205</td>\n      <td>(51.021204781033, -114.059276077804)</td>\n      <td>1</td>\n      <td>2018052514533351.0212047810334-114.059276077804</td>\n      <td>2018-05-25 14:53:33</td>\n      <td>{'type': 'Point', 'coordinates': [51.021205, -...</td>\n      <td>45</td>\n    </tr>\n    <tr>\n      <th>3262</th>\n      <td>Falconridge Boulevard at Castleridge Boulevard NE</td>\n      <td>Two vehicle incident.</td>\n      <td>05/25/2018 03:29:49 PM</td>\n      <td>05/25/2018 04:27:18 PM</td>\n      <td>NE</td>\n      <td>-113.958764</td>\n      <td>51.099956</td>\n      <td>(51.099956277275, -113.958763979051)</td>\n      <td>1</td>\n      <td>2018052515294951.0999562772749-113.958763979051</td>\n      <td>2018-05-25 15:29:49</td>\n      <td>{'type': 'Point', 'coordinates': [51.099956, -...</td>\n      <td>67</td>\n    </tr>\n    <tr>\n      <th>4559</th>\n      <td>Southbound Deerfoot Trail and 16 Avenue NE</td>\n      <td>Multi-vehicle incident.</td>\n      <td>05/07/2018 06:30:02 PM</td>\n      <td>05/07/2018 06:31:50 PM</td>\n      <td>NE</td>\n      <td>-114.028183</td>\n      <td>51.065739</td>\n      <td>(51.065739428335, -114.028183476698)</td>\n      <td>1</td>\n      <td>2018-05-07T17:30:0251.0657394283348-114.028183...</td>\n      <td>2018-05-07 18:30:02</td>\n      <td>{'type': 'Point', 'coordinates': [51.065739, -...</td>\n      <td>66</td>\n    </tr>\n    <tr>\n      <th>4695</th>\n      <td>Spruce Meadows Trail and Macleod Trail SE</td>\n      <td>Two vehicle incident.</td>\n      <td>05/07/2018 07:33:14 PM</td>\n      <td>05/07/2018 07:44:52 PM</td>\n      <td>SE</td>\n      <td>-114.061310</td>\n      <td>50.892629</td>\n      <td>(50.892628633145, -114.06131023126)</td>\n      <td>1</td>\n      <td>2018-05-07T18:33:1450.8926286331446-114.061310...</td>\n      <td>2018-05-07 19:33:14</td>\n      <td>{'type': 'Point', 'coordinates': [50.892629, -...</td>\n      <td>15</td>\n    </tr>\n    <tr>\n      <th>...</th>\n      <td>...</td>\n      <td>...</td>\n      <td>...</td>\n      <td>...</td>\n      <td>...</td>\n      <td>...</td>\n      <td>...</td>\n      <td>...</td>\n      <td>...</td>\n      <td>...</td>\n      <td>...</td>\n      <td>...</td>\n      <td>...</td>\n    </tr>\n    <tr>\n      <th>17407</th>\n      <td>Westbound 16 Avenue approaching Deerfoot Trail NE</td>\n      <td>Two vehicle incident. Blocking the left lane.</td>\n      <td>12/31/2018 05:47:41 PM</td>\n      <td>12/31/2018 05:49:08 PM</td>\n      <td>NE</td>\n      <td>-114.020057</td>\n      <td>51.067053</td>\n      <td>(51.067052792253, -114.020056658954)</td>\n      <td>1</td>\n      <td>2018123117474151.0670527922526-114.020056658954</td>\n      <td>2018-12-31 17:47:41</td>\n      <td>{'type': 'Point', 'coordinates': [51.067053, -...</td>\n      <td>66</td>\n    </tr>\n    <tr>\n      <th>17408</th>\n      <td>Southbound Crowchild Trail at Kensington Road NW</td>\n      <td>Two vehicle incident.  Blocking multiple lanes</td>\n      <td>12/31/2018 05:59:28 PM</td>\n      <td>12/31/2018 06:16:01 PM</td>\n      <td>NW</td>\n      <td>-114.118501</td>\n      <td>51.052492</td>\n      <td>(51.052492333505, -114.11850138363)</td>\n      <td>1</td>\n      <td>2018123117592851.0524923335053-114.11850138363</td>\n      <td>2018-12-31 17:59:28</td>\n      <td>{'type': 'Point', 'coordinates': [51.052492, -...</td>\n      <td>54</td>\n    </tr>\n    <tr>\n      <th>17409</th>\n      <td>52 Street and 5 Avenue SE</td>\n      <td>Multi-vehicle incident.</td>\n      <td>12/31/2018 06:42:53 PM</td>\n      <td>12/31/2018 06:43:50 PM</td>\n      <td>SE</td>\n      <td>-113.956571</td>\n      <td>51.049133</td>\n      <td>(51.049133273898, -113.956570563768)</td>\n      <td>1</td>\n      <td>2018123118425351.049133273898-113.956570563768</td>\n      <td>2018-12-31 18:42:53</td>\n      <td>{'type': 'Point', 'coordinates': [51.049133, -...</td>\n      <td>57</td>\n    </tr>\n    <tr>\n      <th>17410</th>\n      <td>Eastbound Memorial Drive at 8 Street NW</td>\n      <td>Two vehicle incident.</td>\n      <td>12/31/2018 08:00:47 PM</td>\n      <td>12/31/2018 08:02:03 PM</td>\n      <td>NW</td>\n      <td>-114.079493</td>\n      <td>51.054765</td>\n      <td>(51.05476543077, -114.079492649993)</td>\n      <td>1</td>\n      <td>2018123120004751.0547654307696-114.079492649993</td>\n      <td>2018-12-31 20:00:47</td>\n      <td>{'type': 'Point', 'coordinates': [51.054765, -...</td>\n      <td>55</td>\n    </tr>\n    <tr>\n      <th>17411</th>\n      <td>5 Avenue and 6 Street SW</td>\n      <td>Two vehicle incident.</td>\n      <td>12/31/2018 08:55:03 PM</td>\n      <td>12/31/2018 08:55:59 PM</td>\n      <td>SW</td>\n      <td>-114.076108</td>\n      <td>51.048764</td>\n      <td>(51.048763537207, -114.076107590207)</td>\n      <td>1</td>\n      <td>2018123120550351.048763537207-114.076107590207</td>\n      <td>2018-12-31 20:55:03</td>\n      <td>{'type': 'Point', 'coordinates': [51.048764, -...</td>\n      <td>55</td>\n    </tr>\n  </tbody>\n</table>\n<p>6567 rows × 13 columns</p>\n</div>"
     },
     "metadata": {},
     "execution_count": 12
    }
   ],
   "source": [
    "ctrl.get_frame('incidents')"
   ]
  }
 ]
}