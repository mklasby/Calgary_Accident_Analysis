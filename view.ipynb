{
 "metadata": {
  "language_info": {
   "codemirror_mode": {
    "name": "ipython",
    "version": 3
   },
   "file_extension": ".py",
   "mimetype": "text/x-python",
   "name": "python",
   "nbconvert_exporter": "python",
   "pygments_lexer": "ipython3",
   "version": "3.7.7-final"
  },
  "orig_nbformat": 2,
  "kernelspec": {
   "name": "python37764bitminiconda3conda325cb6264bba41129d04ca3e5f9f112e",
   "display_name": "Python 3.7.7 64-bit ('miniconda3': conda)"
  }
 },
 "nbformat": 4,
 "nbformat_minor": 2,
 "cells": [
  {
   "cell_type": "markdown",
   "metadata": {},
   "source": [
    "# ENSF 592 - FINAL PROJECT\n",
    "## Calgary Accident Analysis\n",
    "### By: Mike Lasby\n",
    "\n",
    "# README\n",
    "This notebook is the entry point of our project and functions as the View. The notebook depends on the Controller.py class to retrieve views of our data from the Model. "
   ]
  },
  {
   "cell_type": "code",
   "execution_count": 1,
   "metadata": {},
   "outputs": [],
   "source": [
    "%matplotlib inline\n",
    "import numpy as np\n",
    "import pandas as pd\n",
    "import seaborn as sns\n",
    "from geojson import Point, MultiLineString\n",
    "import geopandas as gpdnum_points\n",
    "import re\n",
    "import math\n",
    "import folium\n",
    "import matplotlib.pyplot as plt\n",
    "from controller import Controller"
   ]
  },
  {
   "cell_type": "code",
   "execution_count": 15,
   "metadata": {
    "tags": []
   },
   "outputs": [
    {
     "output_type": "stream",
     "name": "stdout",
     "text": "Loading Data...\nGetting weather at yyc for month 1 in 2018\nGetting weather at yyc for month 2 in 2018\nGetting weather at yyc for month 3 in 2018\nGetting weather at yyc for month 4 in 2018\nGetting weather at yyc for month 5 in 2018\nGetting weather at yyc for month 6 in 2018\nGetting weather at yyc for month 7 in 2018\nGetting weather at yyc for month 8 in 2018\nGetting weather at yyc for month 9 in 2018\nGetting weather at yyc for month 10 in 2018\nGetting weather at yyc for month 11 in 2018\nGetting weather at yyc for month 12 in 2018\n...Data Loaded.\nAdding geometry column to speeds from multiline. Flip coords? True\nAdding geometry column to volumes from multilinestring. Flip coords? True\nAdding geometry column to incidents from location. Flip coords? False\nAdding geometry column to cameras from None. Flip coords? True\nAdding geometry column to signals from Point. Flip coords? True\nAdding geometry column to signs from POINT. Flip coords? True\nAdding geometry column to cells from cell_bounds. Flip coords? False\nAdding cell column to speeds\nAdding cell column to volumes\nAdding cell column to incidents\nAdding cell column to cameras\nAdding cell column to signals\nAdding cell column to signs\n"
    }
   ],
   "source": [
    "ctrl = Controller()\n",
    "ctrl.load_data()\n",
    "ctrl.add_geo_cols()\n",
    "ctrl.add_cell_col()"
   ]
  },
  {
   "cell_type": "code",
   "execution_count": 17,
   "metadata": {},
   "outputs": [
    {
     "output_type": "error",
     "ename": "SyntaxError",
     "evalue": "invalid syntax (<ipython-input-17-96598967bc7c>, line 4)",
     "traceback": [
      "\u001b[0;36m  File \u001b[0;32m\"<ipython-input-17-96598967bc7c>\"\u001b[0;36m, line \u001b[0;32m4\u001b[0m\n\u001b[0;31m    <iframe src=\"index.html\" frameborder = \"0\" width = \"960\" height = \"600\" allowfullscreen=\"true\" mozallowfullscreen=\"true\" webkitallowfullscreen=\"true\"></iframe>\u001b[0m\n\u001b[0m    ^\u001b[0m\n\u001b[0;31mSyntaxError\u001b[0m\u001b[0;31m:\u001b[0m invalid syntax\n"
     ]
    }
   ],
   "source": [
    "ctrl.generate_map()\n",
    "\n",
    "%%html\n",
    "<iframe src=\"index.html\" frameborder = \"0\" width = \"960\" height = \"600\" allowfullscreen=\"true\" mozallowfullscreen=\"true\" webkitallowfullscreen=\"true\"></iframe>"
   ]
  },
  {
   "cell_type": "code",
   "execution_count": 18,
   "metadata": {
    "tags": []
   },
   "outputs": [
    {
     "output_type": "error",
     "ename": "AttributeError",
     "evalue": "'Controller' object has no attribute 'mapa'",
     "traceback": [
      "\u001b[0;31m---------------------------------------------------------------------------\u001b[0m",
      "\u001b[0;31mAttributeError\u001b[0m                            Traceback (most recent call last)",
      "\u001b[0;32m<ipython-input-18-4fbbb2e7066a>\u001b[0m in \u001b[0;36m<module>\u001b[0;34m\u001b[0m\n\u001b[1;32m     20\u001b[0m             \u001b[0mheat_map\u001b[0m\u001b[0;34m.\u001b[0m\u001b[0madd_to\u001b[0m\u001b[0;34m(\u001b[0m\u001b[0mctrl\u001b[0m\u001b[0;34m.\u001b[0m\u001b[0mmapa\u001b[0m\u001b[0;34m)\u001b[0m\u001b[0;34m\u001b[0m\u001b[0;34m\u001b[0m\u001b[0m\n\u001b[1;32m     21\u001b[0m \u001b[0;34m\u001b[0m\u001b[0m\n\u001b[0;32m---> 22\u001b[0;31m \u001b[0mgen_heatmap\u001b[0m\u001b[0;34m(\u001b[0m\u001b[0;34m)\u001b[0m\u001b[0;34m\u001b[0m\u001b[0;34m\u001b[0m\u001b[0m\n\u001b[0m\u001b[1;32m     23\u001b[0m \u001b[0;34m\u001b[0m\u001b[0m\n\u001b[1;32m     24\u001b[0m \u001b[0;34m\u001b[0m\u001b[0m\n",
      "\u001b[0;32m<ipython-input-18-4fbbb2e7066a>\u001b[0m in \u001b[0;36mgen_heatmap\u001b[0;34m()\u001b[0m\n\u001b[1;32m     18\u001b[0m             \u001b[0mdata\u001b[0m\u001b[0;34m.\u001b[0m\u001b[0mappend\u001b[0m\u001b[0;34m(\u001b[0m\u001b[0;34m[\u001b[0m\u001b[0mlat\u001b[0m\u001b[0;34m,\u001b[0m \u001b[0mlon\u001b[0m\u001b[0;34m]\u001b[0m\u001b[0;34m)\u001b[0m\u001b[0;34m\u001b[0m\u001b[0;34m\u001b[0m\u001b[0m\n\u001b[1;32m     19\u001b[0m             \u001b[0mheat_map\u001b[0m \u001b[0;34m=\u001b[0m \u001b[0mHeatMap\u001b[0m\u001b[0;34m(\u001b[0m\u001b[0mdata\u001b[0m\u001b[0;34m,\u001b[0m \u001b[0mname\u001b[0m\u001b[0;34m=\u001b[0m\u001b[0;34m\"Volume\"\u001b[0m\u001b[0;34m)\u001b[0m\u001b[0;34m\u001b[0m\u001b[0;34m\u001b[0m\u001b[0m\n\u001b[0;32m---> 20\u001b[0;31m             \u001b[0mheat_map\u001b[0m\u001b[0;34m.\u001b[0m\u001b[0madd_to\u001b[0m\u001b[0;34m(\u001b[0m\u001b[0mctrl\u001b[0m\u001b[0;34m.\u001b[0m\u001b[0mmapa\u001b[0m\u001b[0;34m)\u001b[0m\u001b[0;34m\u001b[0m\u001b[0;34m\u001b[0m\u001b[0m\n\u001b[0m\u001b[1;32m     21\u001b[0m \u001b[0;34m\u001b[0m\u001b[0m\n\u001b[1;32m     22\u001b[0m \u001b[0mgen_heatmap\u001b[0m\u001b[0;34m(\u001b[0m\u001b[0;34m)\u001b[0m\u001b[0;34m\u001b[0m\u001b[0;34m\u001b[0m\u001b[0m\n",
      "\u001b[0;31mAttributeError\u001b[0m: 'Controller' object has no attribute 'mapa'"
     ]
    }
   ],
   "source": [
    "# #HEATMAP\n",
    "# ctrl.gen_heatmap()\n",
    "\n",
    "from folium.plugins import HeatMap\n",
    "\n",
    "def gen_heatmap():\n",
    "    mapa = ctrl.get_map()\n",
    "    df = ctrl.get_frame('volumes')\n",
    "    # df = self.get_frame('volumes')\n",
    "    data = []  # lat, lng, weight\n",
    "    # TODO: https://github.com/python-visualization/folium/issues/1271\n",
    "\n",
    "    for _, row in df.iloc[:10].iterrows():\n",
    "        volume = row['VOLUME']\n",
    "        geometry = row['geometry']['coordinates']\n",
    "        for points in geometry:\n",
    "            lat = float(points[0])\n",
    "            lon = float(points[1])\n",
    "            data.append([lat, lon])\n",
    "            heat_map = HeatMap(data, name=\"Volume\")\n",
    "            heat_map.add_to(ctrl.mapa)\n",
    " \n",
    "gen_heatmap()\n",
    "\n",
    "\n"
   ]
  },
  {
   "cell_type": "code",
   "execution_count": 3,
   "metadata": {
    "tags": []
   },
   "outputs": [
    {
     "output_type": "stream",
     "name": "stdout",
     "text": "[nan, nan, nan, nan, nan, 59.673202614379086, 66.20689655172414, 80.44554455445545, nan, nan, nan, nan, 70.0, 70.45454545454545, 62.04255319148936, 63.6741519350215, 71.49141630901288, 67.21440397350993, 70.76843198338526, 76.34146341463415, nan, nan, nan, 72.1853388658368, 64.78494623655914, 62.06577119036591, 66.55727155727156, 69.90340620233859, 64.29906542056075, 58.07531380753138, nan, nan, nan, 60.0, 62.34993614303959, 62.788844621513945, 68.22074566260613, 70.02633889376646, 72.98299845440495, nan, nan, 73.96825396825396, 65.70743405275779, 73.4090909090909, 59.4337899543379, 58.44332175560467, 70.82397003745318, 62.31227651966627, 72.13842975206612, 80.0, nan, 60.0, 61.02028639618138, 66.2549537648613, 57.83313325330132, 44.25901201602136, 74.37106056453823, 75.69165143205363, 69.5031055900621, 80.0, 110.0, 70.859375, 63.483365949119374, 65.62115621156211, 61.7911227154047, 61.484848484848484, 67.25333333333333, 59.10411622276029, 71.12003780718337, nan, nan, 61.75438596491228, 64.86463257412979, 67.98728813559322, 71.529933481153, 70.43478260869566, 67.54098360655738, 61.294765840220386, 76.88504326328801, nan, nan, 64.94252873563218, 64.84554815263476, 63.734756097560975, 65.63218390804597, 63.56513676402411, 72.75438596491227, 68.57015192135836, 83.72116349047141, nan, nan, 75.07936507936508, 71.1842105263158, 63.63636363636363, 60.0, 75.04950495049505, 88.55238095238096, 69.6229802513465, 98.83333333333333, nan]\n"
    }
   ],
   "source": [
    "speeds = ctrl.get_frame('speeds')\n",
    "cells = ctrl.get_frame('cells')\n",
    "# display(speeds)\n",
    "# display(cells)\n",
    "\n",
    "\n",
    "def get_avg_speed(cell_idx):\n",
    "    # print(f'testing cell {cell_idx}')\n",
    "    speed_sum = 0\n",
    "    num_points = 0 \n",
    "    for idx, row in speeds[['cell', 'SPEED']].iterrows():\n",
    "        cell_dict = row['cell']\n",
    "        speed = row['SPEED']\n",
    "        if cell_idx in cell_dict:\n",
    "            # print(f'{cell_idx} is in {cell_dict}')\n",
    "            these_points = cell_dict[cell_idx]\n",
    "            # print(f'these points = {these_points}')\n",
    "            speed_sum += speed*these_points\n",
    "            num_points += these_points\n",
    "    if num_points == 0:\n",
    "        return np.nan\n",
    "        # return 0\n",
    "    return speed_sum/num_points\n",
    "    \n",
    "i = 0 \n",
    "avg_speed = []\n",
    "while i < 100: \n",
    "    avg_speed.append(get_avg_speed(i))\n",
    "    i+=1\n",
    "print(avg_speed)\n",
    "cells['avg_speed'] = avg_speed\n"
   ]
  },
  {
   "cell_type": "code",
   "execution_count": 4,
   "metadata": {},
   "outputs": [
    {
     "output_type": "execute_result",
     "data": {
      "text/plain": "                                                cells  \\\n0   <folium.vector_layers.Rectangle object at 0x7f...   \n1   <folium.vector_layers.Rectangle object at 0x7f...   \n2   <folium.vector_layers.Rectangle object at 0x7f...   \n3   <folium.vector_layers.Rectangle object at 0x7f...   \n4   <folium.vector_layers.Rectangle object at 0x7f...   \n..                                                ...   \n95  <folium.vector_layers.Rectangle object at 0x7f...   \n96  <folium.vector_layers.Rectangle object at 0x7f...   \n97  <folium.vector_layers.Rectangle object at 0x7f...   \n98  <folium.vector_layers.Rectangle object at 0x7f...   \n99  <folium.vector_layers.Rectangle object at 0x7f...   \n\n                                          cell_bounds  avg_speed  \n0   [[50.842822, -114.315796], [50.8797823, -114.2...        NaN  \n1   [[50.842822, -114.2702069], [50.8797823, -114....        NaN  \n2   [[50.842822, -114.2246178], [50.8797823, -114....        NaN  \n3   [[50.842822, -114.1790287], [50.8797823, -114....        NaN  \n4   [[50.842822, -114.1334396], [50.8797823, -114....        NaN  \n..                                                ...        ...  \n95  [[51.175464700000006, -114.0878505], [51.21242...  75.049505  \n96  [[51.175464700000006, -114.0422614], [51.21242...  88.552381  \n97  [[51.175464700000006, -113.9966723], [51.21242...  69.622980  \n98  [[51.175464700000006, -113.9510832], [51.21242...  98.833333  \n99  [[51.175464700000006, -113.9054941], [51.21242...        NaN  \n\n[100 rows x 3 columns]",
      "text/html": "<div>\n<style scoped>\n    .dataframe tbody tr th:only-of-type {\n        vertical-align: middle;\n    }\n\n    .dataframe tbody tr th {\n        vertical-align: top;\n    }\n\n    .dataframe thead th {\n        text-align: right;\n    }\n</style>\n<table border=\"1\" class=\"dataframe\">\n  <thead>\n    <tr style=\"text-align: right;\">\n      <th></th>\n      <th>cells</th>\n      <th>cell_bounds</th>\n      <th>avg_speed</th>\n    </tr>\n  </thead>\n  <tbody>\n    <tr>\n      <th>0</th>\n      <td>&lt;folium.vector_layers.Rectangle object at 0x7f...</td>\n      <td>[[50.842822, -114.315796], [50.8797823, -114.2...</td>\n      <td>NaN</td>\n    </tr>\n    <tr>\n      <th>1</th>\n      <td>&lt;folium.vector_layers.Rectangle object at 0x7f...</td>\n      <td>[[50.842822, -114.2702069], [50.8797823, -114....</td>\n      <td>NaN</td>\n    </tr>\n    <tr>\n      <th>2</th>\n      <td>&lt;folium.vector_layers.Rectangle object at 0x7f...</td>\n      <td>[[50.842822, -114.2246178], [50.8797823, -114....</td>\n      <td>NaN</td>\n    </tr>\n    <tr>\n      <th>3</th>\n      <td>&lt;folium.vector_layers.Rectangle object at 0x7f...</td>\n      <td>[[50.842822, -114.1790287], [50.8797823, -114....</td>\n      <td>NaN</td>\n    </tr>\n    <tr>\n      <th>4</th>\n      <td>&lt;folium.vector_layers.Rectangle object at 0x7f...</td>\n      <td>[[50.842822, -114.1334396], [50.8797823, -114....</td>\n      <td>NaN</td>\n    </tr>\n    <tr>\n      <th>...</th>\n      <td>...</td>\n      <td>...</td>\n      <td>...</td>\n    </tr>\n    <tr>\n      <th>95</th>\n      <td>&lt;folium.vector_layers.Rectangle object at 0x7f...</td>\n      <td>[[51.175464700000006, -114.0878505], [51.21242...</td>\n      <td>75.049505</td>\n    </tr>\n    <tr>\n      <th>96</th>\n      <td>&lt;folium.vector_layers.Rectangle object at 0x7f...</td>\n      <td>[[51.175464700000006, -114.0422614], [51.21242...</td>\n      <td>88.552381</td>\n    </tr>\n    <tr>\n      <th>97</th>\n      <td>&lt;folium.vector_layers.Rectangle object at 0x7f...</td>\n      <td>[[51.175464700000006, -113.9966723], [51.21242...</td>\n      <td>69.622980</td>\n    </tr>\n    <tr>\n      <th>98</th>\n      <td>&lt;folium.vector_layers.Rectangle object at 0x7f...</td>\n      <td>[[51.175464700000006, -113.9510832], [51.21242...</td>\n      <td>98.833333</td>\n    </tr>\n    <tr>\n      <th>99</th>\n      <td>&lt;folium.vector_layers.Rectangle object at 0x7f...</td>\n      <td>[[51.175464700000006, -113.9054941], [51.21242...</td>\n      <td>NaN</td>\n    </tr>\n  </tbody>\n</table>\n<p>100 rows × 3 columns</p>\n</div>"
     },
     "metadata": {},
     "execution_count": 4
    }
   ],
   "source": [
    "df=ctrl.get_frame('cells')\n",
    "df"
   ]
  },
  {
   "cell_type": "code",
   "execution_count": 5,
   "metadata": {
    "tags": []
   },
   "outputs": [
    {
     "output_type": "stream",
     "name": "stdout",
     "text": "[nan, nan, nan, nan, 2000, 98000, 172000, 140000, nan, nan, nan, nan, 14000, 40000, 365000, 1025000, 226000, 930000, 394000, 9000, nan, nan, nan, 75000, 395000, 911000, 848000, 972000, 231000, nan, nan, nan, nan, 6000, 564000, 880000, 1423000, 473000, 202000, 34000, nan, 34000, 165000, 644000, 1143000, 1451000, 1047000, 385000, 196000, nan, nan, 8000, 456000, 824000, 1843000, 3802000, 1452000, 1066000, 437000, 16000, 44000, 249000, 352000, 856000, 1158000, 1267000, 2002000, 1301000, 680000, nan, nan, 427000, 868000, 804000, 316000, 1184000, 368000, 490000, 399000, nan, nan, 180000, 386000, 614000, 887000, 719000, 822000, 313000, 124000, nan, nan, 7000, 14000, 42000, 36000, 23000, 167000, 41000, 40000, nan]\n"
    }
   ],
   "source": [
    "df= ctrl.get_frame('volumes')\n",
    "\n",
    "cells = ctrl.get_frame('cells')\n",
    "\n",
    "\n",
    "def get_cell_vol(cell_idx):\n",
    "    # print(f'testing cell {cell_idx}')\n",
    "    volume_sum = 0\n",
    "    num_points = 0 \n",
    "    for idx, row in df[['cell', 'VOLUME']].iterrows():\n",
    "        cell_dict = row['cell']\n",
    "        volume = row['VOLUME']\n",
    "        if cell_idx in cell_dict:\n",
    "            # print(f'{cell_idx} is in {cell_dict}')\n",
    "            these_points = cell_dict[cell_idx]\n",
    "            # print(f'these points = {these_points}')\n",
    "            volume_sum += volume\n",
    "            num_points += these_points\n",
    "    if num_points == 0:\n",
    "        return np.nan\n",
    "        # return 0\n",
    "    return volume_sum\n",
    "    \n",
    "i = 0 \n",
    "volume_sum = []\n",
    "while i < 100: \n",
    "    volume_sum.append(get_cell_vol(i))\n",
    "    i+=1\n",
    "print(volume_sum)\n",
    "cells['volume_sum'] = volume_sum\n",
    "\n"
   ]
  },
  {
   "cell_type": "code",
   "execution_count": 5,
   "metadata": {
    "tags": []
   },
   "outputs": [],
   "source": [
    "\n",
    "\n",
    "\n",
    "\n",
    "\n"
   ]
  },
  {
   "cell_type": "code",
   "execution_count": 6,
   "metadata": {
    "tags": []
   },
   "outputs": [
    {
     "output_type": "stream",
     "name": "stdout",
     "text": "[0, 0, 0, 0, 0, 7, 17, 13, 0, 0, 0, 0, 1, 6, 50, 111, 27, 104, 35, 2, 0, 0, 0, 9, 46, 154, 96, 93, 27, 0, 0, 0, 0, 0, 88, 225, 149, 104, 38, 0, 0, 1, 15, 69, 303, 307, 297, 63, 36, 0, 0, 3, 45, 107, 326, 465, 362, 259, 84, 5, 5, 14, 44, 123, 161, 238, 354, 290, 127, 0, 0, 26, 67, 93, 23, 161, 25, 80, 81, 0, 0, 10, 32, 84, 79, 94, 55, 63, 26, 0, 0, 0, 0, 11, 2, 5, 22, 20, 1, 0]\n"
    },
    {
     "output_type": "display_data",
     "data": {
      "text/plain": "                                                cells  \\\n55  <folium.vector_layers.Rectangle object at 0x7f...   \n56  <folium.vector_layers.Rectangle object at 0x7f...   \n66  <folium.vector_layers.Rectangle object at 0x7f...   \n54  <folium.vector_layers.Rectangle object at 0x7f...   \n45  <folium.vector_layers.Rectangle object at 0x7f...   \n..                                                ...   \n39  <folium.vector_layers.Rectangle object at 0x7f...   \n40  <folium.vector_layers.Rectangle object at 0x7f...   \n49  <folium.vector_layers.Rectangle object at 0x7f...   \n1   <folium.vector_layers.Rectangle object at 0x7f...   \n99  <folium.vector_layers.Rectangle object at 0x7f...   \n\n                                          cell_bounds  avg_speed  volume_sum  \\\n55  [[51.027623500000004, -114.0878505], [51.06458...  44.259012   3802000.0   \n56  [[51.027623500000004, -114.0422614], [51.06458...  74.371061   1452000.0   \n66  [[51.0645838, -114.0422614], [51.1015441, -113...  67.253333   2002000.0   \n54  [[51.027623500000004, -114.1334396], [51.06458...  57.833133   1843000.0   \n45  [[50.9906632, -114.0878505], [51.0276235000000...  58.443322   1451000.0   \n..                                                ...        ...         ...   \n39  [[50.953702899999996, -113.9054941], [50.99066...        NaN     34000.0   \n40  [[50.9906632, -114.315796], [51.02762350000000...        NaN         NaN   \n49  [[50.9906632, -113.9054941], [51.0276235000000...  80.000000         NaN   \n1   [[50.842822, -114.2702069], [50.8797823, -114....        NaN         NaN   \n99  [[51.175464700000006, -113.9054941], [51.21242...        NaN         NaN   \n\n    incident_count  \n55             465  \n56             362  \n66             354  \n54             326  \n45             307  \n..             ...  \n39               0  \n40               0  \n49               0  \n1                0  \n99               0  \n\n[100 rows x 5 columns]",
      "text/html": "<div>\n<style scoped>\n    .dataframe tbody tr th:only-of-type {\n        vertical-align: middle;\n    }\n\n    .dataframe tbody tr th {\n        vertical-align: top;\n    }\n\n    .dataframe thead th {\n        text-align: right;\n    }\n</style>\n<table border=\"1\" class=\"dataframe\">\n  <thead>\n    <tr style=\"text-align: right;\">\n      <th></th>\n      <th>cells</th>\n      <th>cell_bounds</th>\n      <th>avg_speed</th>\n      <th>volume_sum</th>\n      <th>incident_count</th>\n    </tr>\n  </thead>\n  <tbody>\n    <tr>\n      <th>55</th>\n      <td>&lt;folium.vector_layers.Rectangle object at 0x7f...</td>\n      <td>[[51.027623500000004, -114.0878505], [51.06458...</td>\n      <td>44.259012</td>\n      <td>3802000.0</td>\n      <td>465</td>\n    </tr>\n    <tr>\n      <th>56</th>\n      <td>&lt;folium.vector_layers.Rectangle object at 0x7f...</td>\n      <td>[[51.027623500000004, -114.0422614], [51.06458...</td>\n      <td>74.371061</td>\n      <td>1452000.0</td>\n      <td>362</td>\n    </tr>\n    <tr>\n      <th>66</th>\n      <td>&lt;folium.vector_layers.Rectangle object at 0x7f...</td>\n      <td>[[51.0645838, -114.0422614], [51.1015441, -113...</td>\n      <td>67.253333</td>\n      <td>2002000.0</td>\n      <td>354</td>\n    </tr>\n    <tr>\n      <th>54</th>\n      <td>&lt;folium.vector_layers.Rectangle object at 0x7f...</td>\n      <td>[[51.027623500000004, -114.1334396], [51.06458...</td>\n      <td>57.833133</td>\n      <td>1843000.0</td>\n      <td>326</td>\n    </tr>\n    <tr>\n      <th>45</th>\n      <td>&lt;folium.vector_layers.Rectangle object at 0x7f...</td>\n      <td>[[50.9906632, -114.0878505], [51.0276235000000...</td>\n      <td>58.443322</td>\n      <td>1451000.0</td>\n      <td>307</td>\n    </tr>\n    <tr>\n      <th>...</th>\n      <td>...</td>\n      <td>...</td>\n      <td>...</td>\n      <td>...</td>\n      <td>...</td>\n    </tr>\n    <tr>\n      <th>39</th>\n      <td>&lt;folium.vector_layers.Rectangle object at 0x7f...</td>\n      <td>[[50.953702899999996, -113.9054941], [50.99066...</td>\n      <td>NaN</td>\n      <td>34000.0</td>\n      <td>0</td>\n    </tr>\n    <tr>\n      <th>40</th>\n      <td>&lt;folium.vector_layers.Rectangle object at 0x7f...</td>\n      <td>[[50.9906632, -114.315796], [51.02762350000000...</td>\n      <td>NaN</td>\n      <td>NaN</td>\n      <td>0</td>\n    </tr>\n    <tr>\n      <th>49</th>\n      <td>&lt;folium.vector_layers.Rectangle object at 0x7f...</td>\n      <td>[[50.9906632, -113.9054941], [51.0276235000000...</td>\n      <td>80.000000</td>\n      <td>NaN</td>\n      <td>0</td>\n    </tr>\n    <tr>\n      <th>1</th>\n      <td>&lt;folium.vector_layers.Rectangle object at 0x7f...</td>\n      <td>[[50.842822, -114.2702069], [50.8797823, -114....</td>\n      <td>NaN</td>\n      <td>NaN</td>\n      <td>0</td>\n    </tr>\n    <tr>\n      <th>99</th>\n      <td>&lt;folium.vector_layers.Rectangle object at 0x7f...</td>\n      <td>[[51.175464700000006, -113.9054941], [51.21242...</td>\n      <td>NaN</td>\n      <td>NaN</td>\n      <td>0</td>\n    </tr>\n  </tbody>\n</table>\n<p>100 rows × 5 columns</p>\n</div>"
     },
     "metadata": {}
    }
   ],
   "source": [
    "def count_incidents(cell_idx):\n",
    "    incidents = ctrl.get_frame('incidents')\n",
    "    # print(f'testing cell {cell_idx}')\n",
    "    counter = 0\n",
    "    for _, cell in incidents['cell'].items(): \n",
    "        if cell_idx == cell:\n",
    "            counter +=1\n",
    "    return counter\n",
    "\n",
    "i = 0 \n",
    "inc_count = []\n",
    "\n",
    "while i<100: \n",
    "    inc_count.append(count_incidents(i))\n",
    "    i+=1\n",
    "print(inc_count)\n",
    "cells['incident_count'] = inc_count\n",
    "\n",
    "display(cells.sort_values(by='incident_count', ascending=False))"
   ]
  },
  {
   "cell_type": "code",
   "execution_count": 7,
   "metadata": {
    "tags": []
   },
   "outputs": [
    {
     "output_type": "display_data",
     "data": {
      "text/plain": "6"
     },
     "metadata": {}
    },
    {
     "output_type": "stream",
     "name": "stdout",
     "text": "0        True\n1        True\n2        True\n3        True\n4        True\n        ...  \n8746    False\n8747    False\n8748    False\n8749    False\n8750    False\nName: date, Length: 8751, dtype: bool\n"
    }
   ],
   "source": [
    "df = ctrl.get_frame('temporal')\n",
    "df\n",
    "display(df['date'].iloc[0].hour)\n",
    "\n",
    "df[(df['date'] > '2018-01-01 00:00:00') & (df['date'] < '2018-01-02 00:00:00')]\n",
    "\n",
    "filt = (df['date'] > '2018-01-01 00:00:00') & (df['date'] < '2018-01-02 00:00:00')\n",
    "print(filt)"
   ]
  },
  {
   "cell_type": "code",
   "execution_count": 8,
   "metadata": {
    "tags": []
   },
   "outputs": [
    {
     "output_type": "stream",
     "name": "stdout",
     "text": "There were 143 melt-freeze cycles in 2018!\n"
    },
    {
     "output_type": "execute_result",
     "data": {
      "text/plain": "35     2018-01-02 17:00:00\n36     2018-01-02 18:00:00\n37     2018-01-02 19:00:00\n38     2018-01-02 20:00:00\n39     2018-01-02 21:00:00\n               ...        \n8712   2018-12-30 06:00:00\n8713   2018-12-30 07:00:00\n8714   2018-12-30 08:00:00\n8715   2018-12-30 09:00:00\n8716   2018-12-30 10:00:00\nName: date, Length: 1018, dtype: datetime64[ns]"
     },
     "metadata": {},
     "execution_count": 8
    }
   ],
   "source": [
    "df = ctrl.get_frame('temporal')\n",
    "# display(df)\n",
    "\n",
    "\n",
    "\n",
    "# display(df['Temp (C)'])\n",
    "\n",
    "def melt_freeze(temps, freeze_temp, target = 8):\n",
    "    '''\n",
    "    return pd.Series bool filter of  hours from 2018 such that Ti is an hour where the temperature fell below freeze_temp (C). Targets Ti are the ith hours after the freeze_temp occured. \n",
    "\n",
    "    :Params:    temps: pd.Series of hourly temperatures degrees C\n",
    "                freeze_temp: temperature of interest \n",
    "                target: number of temperatures to capture after the freeze_temp. \n",
    "    :Returns:  pd.Series bool filter\n",
    "    '''\n",
    "    then = 0\n",
    "    now = 1\n",
    "    freeze = freeze_temp\n",
    "\n",
    "    #list of target hours\n",
    "    hours=[]\n",
    "\n",
    "    #pivot + 8 hours\n",
    "    target = target \n",
    "\n",
    "    #  Assume typical dangerous freeze near midnight and we wish to capture the morning     rush hour between 6-8am . \n",
    "    \n",
    "    while then < temps.size: \n",
    "        target_hours = []\n",
    "        try: \n",
    "            if temps[now] <= freeze and temps[then] > freeze:\n",
    "                # print('hit')\n",
    "                idx = 0\n",
    "                while idx < target: \n",
    "                    target_hours.append(now+idx)\n",
    "                    idx+=1\n",
    "                hours.append(target_hours)\n",
    "            then +=1\n",
    "            now +=1\n",
    "        except: \n",
    "            then +=1\n",
    "            now +=1\n",
    "            continue\n",
    "\n",
    "    mask_indices =[]\n",
    "    for targets in hours: \n",
    "        for target in targets: \n",
    "            if target in mask_indices: \n",
    "                continue\n",
    "            else: \n",
    "                mask_indices.append(target)\n",
    "\n",
    "    mask = []\n",
    "    idx = 0\n",
    "    while idx < temps.size:\n",
    "        if idx in mask_indices:\n",
    "            mask.append(True)\n",
    "        else:\n",
    "            mask.append(False)\n",
    "        idx += 1\n",
    "    mask = pd.Series(mask)\n",
    "    print(f'There were {len(hours)} melt-freeze cycles in 2018!')\n",
    "    return(mask)\n",
    "\n",
    "mask = melt_freeze(df['Temp (C)'], 0, 8)\n",
    "\n",
    "\n",
    "df['date'].loc[mask]\n",
    "\n",
    "\n",
    "\n",
    "\n",
    "\n"
   ]
  },
  {
   "cell_type": "code",
   "execution_count": 9,
   "metadata": {
    "tags": []
   },
   "outputs": [
    {
     "output_type": "display_data",
     "data": {
      "text/plain": "date\n2018-01-01 06:00:00    2\n2018-01-01 07:00:00    0\n2018-01-01 08:00:00    0\n2018-01-01 09:00:00    3\n2018-01-01 10:00:00    1\n                      ..\n2018-12-31 16:00:00    1\n2018-12-31 17:00:00    2\n2018-12-31 18:00:00    1\n2018-12-31 19:00:00    0\n2018-12-31 20:00:00    2\nFreq: H, Name: Count, Length: 8751, dtype: int64"
     },
     "metadata": {}
    },
    {
     "output_type": "stream",
     "name": "stdout",
     "text": "Count\nincidents\n[24.1 64.4 32.2 19.3 48.3  9.7  2.4  0.4  0.2  0.8  3.2  6.4  8.1  4.8\n  3.6  1.6 16.1 12.9 40.2 56.3 11.3  2.   4.   1.  80.5  nan  2.8  1.2\n 14.5  0.6  0.  22.5 20.9 72.4 17.7]\n"
    },
    {
     "output_type": "error",
     "ename": "KeyError",
     "evalue": "'incidents'",
     "traceback": [
      "\u001b[0;31m---------------------------------------------------------------------------\u001b[0m",
      "\u001b[0;31mKeyError\u001b[0m                                  Traceback (most recent call last)",
      "\u001b[0;32m<ipython-input-9-0cba8b6ac6a0>\u001b[0m in \u001b[0;36m<module>\u001b[0;34m\u001b[0m\n\u001b[1;32m     30\u001b[0m \u001b[0mprint\u001b[0m\u001b[0;34m(\u001b[0m\u001b[0mmerged\u001b[0m\u001b[0;34m[\u001b[0m\u001b[0;34m'Visibility (km)'\u001b[0m\u001b[0;34m]\u001b[0m\u001b[0;34m.\u001b[0m\u001b[0munique\u001b[0m\u001b[0;34m(\u001b[0m\u001b[0;34m)\u001b[0m\u001b[0;34m)\u001b[0m\u001b[0;34m\u001b[0m\u001b[0;34m\u001b[0m\u001b[0m\n\u001b[1;32m     31\u001b[0m \u001b[0;34m\u001b[0m\u001b[0m\n\u001b[0;32m---> 32\u001b[0;31m \u001b[0mmerged\u001b[0m \u001b[0;34m=\u001b[0m \u001b[0mmerged\u001b[0m\u001b[0;34m.\u001b[0m\u001b[0msort_values\u001b[0m\u001b[0;34m(\u001b[0m\u001b[0mby\u001b[0m\u001b[0;34m=\u001b[0m\u001b[0;34m'incidents'\u001b[0m\u001b[0;34m,\u001b[0m \u001b[0mascending\u001b[0m \u001b[0;34m=\u001b[0m \u001b[0;32mFalse\u001b[0m\u001b[0;34m)\u001b[0m\u001b[0;34m\u001b[0m\u001b[0;34m\u001b[0m\u001b[0m\n\u001b[0m\u001b[1;32m     33\u001b[0m \u001b[0;31m# display(merged)\u001b[0m\u001b[0;34m\u001b[0m\u001b[0;34m\u001b[0m\u001b[0;34m\u001b[0m\u001b[0m\n\u001b[1;32m     34\u001b[0m \u001b[0;34m\u001b[0m\u001b[0m\n",
      "\u001b[0;32m~/miniconda3/lib/python3.7/site-packages/pandas/core/frame.py\u001b[0m in \u001b[0;36msort_values\u001b[0;34m(self, by, axis, ascending, inplace, kind, na_position, ignore_index)\u001b[0m\n\u001b[1;32m   4925\u001b[0m \u001b[0;34m\u001b[0m\u001b[0m\n\u001b[1;32m   4926\u001b[0m             \u001b[0mby\u001b[0m \u001b[0;34m=\u001b[0m \u001b[0mby\u001b[0m\u001b[0;34m[\u001b[0m\u001b[0;36m0\u001b[0m\u001b[0;34m]\u001b[0m\u001b[0;34m\u001b[0m\u001b[0;34m\u001b[0m\u001b[0m\n\u001b[0;32m-> 4927\u001b[0;31m             \u001b[0mk\u001b[0m \u001b[0;34m=\u001b[0m \u001b[0mself\u001b[0m\u001b[0;34m.\u001b[0m\u001b[0m_get_label_or_level_values\u001b[0m\u001b[0;34m(\u001b[0m\u001b[0mby\u001b[0m\u001b[0;34m,\u001b[0m \u001b[0maxis\u001b[0m\u001b[0;34m=\u001b[0m\u001b[0maxis\u001b[0m\u001b[0;34m)\u001b[0m\u001b[0;34m\u001b[0m\u001b[0;34m\u001b[0m\u001b[0m\n\u001b[0m\u001b[1;32m   4928\u001b[0m \u001b[0;34m\u001b[0m\u001b[0m\n\u001b[1;32m   4929\u001b[0m             \u001b[0;32mif\u001b[0m \u001b[0misinstance\u001b[0m\u001b[0;34m(\u001b[0m\u001b[0mascending\u001b[0m\u001b[0;34m,\u001b[0m \u001b[0;34m(\u001b[0m\u001b[0mtuple\u001b[0m\u001b[0;34m,\u001b[0m \u001b[0mlist\u001b[0m\u001b[0;34m)\u001b[0m\u001b[0;34m)\u001b[0m\u001b[0;34m:\u001b[0m\u001b[0;34m\u001b[0m\u001b[0;34m\u001b[0m\u001b[0m\n",
      "\u001b[0;32m~/miniconda3/lib/python3.7/site-packages/pandas/core/generic.py\u001b[0m in \u001b[0;36m_get_label_or_level_values\u001b[0;34m(self, key, axis)\u001b[0m\n\u001b[1;32m   1690\u001b[0m             \u001b[0mvalues\u001b[0m \u001b[0;34m=\u001b[0m \u001b[0mself\u001b[0m\u001b[0;34m.\u001b[0m\u001b[0maxes\u001b[0m\u001b[0;34m[\u001b[0m\u001b[0maxis\u001b[0m\u001b[0;34m]\u001b[0m\u001b[0;34m.\u001b[0m\u001b[0mget_level_values\u001b[0m\u001b[0;34m(\u001b[0m\u001b[0mkey\u001b[0m\u001b[0;34m)\u001b[0m\u001b[0;34m.\u001b[0m\u001b[0m_values\u001b[0m\u001b[0;34m\u001b[0m\u001b[0;34m\u001b[0m\u001b[0m\n\u001b[1;32m   1691\u001b[0m         \u001b[0;32melse\u001b[0m\u001b[0;34m:\u001b[0m\u001b[0;34m\u001b[0m\u001b[0;34m\u001b[0m\u001b[0m\n\u001b[0;32m-> 1692\u001b[0;31m             \u001b[0;32mraise\u001b[0m \u001b[0mKeyError\u001b[0m\u001b[0;34m(\u001b[0m\u001b[0mkey\u001b[0m\u001b[0;34m)\u001b[0m\u001b[0;34m\u001b[0m\u001b[0;34m\u001b[0m\u001b[0m\n\u001b[0m\u001b[1;32m   1693\u001b[0m \u001b[0;34m\u001b[0m\u001b[0m\n\u001b[1;32m   1694\u001b[0m         \u001b[0;31m# Check for duplicates\u001b[0m\u001b[0;34m\u001b[0m\u001b[0;34m\u001b[0m\u001b[0;34m\u001b[0m\u001b[0m\n",
      "\u001b[0;31mKeyError\u001b[0m: 'incidents'"
     ]
    }
   ],
   "source": [
    "df =ctrl.get_frame('temporal')\n",
    "\n",
    "df['date'] = pd.to_datetime(df['Date/Time'])\n",
    "# display(df)\n",
    "\n",
    "df2 = ctrl.get_frame('incidents')\n",
    "\n",
    "# display(df2)\n",
    "df2['date'] = pd.to_datetime(df2['START_DT'])\n",
    "# display(df2)\n",
    "\n",
    "df2['date'] = pd.to_datetime(df2['START_DT'])\n",
    "mask_2018 = df2['date'].dt.year == 2018\n",
    "incidents_2018 = df2[mask_2018]\n",
    "# display(incidents_2018)\n",
    "# display(df2['date'])\n",
    "\n",
    "\n",
    "incidents_2018 = incidents_2018.resample('H', on='date')['Count'].count()\n",
    "display(incidents_2018)\n",
    "print(incidents_2018.name)\n",
    "incidents_2018.name = 'incidents'\n",
    "print(incidents_2018.name)\n",
    "\n",
    "\n",
    "merged = pd.merge(df, incidents_2018, on = 'date')\n",
    "\n",
    "# display(merged)\n",
    "\n",
    "print(merged['Visibility (km)'].unique())\n",
    "\n",
    "merged = merged.sort_values(by='incidents', ascending = False)\n",
    "# display(merged)\n",
    "\n",
    "grouped_weather = merged.groupby(by='Weather')\n",
    "\n",
    "# display(grouped_weather['Count'].count())\n",
    "\n",
    "# display(cell_groups['BLADE_TYPE'].agg('count').sort_values(ascending=False).head(10))\n",
    "\n",
    "\n",
    "# cell_groups = signs_test_df.groupby(by='cell', as_index=True, sort=True)\n",
    "\n",
    "\n",
    "\n"
   ]
  },
  {
   "cell_type": "code",
   "execution_count": 10,
   "metadata": {},
   "outputs": [
    {
     "output_type": "execute_result",
     "data": {
      "text/plain": "Empty DataFrame\nColumns: [INCIDENT INFO, DESCRIPTION, START_DT, MODIFIED_DT, QUADRANT, Longitude, Latitude, location, Count, id, date, geometry, cell]\nIndex: []",
      "text/html": "<div>\n<style scoped>\n    .dataframe tbody tr th:only-of-type {\n        vertical-align: middle;\n    }\n\n    .dataframe tbody tr th {\n        vertical-align: top;\n    }\n\n    .dataframe thead th {\n        text-align: right;\n    }\n</style>\n<table border=\"1\" class=\"dataframe\">\n  <thead>\n    <tr style=\"text-align: right;\">\n      <th></th>\n      <th>INCIDENT INFO</th>\n      <th>DESCRIPTION</th>\n      <th>START_DT</th>\n      <th>MODIFIED_DT</th>\n      <th>QUADRANT</th>\n      <th>Longitude</th>\n      <th>Latitude</th>\n      <th>location</th>\n      <th>Count</th>\n      <th>id</th>\n      <th>date</th>\n      <th>geometry</th>\n      <th>cell</th>\n    </tr>\n  </thead>\n  <tbody>\n  </tbody>\n</table>\n</div>"
     },
     "metadata": {},
     "execution_count": 10
    }
   ],
   "source": [
    "df = ctrl.get_frame('incidents')\n",
    "\n",
    "filt = df['Count'] != 1\n",
    "\n",
    "df.loc[filt]"
   ]
  }
 ]
}