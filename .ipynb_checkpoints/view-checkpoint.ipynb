{
 "cells": [
  {
   "cell_type": "markdown",
   "metadata": {},
   "source": [
    "# ENSF 592 - FINAL PROJECT\n",
    "## Calgary Incident Analysis\n",
    "### By: Mike Lasby\n",
    "\n",
    "# README\n",
    "This notebook is the entry point of our project and functions as the View. The notebook depends on the Controller.py class to retrieve views of our data from the Model. Please see the enclosed pdf report for a discussion of the data analysis below. "
   ]
  },
  {
   "cell_type": "code",
   "execution_count": 1,
   "metadata": {},
   "outputs": [],
   "source": [
    "%matplotlib inline\n",
    "import numpy as np\n",
    "import pandas as pd\n",
    "import seaborn as sns\n",
    "from geojson import Point, MultiLineString\n",
    "import geopandas as gpdnum_points\n",
    "import re\n",
    "import math\n",
    "from folium_0_12 import folium #using pre released v0.12 due to heatmap issues \n",
    "# NOTE:  https://github.com/python-visualization/folium/issues/1271\n",
    "import matplotlib.pyplot as plt\n",
    "from controller import Controller"
   ]
  },
  {
   "cell_type": "code",
   "execution_count": null,
   "metadata": {
    "tags": []
   },
   "outputs": [
    {
     "name": "stdout",
     "output_type": "stream",
     "text": [
      "Loading Data...\n",
      "Getting weather at yyc for month 1 in 2018\n",
      "Getting weather at yyc for month 2 in 2018\n",
      "Getting weather at yyc for month 3 in 2018\n",
      "Getting weather at yyc for month 4 in 2018\n"
     ]
    }
   ],
   "source": [
    "ctrl = Controller()\n",
    "ctrl.load_data()\n",
    "ctrl.add_geo_cols()\n",
    "ctrl.add_cell_col()\n",
    "ctrl.get_cell_data()\n",
    "ctrl.generate_maps()"
   ]
  },
  {
   "cell_type": "code",
   "execution_count": null,
   "metadata": {},
   "outputs": [],
   "source": [
    "cells = ctrl.get_frame('cells')\n",
    "display(cells.sort_values(by='avg_speed', ascending = False).head())\n",
    "display(cells.sort_values(by='volume_sum', ascending = False).head())\n",
    "display(cells.sort_values(by='incident_count', ascending = False).head())\n"
   ]
  },
  {
   "cell_type": "markdown",
   "metadata": {},
   "source": [
    "# Map Visualizations"
   ]
  },
  {
   "cell_type": "markdown",
   "metadata": {},
   "source": [
    "## Cell Map"
   ]
  },
  {
   "cell_type": "code",
   "execution_count": null,
   "metadata": {},
   "outputs": [],
   "source": [
    "%%html\n",
    "<iframe src=\"cell_map.html\" frameborder = \"0\" width = \"960\" height = \"600\" allowfullscreen=\"true\" mozallowfullscreen=\"true\" webkitallowfullscreen=\"true\"></iframe>"
   ]
  },
  {
   "cell_type": "markdown",
   "metadata": {},
   "source": [
    "## Average Speed Map"
   ]
  },
  {
   "cell_type": "code",
   "execution_count": null,
   "metadata": {
    "tags": []
   },
   "outputs": [],
   "source": [
    "ctrl.draw_speed_map()"
   ]
  },
  {
   "cell_type": "code",
   "execution_count": null,
   "metadata": {
    "tags": []
   },
   "outputs": [],
   "source": [
    "%%html\n",
    "<iframe src=\"speed_map.html\" frameborder = \"0\" width = \"960\" height = \"600\" allowfullscreen=\"true\" mozallowfullscreen=\"true\" webkitallowfullscreen=\"true\"></iframe>"
   ]
  },
  {
   "cell_type": "markdown",
   "metadata": {},
   "source": [
    "## Traffic Volume Heatmap"
   ]
  },
  {
   "cell_type": "code",
   "execution_count": null,
   "metadata": {
    "tags": []
   },
   "outputs": [],
   "source": [
    "ctrl.gen_heatmap()"
   ]
  },
  {
   "cell_type": "code",
   "execution_count": null,
   "metadata": {
    "tags": []
   },
   "outputs": [],
   "source": [
    "%%html\n",
    "<iframe src=\"volume_map.html\" frameborder = \"0\" width = \"960\" height = \"600\" allowfullscreen=\"true\" mozallowfullscreen=\"true\" webkitallowfullscreen=\"true\"></iframe>\n",
    "\n"
   ]
  },
  {
   "cell_type": "markdown",
   "metadata": {},
   "source": [
    "# Cell Summary "
   ]
  },
  {
   "cell_type": "code",
   "execution_count": null,
   "metadata": {},
   "outputs": [],
   "source": [
    "cells = ctrl.get_frame('cells')\n",
    "fig, ax = plt.subplots(nrows = 1, ncols = 1, figsize = (18,12)) #we want to plot side by side and to that figsize\n",
    "sns.set_style('whitegrid')\n",
    "sns.barplot(x=cells.index, y = cells['incident_count'], data =cells)\n",
    "ax.set_xlabel(\"Cells\")\n",
    "ax.set_ylabel(\"Total Annual Incidents\")\n",
    "ax.set_title('Annual Incident vs. Cell')\n",
    "ax.set_xticklabels(ax.get_xticklabels(), rotation=90, ha='right')\n",
    "fig.show()\n",
    "plt.savefig('./plots/annual incident vs cell.png')\n"
   ]
  },
  {
   "cell_type": "code",
   "execution_count": null,
   "metadata": {
    "tags": []
   },
   "outputs": [],
   "source": [
    "cells = ctrl.get_frame('cells')\n",
    "\n",
    "fig, ( (inc_ax, inc_mil_ax), (speed_ax, vol_ax), (sign_ax, signal_ax), (camera_ax, unsued_ax) ) = plt.subplots(nrows = 4, ncols = 2, figsize=(18,36))\n",
    "\n",
    "ctrl.cell_heatmap('cells', 'incident_count', inc_ax, 'Incidents')\n",
    "ctrl.cell_heatmap('cells', 'inc_per_mil_vol', inc_mil_ax, 'Incidents per million volume')\n",
    "ctrl.cell_heatmap('cells', 'avg_speed',speed_ax, 'Average Speed')\n",
    "ctrl.cell_heatmap('cells', 'volume_sum', vol_ax, 'Total Volume')\n",
    "ctrl.cell_heatmap('cells', 'sign_count', sign_ax, 'Count of Signs')\n",
    "ctrl.cell_heatmap('cells', 'signal_count', signal_ax, 'Count of Signals')\n",
    "ctrl.cell_heatmap('cells', 'camera_count',camera_ax, 'Count of Cameras')\n",
    "fig.suptitle(\"Observed Data per Cell\")\n",
    "fig.tight_layout(pad=5)\n",
    "unsued_ax.axis('off')\n",
    "fig.show()\n",
    "plt.savefig('./plots/heatmaps.png')\n"
   ]
  },
  {
   "cell_type": "markdown",
   "metadata": {},
   "source": [
    "# Correlations"
   ]
  },
  {
   "cell_type": "markdown",
   "metadata": {},
   "source": [
    "## Road Feature Correlations"
   ]
  },
  {
   "cell_type": "code",
   "execution_count": null,
   "metadata": {},
   "outputs": [],
   "source": [
    "static_corr = ctrl.get_frame('cells')[ ['incident_count', 'avg_speed', 'volume_sum', 'sign_count', 'signal_count', 'camera_count', 'inc_per_mil_vol'] ]\n",
    "static_corr = static_corr.corr(method='spearman')\n",
    "# display(static_corr['incident_count'])\n",
    "sns.set(font_scale=1.8)\n",
    "fig, ax = plt.subplots(nrows = 1, ncols = 1, figsize = (18,12)) \n",
    "\n",
    "mask = np.zeros_like(static_corr)\n",
    "mask[np.triu_indices_from(mask)] = True\n",
    "sns.heatmap(static_corr, annot= True, mask=mask)\n",
    "fig.show()\n",
    "plt.savefig('./plots/static correlations.png')"
   ]
  },
  {
   "cell_type": "markdown",
   "metadata": {},
   "source": [
    "## Time Series Correlations "
   ]
  },
  {
   "cell_type": "markdown",
   "metadata": {},
   "source": [
    "### Hourly Correlations"
   ]
  },
  {
   "cell_type": "code",
   "execution_count": null,
   "metadata": {},
   "outputs": [],
   "source": [
    "hourly_corr = ctrl.get_frame('hourly')[ ['incidents', 'Temp (C)', 'Visibility (km)'] ]\n",
    "hourly_corr = hourly_corr.corr(method='spearman')\n",
    "fig, ax = plt.subplots(nrows = 1, ncols = 1, figsize = (18,12)) \n",
    "\n",
    "mask = np.zeros_like(hourly_corr)\n",
    "mask[np.triu_indices_from(mask)] = True\n",
    "sns.heatmap(hourly_corr, annot= True, mask=mask)\n",
    "fig.show()\n",
    "plt.savefig('./plots/hourly correlations.png')"
   ]
  },
  {
   "cell_type": "markdown",
   "metadata": {},
   "source": [
    "### Daily Correlations"
   ]
  },
  {
   "cell_type": "code",
   "execution_count": null,
   "metadata": {},
   "outputs": [],
   "source": [
    "daily_corr = ctrl.get_frame('daily')[ ['sum_daily_incidents', 'avg_daily_temp', 'avg_daily_vis'] ]\n",
    "daily_corr = daily_corr.corr(method='spearman')\n",
    "sns.set(font_scale=1.8)\n",
    "\n",
    "fig, ax = plt.subplots(nrows = 1, ncols = 1, figsize = (18,12)) \n",
    "\n",
    "mask = np.zeros_like(hourly_corr)\n",
    "mask[np.triu_indices_from(mask)] = True\n",
    "sns.heatmap(daily_corr, annot= True, mask=mask)\n",
    "fig.show()\n",
    "plt.savefig('./plots/daily correlations.png')"
   ]
  },
  {
   "cell_type": "markdown",
   "metadata": {},
   "source": [
    "# Incidents vs. Speed "
   ]
  },
  {
   "cell_type": "code",
   "execution_count": null,
   "metadata": {},
   "outputs": [],
   "source": [
    "sns.set(font_scale=1.0)\n",
    "sns.set_style('whitegrid')\n",
    "df =  ctrl.get_frame('cells')\n",
    "target_text = 'Average Speed Limit'\n",
    "target_col = 'avg_speed'\n",
    "responding_col = 'incident_count'\n",
    "x_label = 'Average Speed Limit'\n",
    "y_label = 'Incident Count'\n",
    "title = 'Incidents vs. Average Speed Limit'\n",
    "binned = True\n",
    "bin_col = 'speed_bins'\n",
    "\n",
    "fig = ctrl.get_super_plot(df, target_text, target_col, responding_col, x_label, y_label, title, binned, bin_col)\n",
    "fig.show()\n"
   ]
  },
  {
   "cell_type": "markdown",
   "metadata": {},
   "source": [
    "# Incidents per million trips vs. Speed"
   ]
  },
  {
   "cell_type": "code",
   "execution_count": null,
   "metadata": {},
   "outputs": [],
   "source": [
    "sns.set(font_scale=1.0)\n",
    "sns.set_style('whitegrid')\n",
    "df =  ctrl.get_frame('cells')\n",
    "target_text = 'Average Speed Limit'\n",
    "target_col = 'avg_speed'\n",
    "responding_col = 'inc_per_mil_vol'\n",
    "x_label = 'Average Speed Limit'\n",
    "y_label = 'Incident Count Per Million Trips'\n",
    "title = 'Incident Count Per Million Trips vs. Average Speed Limit'\n",
    "binned = True\n",
    "bin_col = 'speed_bins'\n",
    "\n",
    "fig = ctrl.get_super_plot(df, target_text, target_col, responding_col, x_label, y_label, title, binned, bin_col)\n",
    "fig.show()\n"
   ]
  },
  {
   "cell_type": "markdown",
   "metadata": {},
   "source": [
    "# Incidents vs. Volume"
   ]
  },
  {
   "cell_type": "code",
   "execution_count": null,
   "metadata": {},
   "outputs": [],
   "source": [
    "df =  ctrl.get_frame('cells')\n",
    "target_text = 'Total Volume'\n",
    "target_col = 'volume_sum'\n",
    "responding_col = 'incident_count'\n",
    "x_label = 'Total Volume'\n",
    "y_label = 'Incident Count'\n",
    "title = 'Incidents vs. Total Volume'\n",
    "binned = True\n",
    "bin_col = 'volume_bins'\n",
    "\n",
    "fig = ctrl.get_super_plot(df, target_text, target_col, responding_col, x_label, y_label, title, binned, bin_col)\n",
    "fig.show()\n"
   ]
  },
  {
   "cell_type": "markdown",
   "metadata": {},
   "source": [
    "# Incidents vs. Cameras"
   ]
  },
  {
   "cell_type": "code",
   "execution_count": null,
   "metadata": {},
   "outputs": [],
   "source": [
    "df =  ctrl.get_frame('cells')\n",
    "target_text = 'Camera Count'\n",
    "target_col = 'camera_count'\n",
    "responding_col = 'incident_count'\n",
    "x_label = 'Count of Cameras'\n",
    "y_label = 'Incident Count'\n",
    "title = 'Incidents vs. Camera Count'\n",
    "binned = False\n",
    "\n",
    "fig = ctrl.get_super_plot(df, target_text, target_col, responding_col, x_label, y_label, title, binned, bin_col)\n",
    "fig.show()"
   ]
  },
  {
   "cell_type": "markdown",
   "metadata": {},
   "source": [
    "# Incidents per million trips vs. Cameras"
   ]
  },
  {
   "cell_type": "code",
   "execution_count": null,
   "metadata": {},
   "outputs": [],
   "source": [
    "df =  ctrl.get_frame('cells')\n",
    "target_text = 'Camera Count'\n",
    "target_col = 'camera_count'\n",
    "responding_col = 'inc_per_mil_vol'\n",
    "x_label = 'Count of Cameras'\n",
    "y_label = 'Incident Count Per Million Trips'\n",
    "title = 'Incidents Per Million Trips vs. Camera Count'\n",
    "binned = False\n",
    "\n",
    "fig = ctrl.get_super_plot(df, target_text, target_col, responding_col, x_label, y_label, title, binned, bin_col)\n",
    "fig.show()"
   ]
  },
  {
   "cell_type": "markdown",
   "metadata": {},
   "source": [
    "# Incidents vs. Signals"
   ]
  },
  {
   "cell_type": "code",
   "execution_count": null,
   "metadata": {},
   "outputs": [],
   "source": [
    "df =  ctrl.get_frame('cells')\n",
    "target_text = 'Signals'\n",
    "target_col = 'signal_count'\n",
    "responding_col = 'incident_count'\n",
    "x_label = 'Count of Signals'\n",
    "y_label = 'Incident Count'\n",
    "title = 'Incidents vs. Signal Count'\n",
    "binned = True\n",
    "bin_col = 'signal_bins'\n",
    "\n",
    "fig = ctrl.get_super_plot(df, target_text, target_col, responding_col, x_label, y_label, title, binned, bin_col)\n",
    "fig.show()"
   ]
  },
  {
   "cell_type": "markdown",
   "metadata": {},
   "source": [
    "# Incidents per million trips vs. Signals"
   ]
  },
  {
   "cell_type": "code",
   "execution_count": null,
   "metadata": {},
   "outputs": [],
   "source": [
    "df =  ctrl.get_frame('cells')\n",
    "target_text = 'Signals'\n",
    "target_col = 'signal_count'\n",
    "responding_col = 'inc_per_mil_vol'\n",
    "x_label = 'Count of Signals'\n",
    "y_label = 'Incident Count Per Million Trips'\n",
    "title = 'Incidents Count Per Million Trips vs. Signal Count'\n",
    "binned = True\n",
    "bin_col = 'signal_bins'\n",
    "\n",
    "fig = ctrl.get_super_plot(df, target_text, target_col, responding_col, x_label, y_label, title, binned, bin_col)\n",
    "fig.show()"
   ]
  },
  {
   "cell_type": "markdown",
   "metadata": {},
   "source": [
    "# Incidents vs. Signs"
   ]
  },
  {
   "cell_type": "code",
   "execution_count": null,
   "metadata": {},
   "outputs": [],
   "source": [
    "df =  ctrl.get_frame('cells')\n",
    "target_text = 'Signs'\n",
    "target_col = 'sign_count'\n",
    "responding_col = 'incident_count'\n",
    "x_label = 'Count of Signs'\n",
    "y_label = 'Incident Count'\n",
    "title = 'Incidents vs. Sign Count'\n",
    "binned = True\n",
    "bin_col = 'sign_bins'\n",
    "\n",
    "fig = ctrl.get_super_plot(df, target_text, target_col, responding_col, x_label, y_label, title, binned, bin_col)\n",
    "fig.show()"
   ]
  },
  {
   "cell_type": "markdown",
   "metadata": {},
   "source": [
    "# Incident Count Per Million Trip vs. Signs"
   ]
  },
  {
   "cell_type": "code",
   "execution_count": null,
   "metadata": {},
   "outputs": [],
   "source": [
    "df =  ctrl.get_frame('cells')\n",
    "target_text = 'Signs'\n",
    "target_col = 'sign_count'\n",
    "responding_col = 'inc_per_mil_vol'\n",
    "x_label = 'Count of Signs'\n",
    "y_label = 'Incident Count Per Million Trips'\n",
    "title = 'Incidents Per Million Trips vs. Sign Count'\n",
    "binned = True\n",
    "bin_col = 'sign_bins'\n",
    "\n",
    "fig = ctrl.get_super_plot(df, target_text, target_col, responding_col, x_label, y_label, title, binned, bin_col)\n",
    "fig.show()"
   ]
  },
  {
   "cell_type": "markdown",
   "metadata": {},
   "source": [
    "# Incidents vs. Hourly Temperature"
   ]
  },
  {
   "cell_type": "code",
   "execution_count": null,
   "metadata": {},
   "outputs": [],
   "source": [
    "df = ctrl.get_frame('hourly')\n",
    "target_text = 'Temperature (C)'\n",
    "target_col = 'Temp (C)'\n",
    "responding_col = 'incidents'\n",
    "x_label = 'Temperature (C)'\n",
    "y_label = 'Hourly Incident Count'\n",
    "title = 'Incidents vs. Temperature (C)'\n",
    "binned = True\n",
    "bin_col = 'temp_bins'\n",
    "\n",
    "fig = ctrl.get_super_plot(df, target_text, target_col, responding_col, x_label, y_label, title, binned, bin_col)\n",
    "fig.show()"
   ]
  },
  {
   "cell_type": "markdown",
   "metadata": {},
   "source": [
    "# Incidents vs. Daily Average Temperature "
   ]
  },
  {
   "cell_type": "code",
   "execution_count": null,
   "metadata": {
    "tags": []
   },
   "outputs": [],
   "source": [
    "df = ctrl.get_frame('daily')\n",
    "target_text = 'Daily Average Temperature (C)'\n",
    "target_col = 'avg_daily_temp'\n",
    "responding_col = 'sum_daily_incidents'\n",
    "x_label = 'Daily Average Temperature (C)'\n",
    "y_label = 'Daily Incident Sum'\n",
    "title = 'Daily Incident Sum vs. Daily Average Temperature (C)'\n",
    "binned = True\n",
    "bin_col = 'temp_bins'\n",
    "\n",
    "fig = ctrl.get_super_plot(df, target_text, target_col, responding_col, x_label, y_label, title, binned, bin_col)\n",
    "fig.show()"
   ]
  },
  {
   "cell_type": "markdown",
   "metadata": {},
   "source": [
    "# Incidents vs. Hourly Visibility"
   ]
  },
  {
   "cell_type": "code",
   "execution_count": null,
   "metadata": {},
   "outputs": [],
   "source": [
    "df = ctrl.get_frame('hourly')\n",
    "target_text = 'Visibility (km)'\n",
    "target_col = 'Visibility (km)'\n",
    "responding_col = 'incidents'\n",
    "x_label = 'Visibility (km)'\n",
    "y_label = 'Hourly Incident Count'\n",
    "title = 'Incidents vs. Visibility (km)'\n",
    "binned = True\n",
    "bin_col = 'vis_bins'\n",
    "\n",
    "fig = ctrl.get_super_plot(df, target_text, target_col, responding_col, x_label, y_label, title, binned, bin_col)\n",
    "fig.show()"
   ]
  },
  {
   "cell_type": "markdown",
   "metadata": {},
   "source": [
    "# Incidents vs. Daily Average Visibility\n"
   ]
  },
  {
   "cell_type": "code",
   "execution_count": null,
   "metadata": {},
   "outputs": [],
   "source": [
    "df = ctrl.get_frame('daily')\n",
    "target_text = 'Daily Average Temperature (C)'\n",
    "target_col = 'avg_daily_temp'\n",
    "responding_col = 'sum_daily_incidents'\n",
    "x_label = 'Daily Average Temperature (C)'\n",
    "y_label = 'Daily Incident Sum'\n",
    "title = 'Daily Incident Sum vs. Daily Average Temperature (C)'\n",
    "binned = True\n",
    "bin_col = 'temp_bins'\n",
    "\n",
    "fig = ctrl.get_super_plot(df, target_text, target_col, responding_col, x_label, y_label, title, binned, bin_col)\n",
    "fig.show()"
   ]
  },
  {
   "cell_type": "markdown",
   "metadata": {},
   "source": [
    "# Melt Freeze Analysis"
   ]
  },
  {
   "cell_type": "code",
   "execution_count": null,
   "metadata": {
    "tags": []
   },
   "outputs": [],
   "source": [
    "'''\n",
    "Cell calculates the number of hours during the year where a \"melt-freeze' cycle occured per ctrl.melt_freeze(). Intent of this analysis to is determine if melt-freeze cycles correlate with an increase in incidents. \n",
    "'''\n",
    "temps = ctrl.get_frame('hourly')['Temp (C)']\n",
    "\n",
    "#See ctrl.melt_freeze() for a full description of below function. In this case, returns a boolean mask used to filter the hourly dataframe for all hours with 8 hours of freeze event. \n",
    "melt_freeze = ctrl.melt_freeze(temps, 0, 8)\n",
    "\n",
    "freeze_temps = ctrl.get_frame('hourly')[melt_freeze]\n",
    "\n",
    "inc_per_hour_freeze = freeze_temps['incidents'].sum() / freeze_temps['incidents'].size\n",
    "\n",
    "inc_per_hour_typ = ctrl.get_frame('hourly')['incidents'].sum() / ctrl.get_frame('hourly')['incidents'].size\n",
    "\n",
    "#dataframe simply used to plot below, suprising results. May be due to people driving more slowly during a freeze or less traffic if freezes typical occur at nigth during low traffic volumes. \n",
    "data = pd.DataFrame({\"Incidents per hour\": [inc_per_hour_typ, inc_per_hour_freeze], 'Total Incidents' : [ctrl.get_frame('hourly')['incidents'].sum(),freeze_temps['incidents'].sum()], \"Number of Hours\" : [ctrl.get_frame('hourly')['incidents'].size,freeze_temps['incidents'].size]})\n",
    "\n",
    "data.rename(index={0: 'Typical Hour', 1: 'Melt-Freeze Hours'}, inplace=True)\n",
    "\n",
    "fig, ax = plt.subplots(nrows = 1, ncols = 1, figsize = (12,8), ) \n",
    "sns.barplot(x=data.index, y=data['Incidents per hour'])\n",
    "ax.set_title('Incidents per hour vs. Typical hours and Freezing hours')\n",
    "plt.savefig(f'./plots/meltfreeze.png')\n",
    "fig.show()\n"
   ]
  }
 ],
 "metadata": {
  "kernelspec": {
   "display_name": "Python 3.7.7 64-bit ('miniconda3': conda)",
   "language": "python",
   "name": "python37764bitminiconda3conda325cb6264bba41129d04ca3e5f9f112e"
  },
  "language_info": {
   "codemirror_mode": {
    "name": "ipython",
    "version": 3
   },
   "file_extension": ".py",
   "mimetype": "text/x-python",
   "name": "python",
   "nbconvert_exporter": "python",
   "pygments_lexer": "ipython3",
   "version": "3.7.7"
  }
 },
 "nbformat": 4,
 "nbformat_minor": 2
}
