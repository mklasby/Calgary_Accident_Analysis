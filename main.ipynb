{
 "metadata": {
  "language_info": {
   "codemirror_mode": {
    "name": "ipython",
    "version": 3
   },
   "file_extension": ".py",
   "mimetype": "text/x-python",
   "name": "python",
   "nbconvert_exporter": "python",
   "pygments_lexer": "ipython3",
   "version": "3.7.7-final"
  },
  "orig_nbformat": 2,
  "kernelspec": {
   "name": "python37764bitminiconda3conda325cb6264bba41129d04ca3e5f9f112e",
   "display_name": "Python 3.7.7 64-bit ('miniconda3': conda)"
  }
 },
 "nbformat": 4,
 "nbformat_minor": 2,
 "cells": [
  {
   "cell_type": "markdown",
   "metadata": {},
   "source": [
    "# ENSF 592 - FINAL PROJECT\n",
    "## Calgary Accident Analysis\n",
    "### By: Mike Lasby\n",
    "\n",
    "# README\n",
    "This notebook is the entry point of our project and functions as the View. The notebook depends on the Controller.py class to retrieve and manipulate data from the underlying data models stored as seperate .py scripts. "
   ]
  },
  {
   "cell_type": "code",
   "execution_count": 49,
   "metadata": {},
   "outputs": [],
   "source": [
    "import numpy as np\n",
    "import pandas as pd\n",
    "import seaborn as sns\n",
    "from geojson import MultiLineString, Point\n",
    "import re\n",
    "import math\n",
    "import folium"
   ]
  },
  {
   "cell_type": "code",
   "execution_count": 50,
   "metadata": {},
   "outputs": [],
   "source": [
    "incidents_df = pd.read_csv('Traffic_Incidents.csv')\n",
    "speeds_df = pd.read_csv('Speed_Limits.csv')\n",
    "cameras_df = pd.read_csv('Traffic_Camera_Locations.csv')\n",
    "signals_df = pd.read_csv('Traffic_Signals.csv')\n",
    "signs_df = pd.read_csv('Traffic_Signs.csv')\n",
    "volumes_df = pd.read_csv('Traffic_Volumes_for_2018.csv')"
   ]
  },
  {
   "cell_type": "code",
   "execution_count": 51,
   "metadata": {},
   "outputs": [
    {
     "output_type": "execute_result",
     "data": {
      "text/plain": "                                           INCIDENT INFO  \\\n0      Westbound McKnight Boulevard approaching John ...   \n1                               20 Avenue at 8 Street NW   \n2                           Sunridge Way at 36 Street NE   \n3      Westbound Stoney approaching Shaganappi Trail NW.   \n4      Southbound Nose Hill Drive approaching Crowchi...   \n...                                                  ...   \n19783   Southbound Deerfoot Trail and Douglasdale Bou...   \n19784    Shawnessy Boulevard and Shawville Boulevard SE    \n19785   Eastbound Stoney Trail after Shaganappi Trail...   \n19786           Symons Valley Road NW and 144 Avenue NW    \n19787    Eastbound Memorial Drive and Deerfoot Trail SE    \n\n                                             DESCRIPTION  \\\n0                                    2 vehicle incident.   \n1                                    2 vehicle incident.   \n2                    There is an incident involving LRT.   \n3                                Multi vehicle incident.   \n4                                Multi vehicle incident.   \n...                                                  ...   \n19783   Multi-vehicle incident.  Blocking the right lane   \n19784     Two vehicle incident. Blocking multiple lanes.   \n19785                                  Traffic incident.   \n19786  Traffic incident.  The road is closed between ...   \n19787  Multi-vehicle incident.   Blocking the right lane   \n\n                     START_DT             MODIFIED_DT QUADRANT   Longitude  \\\n0      12/09/2016 04:46:32 PM  12/09/2016 05:16:54 PM       NW -114.083318   \n1      12/09/2016 04:58:23 PM  12/09/2016 05:16:54 PM       NW -114.081378   \n2      12/09/2016 05:14:08 PM  12/09/2016 05:16:54 PM       NE -113.984934   \n3      12/09/2016 05:16:08 PM  12/09/2016 05:16:53 PM       NW -114.147933   \n4      12/09/2016 05:38:05 PM  12/09/2016 05:55:52 PM       NW -114.203241   \n...                       ...                     ...      ...         ...   \n19783  07/11/2020 07:21:57 PM                     NaN      NaN -114.005304   \n19784  07/11/2020 10:29:09 PM                     NaN      NaN -114.069753   \n19785  07/11/2020 11:26:45 PM                     NaN      NaN -114.150728   \n19786  07/12/2020 08:34:16 AM                     NaN      NaN -114.134978   \n19787  07/12/2020 03:52:21 PM                     NaN      NaN -114.019418   \n\n        Latitude                                   location  Count  \\\n0      51.097316        (51.09731625733, -114.083317961464)      1   \n1      51.070539       (51.070538552637, -114.081377719156)      1   \n2      51.067299        (51.067298691023, -113.98493374196)      1   \n3      51.152736       (51.152736445625, -114.147933369876)      1   \n4      51.119684        (51.11968378497, -114.203240843777)      1   \n...          ...                                        ...    ...   \n19783  50.946741   (50.94674131426537, -114.00530375385111)      1   \n19784  50.912974   (50.91297382324482, -114.06975311526708)      1   \n19785  51.152731   (51.15273080944574, -114.15072838091025)      1   \n19786  51.183220   (51.18321993655643, -114.13497799337898)      1   \n19787  51.047762  (51.047761513729455, -114.01941796567567)      1   \n\n                                                      id  \n0      2016-12-09T16:46:3251.0973162573297-114.083317...  \n1      2016-12-09T16:58:2351.0705385526371-114.081377...  \n2      2016-12-09T17:14:0851.0672986910231-113.984933...  \n3      2016-12-09T17:16:0851.1527364456253-114.147933...  \n4      2016-12-09T17:38:0551.1196837849704-114.203240...  \n...                                                  ...  \n19783  2020-07-11T19:21:5750.94674131426537-114.00530...  \n19784  2020-07-11T22:29:0950.91297382324482-114.06975...  \n19785  2020-07-11T23:26:4551.15273080944574-114.15072...  \n19786  2020-07-12T08:34:1651.18321993655643-114.13497...  \n19787  2020-07-12T15:52:2151.047761513729455-114.0194...  \n\n[19788 rows x 10 columns]",
      "text/html": "<div>\n<style scoped>\n    .dataframe tbody tr th:only-of-type {\n        vertical-align: middle;\n    }\n\n    .dataframe tbody tr th {\n        vertical-align: top;\n    }\n\n    .dataframe thead th {\n        text-align: right;\n    }\n</style>\n<table border=\"1\" class=\"dataframe\">\n  <thead>\n    <tr style=\"text-align: right;\">\n      <th></th>\n      <th>INCIDENT INFO</th>\n      <th>DESCRIPTION</th>\n      <th>START_DT</th>\n      <th>MODIFIED_DT</th>\n      <th>QUADRANT</th>\n      <th>Longitude</th>\n      <th>Latitude</th>\n      <th>location</th>\n      <th>Count</th>\n      <th>id</th>\n    </tr>\n  </thead>\n  <tbody>\n    <tr>\n      <th>0</th>\n      <td>Westbound McKnight Boulevard approaching John ...</td>\n      <td>2 vehicle incident.</td>\n      <td>12/09/2016 04:46:32 PM</td>\n      <td>12/09/2016 05:16:54 PM</td>\n      <td>NW</td>\n      <td>-114.083318</td>\n      <td>51.097316</td>\n      <td>(51.09731625733, -114.083317961464)</td>\n      <td>1</td>\n      <td>2016-12-09T16:46:3251.0973162573297-114.083317...</td>\n    </tr>\n    <tr>\n      <th>1</th>\n      <td>20 Avenue at 8 Street NW</td>\n      <td>2 vehicle incident.</td>\n      <td>12/09/2016 04:58:23 PM</td>\n      <td>12/09/2016 05:16:54 PM</td>\n      <td>NW</td>\n      <td>-114.081378</td>\n      <td>51.070539</td>\n      <td>(51.070538552637, -114.081377719156)</td>\n      <td>1</td>\n      <td>2016-12-09T16:58:2351.0705385526371-114.081377...</td>\n    </tr>\n    <tr>\n      <th>2</th>\n      <td>Sunridge Way at 36 Street NE</td>\n      <td>There is an incident involving LRT.</td>\n      <td>12/09/2016 05:14:08 PM</td>\n      <td>12/09/2016 05:16:54 PM</td>\n      <td>NE</td>\n      <td>-113.984934</td>\n      <td>51.067299</td>\n      <td>(51.067298691023, -113.98493374196)</td>\n      <td>1</td>\n      <td>2016-12-09T17:14:0851.0672986910231-113.984933...</td>\n    </tr>\n    <tr>\n      <th>3</th>\n      <td>Westbound Stoney approaching Shaganappi Trail NW.</td>\n      <td>Multi vehicle incident.</td>\n      <td>12/09/2016 05:16:08 PM</td>\n      <td>12/09/2016 05:16:53 PM</td>\n      <td>NW</td>\n      <td>-114.147933</td>\n      <td>51.152736</td>\n      <td>(51.152736445625, -114.147933369876)</td>\n      <td>1</td>\n      <td>2016-12-09T17:16:0851.1527364456253-114.147933...</td>\n    </tr>\n    <tr>\n      <th>4</th>\n      <td>Southbound Nose Hill Drive approaching Crowchi...</td>\n      <td>Multi vehicle incident.</td>\n      <td>12/09/2016 05:38:05 PM</td>\n      <td>12/09/2016 05:55:52 PM</td>\n      <td>NW</td>\n      <td>-114.203241</td>\n      <td>51.119684</td>\n      <td>(51.11968378497, -114.203240843777)</td>\n      <td>1</td>\n      <td>2016-12-09T17:38:0551.1196837849704-114.203240...</td>\n    </tr>\n    <tr>\n      <th>...</th>\n      <td>...</td>\n      <td>...</td>\n      <td>...</td>\n      <td>...</td>\n      <td>...</td>\n      <td>...</td>\n      <td>...</td>\n      <td>...</td>\n      <td>...</td>\n      <td>...</td>\n    </tr>\n    <tr>\n      <th>19783</th>\n      <td>Southbound Deerfoot Trail and Douglasdale Bou...</td>\n      <td>Multi-vehicle incident.  Blocking the right lane</td>\n      <td>07/11/2020 07:21:57 PM</td>\n      <td>NaN</td>\n      <td>NaN</td>\n      <td>-114.005304</td>\n      <td>50.946741</td>\n      <td>(50.94674131426537, -114.00530375385111)</td>\n      <td>1</td>\n      <td>2020-07-11T19:21:5750.94674131426537-114.00530...</td>\n    </tr>\n    <tr>\n      <th>19784</th>\n      <td>Shawnessy Boulevard and Shawville Boulevard SE</td>\n      <td>Two vehicle incident. Blocking multiple lanes.</td>\n      <td>07/11/2020 10:29:09 PM</td>\n      <td>NaN</td>\n      <td>NaN</td>\n      <td>-114.069753</td>\n      <td>50.912974</td>\n      <td>(50.91297382324482, -114.06975311526708)</td>\n      <td>1</td>\n      <td>2020-07-11T22:29:0950.91297382324482-114.06975...</td>\n    </tr>\n    <tr>\n      <th>19785</th>\n      <td>Eastbound Stoney Trail after Shaganappi Trail...</td>\n      <td>Traffic incident.</td>\n      <td>07/11/2020 11:26:45 PM</td>\n      <td>NaN</td>\n      <td>NaN</td>\n      <td>-114.150728</td>\n      <td>51.152731</td>\n      <td>(51.15273080944574, -114.15072838091025)</td>\n      <td>1</td>\n      <td>2020-07-11T23:26:4551.15273080944574-114.15072...</td>\n    </tr>\n    <tr>\n      <th>19786</th>\n      <td>Symons Valley Road NW and 144 Avenue NW</td>\n      <td>Traffic incident.  The road is closed between ...</td>\n      <td>07/12/2020 08:34:16 AM</td>\n      <td>NaN</td>\n      <td>NaN</td>\n      <td>-114.134978</td>\n      <td>51.183220</td>\n      <td>(51.18321993655643, -114.13497799337898)</td>\n      <td>1</td>\n      <td>2020-07-12T08:34:1651.18321993655643-114.13497...</td>\n    </tr>\n    <tr>\n      <th>19787</th>\n      <td>Eastbound Memorial Drive and Deerfoot Trail SE</td>\n      <td>Multi-vehicle incident.   Blocking the right lane</td>\n      <td>07/12/2020 03:52:21 PM</td>\n      <td>NaN</td>\n      <td>NaN</td>\n      <td>-114.019418</td>\n      <td>51.047762</td>\n      <td>(51.047761513729455, -114.01941796567567)</td>\n      <td>1</td>\n      <td>2020-07-12T15:52:2151.047761513729455-114.0194...</td>\n    </tr>\n  </tbody>\n</table>\n<p>19788 rows × 10 columns</p>\n</div>"
     },
     "metadata": {},
     "execution_count": 51
    }
   ],
   "source": [
    "incidents_df"
   ]
  },
  {
   "cell_type": "code",
   "execution_count": 52,
   "metadata": {},
   "outputs": [
    {
     "output_type": "execute_result",
     "data": {
      "text/plain": "     BOUND  CREATED_DT  DISTANCE  SPEED          STREET_NAME  \\\n0        N         NaN      0.81     60       MILLSIDE BV SE   \n1      NaN  2018/10/30       NaN     40  DEERFOOT TR SE RAMP   \n2        S  2018/10/23       NaN     60   HARVEST HILLS BV N   \n3        N  2019/10/09      4.37     70      CROWCHILD TR SW   \n4      NaN  2018/10/30       NaN     80    STONEY TR NE RAMP   \n...    ...         ...       ...    ...                  ...   \n1447     S  2018/10/29       NaN     80         STONEY TR NW   \n1448   N/S  2018/10/31       NaN     70             37 ST SW   \n1449     W  2018/11/02       NaN     60     SUN VALLEY BV SE   \n1450     E         NaN      1.85     60       JOHN LAURIE BV   \n1451   NaN  2018/12/06       NaN     60    STONEY TR SE RAMP   \n\n                                              multiline  \n0     MULTILINESTRING ((-114.073657541927 50.9135772...  \n1     MULTILINESTRING ((-114.034764352652 50.9962241...  \n2     MULTILINESTRING ((-114.068566084381 51.1667137...  \n3     MULTILINESTRING ((-114.117825190175 51.0050022...  \n4     MULTILINESTRING ((-113.918850808952 51.0624482...  \n...                                                 ...  \n1447  MULTILINESTRING ((-114.233241861102 51.0915352...  \n1448  MULTILINESTRING ((-114.140309947853 50.9177590...  \n1449  MULTILINESTRING ((-114.030210417675 50.9043134...  \n1450  MULTILINESTRING ((-114.177870798005 51.1241752...  \n1451  MULTILINESTRING ((-113.988645145196 50.8984752...  \n\n[1452 rows x 6 columns]",
      "text/html": "<div>\n<style scoped>\n    .dataframe tbody tr th:only-of-type {\n        vertical-align: middle;\n    }\n\n    .dataframe tbody tr th {\n        vertical-align: top;\n    }\n\n    .dataframe thead th {\n        text-align: right;\n    }\n</style>\n<table border=\"1\" class=\"dataframe\">\n  <thead>\n    <tr style=\"text-align: right;\">\n      <th></th>\n      <th>BOUND</th>\n      <th>CREATED_DT</th>\n      <th>DISTANCE</th>\n      <th>SPEED</th>\n      <th>STREET_NAME</th>\n      <th>multiline</th>\n    </tr>\n  </thead>\n  <tbody>\n    <tr>\n      <th>0</th>\n      <td>N</td>\n      <td>NaN</td>\n      <td>0.81</td>\n      <td>60</td>\n      <td>MILLSIDE BV SE</td>\n      <td>MULTILINESTRING ((-114.073657541927 50.9135772...</td>\n    </tr>\n    <tr>\n      <th>1</th>\n      <td>NaN</td>\n      <td>2018/10/30</td>\n      <td>NaN</td>\n      <td>40</td>\n      <td>DEERFOOT TR SE RAMP</td>\n      <td>MULTILINESTRING ((-114.034764352652 50.9962241...</td>\n    </tr>\n    <tr>\n      <th>2</th>\n      <td>S</td>\n      <td>2018/10/23</td>\n      <td>NaN</td>\n      <td>60</td>\n      <td>HARVEST HILLS BV N</td>\n      <td>MULTILINESTRING ((-114.068566084381 51.1667137...</td>\n    </tr>\n    <tr>\n      <th>3</th>\n      <td>N</td>\n      <td>2019/10/09</td>\n      <td>4.37</td>\n      <td>70</td>\n      <td>CROWCHILD TR SW</td>\n      <td>MULTILINESTRING ((-114.117825190175 51.0050022...</td>\n    </tr>\n    <tr>\n      <th>4</th>\n      <td>NaN</td>\n      <td>2018/10/30</td>\n      <td>NaN</td>\n      <td>80</td>\n      <td>STONEY TR NE RAMP</td>\n      <td>MULTILINESTRING ((-113.918850808952 51.0624482...</td>\n    </tr>\n    <tr>\n      <th>...</th>\n      <td>...</td>\n      <td>...</td>\n      <td>...</td>\n      <td>...</td>\n      <td>...</td>\n      <td>...</td>\n    </tr>\n    <tr>\n      <th>1447</th>\n      <td>S</td>\n      <td>2018/10/29</td>\n      <td>NaN</td>\n      <td>80</td>\n      <td>STONEY TR NW</td>\n      <td>MULTILINESTRING ((-114.233241861102 51.0915352...</td>\n    </tr>\n    <tr>\n      <th>1448</th>\n      <td>N/S</td>\n      <td>2018/10/31</td>\n      <td>NaN</td>\n      <td>70</td>\n      <td>37 ST SW</td>\n      <td>MULTILINESTRING ((-114.140309947853 50.9177590...</td>\n    </tr>\n    <tr>\n      <th>1449</th>\n      <td>W</td>\n      <td>2018/11/02</td>\n      <td>NaN</td>\n      <td>60</td>\n      <td>SUN VALLEY BV SE</td>\n      <td>MULTILINESTRING ((-114.030210417675 50.9043134...</td>\n    </tr>\n    <tr>\n      <th>1450</th>\n      <td>E</td>\n      <td>NaN</td>\n      <td>1.85</td>\n      <td>60</td>\n      <td>JOHN LAURIE BV</td>\n      <td>MULTILINESTRING ((-114.177870798005 51.1241752...</td>\n    </tr>\n    <tr>\n      <th>1451</th>\n      <td>NaN</td>\n      <td>2018/12/06</td>\n      <td>NaN</td>\n      <td>60</td>\n      <td>STONEY TR SE RAMP</td>\n      <td>MULTILINESTRING ((-113.988645145196 50.8984752...</td>\n    </tr>\n  </tbody>\n</table>\n<p>1452 rows × 6 columns</p>\n</div>"
     },
     "metadata": {},
     "execution_count": 52
    }
   ],
   "source": [
    "speeds_df"
   ]
  },
  {
   "cell_type": "code",
   "execution_count": 53,
   "metadata": {},
   "outputs": [
    {
     "output_type": "execute_result",
     "data": {
      "text/plain": "                           Camera Location Quadrant  \\\n0         Stoney Trail / Deerfoot Trail SE       SE   \n1             Memorial Drive / 52 Street E       NE   \n2    Crowchild Trail / Shaganappi Trail NW       NW   \n3        Crowchild Trail / Sarcee Trail NW       NW   \n4          Airport Trail / Barlow Trail NE       NE   \n..                                     ...      ...   \n121     Memorial Drive / Edmonton Trail NE       NE   \n122       Glenmore Trail / Barlow Trail SE       SE   \n123       Glenmore Trail / Stoney Trail SE       SE   \n124                 5 Avenue / 5 Street SW       SW   \n125                 9 Avenue / 3 Street SE       SE   \n\n                                  Camera URL   longitude   latitude  \n0     http://trafficcam.calgary.ca/loc86.jpg -113.976606  50.900726  \n1      http://trafficcam.calgary.ca/loc3.jpg -113.955818  51.053253  \n2     http://trafficcam.calgary.ca/loc37.jpg -114.149379  51.098849  \n3    http://trafficcam.calgary.ca/loc126.jpg -114.178204  51.111255  \n4    http://trafficcam.calgary.ca/loc114.jpg -114.001451  51.139352  \n..                                       ...         ...        ...  \n121   http://trafficcam.calgary.ca/loc30.jpg -114.050136  51.050802  \n122   http://trafficcam.calgary.ca/loc98.jpg -113.981495  50.979446  \n123  http://trafficcam.calgary.ca/loc128.jpg -113.929263  50.979635  \n124  http://trafficcam.calgary.ca/loc122.jpg -114.073644  51.048677  \n125   http://trafficcam.calgary.ca/loc91.jpg -114.055664  51.044390  \n\n[126 rows x 5 columns]",
      "text/html": "<div>\n<style scoped>\n    .dataframe tbody tr th:only-of-type {\n        vertical-align: middle;\n    }\n\n    .dataframe tbody tr th {\n        vertical-align: top;\n    }\n\n    .dataframe thead th {\n        text-align: right;\n    }\n</style>\n<table border=\"1\" class=\"dataframe\">\n  <thead>\n    <tr style=\"text-align: right;\">\n      <th></th>\n      <th>Camera Location</th>\n      <th>Quadrant</th>\n      <th>Camera URL</th>\n      <th>longitude</th>\n      <th>latitude</th>\n    </tr>\n  </thead>\n  <tbody>\n    <tr>\n      <th>0</th>\n      <td>Stoney Trail / Deerfoot Trail SE</td>\n      <td>SE</td>\n      <td>http://trafficcam.calgary.ca/loc86.jpg</td>\n      <td>-113.976606</td>\n      <td>50.900726</td>\n    </tr>\n    <tr>\n      <th>1</th>\n      <td>Memorial Drive / 52 Street E</td>\n      <td>NE</td>\n      <td>http://trafficcam.calgary.ca/loc3.jpg</td>\n      <td>-113.955818</td>\n      <td>51.053253</td>\n    </tr>\n    <tr>\n      <th>2</th>\n      <td>Crowchild Trail / Shaganappi Trail NW</td>\n      <td>NW</td>\n      <td>http://trafficcam.calgary.ca/loc37.jpg</td>\n      <td>-114.149379</td>\n      <td>51.098849</td>\n    </tr>\n    <tr>\n      <th>3</th>\n      <td>Crowchild Trail / Sarcee Trail NW</td>\n      <td>NW</td>\n      <td>http://trafficcam.calgary.ca/loc126.jpg</td>\n      <td>-114.178204</td>\n      <td>51.111255</td>\n    </tr>\n    <tr>\n      <th>4</th>\n      <td>Airport Trail / Barlow Trail NE</td>\n      <td>NE</td>\n      <td>http://trafficcam.calgary.ca/loc114.jpg</td>\n      <td>-114.001451</td>\n      <td>51.139352</td>\n    </tr>\n    <tr>\n      <th>...</th>\n      <td>...</td>\n      <td>...</td>\n      <td>...</td>\n      <td>...</td>\n      <td>...</td>\n    </tr>\n    <tr>\n      <th>121</th>\n      <td>Memorial Drive / Edmonton Trail NE</td>\n      <td>NE</td>\n      <td>http://trafficcam.calgary.ca/loc30.jpg</td>\n      <td>-114.050136</td>\n      <td>51.050802</td>\n    </tr>\n    <tr>\n      <th>122</th>\n      <td>Glenmore Trail / Barlow Trail SE</td>\n      <td>SE</td>\n      <td>http://trafficcam.calgary.ca/loc98.jpg</td>\n      <td>-113.981495</td>\n      <td>50.979446</td>\n    </tr>\n    <tr>\n      <th>123</th>\n      <td>Glenmore Trail / Stoney Trail SE</td>\n      <td>SE</td>\n      <td>http://trafficcam.calgary.ca/loc128.jpg</td>\n      <td>-113.929263</td>\n      <td>50.979635</td>\n    </tr>\n    <tr>\n      <th>124</th>\n      <td>5 Avenue / 5 Street SW</td>\n      <td>SW</td>\n      <td>http://trafficcam.calgary.ca/loc122.jpg</td>\n      <td>-114.073644</td>\n      <td>51.048677</td>\n    </tr>\n    <tr>\n      <th>125</th>\n      <td>9 Avenue / 3 Street SE</td>\n      <td>SE</td>\n      <td>http://trafficcam.calgary.ca/loc91.jpg</td>\n      <td>-114.055664</td>\n      <td>51.044390</td>\n    </tr>\n  </tbody>\n</table>\n<p>126 rows × 5 columns</p>\n</div>"
     },
     "metadata": {},
     "execution_count": 53
    }
   ],
   "source": [
    "cameras_df"
   ]
  },
  {
   "cell_type": "code",
   "execution_count": 54,
   "metadata": {},
   "outputs": [
    {
     "output_type": "execute_result",
     "data": {
      "text/plain": "        INSTDATE                FIRSTROAD                         SECONDROAD  \\\n0     1969/04/01          KENSINGTON ROAD                          12 STREET   \n1     2005/02/09  COUNTRY HILLS BOULEVARD           COVENTRY HILLS BOULEVARD   \n2     2000/11/13               McCALL WAY                       PEGASUS ROAD   \n3     1973/01/01                72 AVENUE                      CENTRE STREET   \n4     1957/01/01                 9 AVENUE                15 STREET/17 AVENUE   \n...          ...                      ...                                ...   \n1533  2017/08/03  COUNTRY HILLS BOULEVARD  ROCKY RIDGE RECREATIONAL FACILITY   \n1534  2017/04/12          BRIDLERIDGE WAY                    BRIDLEWOOD ROAD   \n1535  1966/08/01                10 STREET                          23 AVENUE   \n1536  1956/01/01                 5 AVENUE                           1 STREET   \n1537  2017/08/11     SUN VALLEY BOULEVARD                       SUNPARK GATE   \n\n     QUADRANT                       INT_TYPE PEDBUTTONS PED_TIMER  \\\n0          NW               Overhead Flasher        Yes        No   \n1          NE  Traffic signal T intersection        Yes        No   \n2          NE                 Traffic signal        Yes        No   \n3           N                 Traffic signal        Yes        No   \n4          SE                 Traffic signal        Yes        No   \n...       ...                            ...        ...       ...   \n1533       NW  Traffic signal T intersection        Yes        No   \n1534       SW                Pedestrian RRFB        Yes        No   \n1535       NW               Overhead Flasher        Yes        No   \n1536       SE                 Traffic signal         No       Yes   \n1537       SE                 Traffic signal        Yes       Yes   \n\n      ACCESSIBLE PEDESTRIAN SIGNAL   latitude   longitude  \\\n0                              NaN  51.052514 -114.091740   \n1                              NaN  51.154211 -114.052475   \n2                              NaN  51.094081 -114.011478   \n3                              NaN  51.117992 -114.069588   \n4                              NaN  51.037739 -114.025122   \n...                            ...        ...         ...   \n1533                           NaN  51.154147 -114.228956   \n1534                           NaN  50.902069 -114.109199   \n1535                           NaN  51.073213 -114.084589   \n1536                           NaN  51.048341 -114.060387   \n1537                           NaN  50.906049 -114.058065   \n\n                                          Point  Count  \n0     POINT (-114.091739730382 51.052513524679)      1  \n1      POINT (-114.05247454616 51.154210611434)      1  \n2     POINT (-114.011477743314 51.094081325343)      1  \n3      POINT (-114.069587594341 51.11799160169)      1  \n4     POINT (-114.025122275833 51.037738985756)      1  \n...                                         ...    ...  \n1533   POINT (-114.228956047964 51.15414689593)      1  \n1534  POINT (-114.109199438382 50.902068514229)      1  \n1535  POINT (-114.084588882838 51.073213223999)      1  \n1536  POINT (-114.060387455583 51.048340950291)      1  \n1537   POINT (-114.058064969258 50.90604877345)      1  \n\n[1538 rows x 12 columns]",
      "text/html": "<div>\n<style scoped>\n    .dataframe tbody tr th:only-of-type {\n        vertical-align: middle;\n    }\n\n    .dataframe tbody tr th {\n        vertical-align: top;\n    }\n\n    .dataframe thead th {\n        text-align: right;\n    }\n</style>\n<table border=\"1\" class=\"dataframe\">\n  <thead>\n    <tr style=\"text-align: right;\">\n      <th></th>\n      <th>INSTDATE</th>\n      <th>FIRSTROAD</th>\n      <th>SECONDROAD</th>\n      <th>QUADRANT</th>\n      <th>INT_TYPE</th>\n      <th>PEDBUTTONS</th>\n      <th>PED_TIMER</th>\n      <th>ACCESSIBLE PEDESTRIAN SIGNAL</th>\n      <th>latitude</th>\n      <th>longitude</th>\n      <th>Point</th>\n      <th>Count</th>\n    </tr>\n  </thead>\n  <tbody>\n    <tr>\n      <th>0</th>\n      <td>1969/04/01</td>\n      <td>KENSINGTON ROAD</td>\n      <td>12 STREET</td>\n      <td>NW</td>\n      <td>Overhead Flasher</td>\n      <td>Yes</td>\n      <td>No</td>\n      <td>NaN</td>\n      <td>51.052514</td>\n      <td>-114.091740</td>\n      <td>POINT (-114.091739730382 51.052513524679)</td>\n      <td>1</td>\n    </tr>\n    <tr>\n      <th>1</th>\n      <td>2005/02/09</td>\n      <td>COUNTRY HILLS BOULEVARD</td>\n      <td>COVENTRY HILLS BOULEVARD</td>\n      <td>NE</td>\n      <td>Traffic signal T intersection</td>\n      <td>Yes</td>\n      <td>No</td>\n      <td>NaN</td>\n      <td>51.154211</td>\n      <td>-114.052475</td>\n      <td>POINT (-114.05247454616 51.154210611434)</td>\n      <td>1</td>\n    </tr>\n    <tr>\n      <th>2</th>\n      <td>2000/11/13</td>\n      <td>McCALL WAY</td>\n      <td>PEGASUS ROAD</td>\n      <td>NE</td>\n      <td>Traffic signal</td>\n      <td>Yes</td>\n      <td>No</td>\n      <td>NaN</td>\n      <td>51.094081</td>\n      <td>-114.011478</td>\n      <td>POINT (-114.011477743314 51.094081325343)</td>\n      <td>1</td>\n    </tr>\n    <tr>\n      <th>3</th>\n      <td>1973/01/01</td>\n      <td>72 AVENUE</td>\n      <td>CENTRE STREET</td>\n      <td>N</td>\n      <td>Traffic signal</td>\n      <td>Yes</td>\n      <td>No</td>\n      <td>NaN</td>\n      <td>51.117992</td>\n      <td>-114.069588</td>\n      <td>POINT (-114.069587594341 51.11799160169)</td>\n      <td>1</td>\n    </tr>\n    <tr>\n      <th>4</th>\n      <td>1957/01/01</td>\n      <td>9 AVENUE</td>\n      <td>15 STREET/17 AVENUE</td>\n      <td>SE</td>\n      <td>Traffic signal</td>\n      <td>Yes</td>\n      <td>No</td>\n      <td>NaN</td>\n      <td>51.037739</td>\n      <td>-114.025122</td>\n      <td>POINT (-114.025122275833 51.037738985756)</td>\n      <td>1</td>\n    </tr>\n    <tr>\n      <th>...</th>\n      <td>...</td>\n      <td>...</td>\n      <td>...</td>\n      <td>...</td>\n      <td>...</td>\n      <td>...</td>\n      <td>...</td>\n      <td>...</td>\n      <td>...</td>\n      <td>...</td>\n      <td>...</td>\n      <td>...</td>\n    </tr>\n    <tr>\n      <th>1533</th>\n      <td>2017/08/03</td>\n      <td>COUNTRY HILLS BOULEVARD</td>\n      <td>ROCKY RIDGE RECREATIONAL FACILITY</td>\n      <td>NW</td>\n      <td>Traffic signal T intersection</td>\n      <td>Yes</td>\n      <td>No</td>\n      <td>NaN</td>\n      <td>51.154147</td>\n      <td>-114.228956</td>\n      <td>POINT (-114.228956047964 51.15414689593)</td>\n      <td>1</td>\n    </tr>\n    <tr>\n      <th>1534</th>\n      <td>2017/04/12</td>\n      <td>BRIDLERIDGE WAY</td>\n      <td>BRIDLEWOOD ROAD</td>\n      <td>SW</td>\n      <td>Pedestrian RRFB</td>\n      <td>Yes</td>\n      <td>No</td>\n      <td>NaN</td>\n      <td>50.902069</td>\n      <td>-114.109199</td>\n      <td>POINT (-114.109199438382 50.902068514229)</td>\n      <td>1</td>\n    </tr>\n    <tr>\n      <th>1535</th>\n      <td>1966/08/01</td>\n      <td>10 STREET</td>\n      <td>23 AVENUE</td>\n      <td>NW</td>\n      <td>Overhead Flasher</td>\n      <td>Yes</td>\n      <td>No</td>\n      <td>NaN</td>\n      <td>51.073213</td>\n      <td>-114.084589</td>\n      <td>POINT (-114.084588882838 51.073213223999)</td>\n      <td>1</td>\n    </tr>\n    <tr>\n      <th>1536</th>\n      <td>1956/01/01</td>\n      <td>5 AVENUE</td>\n      <td>1 STREET</td>\n      <td>SE</td>\n      <td>Traffic signal</td>\n      <td>No</td>\n      <td>Yes</td>\n      <td>NaN</td>\n      <td>51.048341</td>\n      <td>-114.060387</td>\n      <td>POINT (-114.060387455583 51.048340950291)</td>\n      <td>1</td>\n    </tr>\n    <tr>\n      <th>1537</th>\n      <td>2017/08/11</td>\n      <td>SUN VALLEY BOULEVARD</td>\n      <td>SUNPARK GATE</td>\n      <td>SE</td>\n      <td>Traffic signal</td>\n      <td>Yes</td>\n      <td>Yes</td>\n      <td>NaN</td>\n      <td>50.906049</td>\n      <td>-114.058065</td>\n      <td>POINT (-114.058064969258 50.90604877345)</td>\n      <td>1</td>\n    </tr>\n  </tbody>\n</table>\n<p>1538 rows × 12 columns</p>\n</div>"
     },
     "metadata": {},
     "execution_count": 54
    }
   ],
   "source": [
    "signals_df"
   ]
  },
  {
   "cell_type": "code",
   "execution_count": 55,
   "metadata": {},
   "outputs": [
    {
     "output_type": "execute_result",
     "data": {
      "text/plain": "                  BLADE_TYPE COMMENTS FACING_CD     FLD_SRC_TXT    INSTDATE  \\\n0                 Regulatory      NaN         N             NaN  2007/07/01   \n1       Parking Restrictions      NaN         W             GPS  2016/08/18   \n2              Timed Parking      NaN        NE  Field Estimate         NaN   \n3              Timed Parking      NaN        NE  Field Estimate  2019/01/16   \n4                    Warning      NaN         W  Field Estimate  2018/09/12   \n...                      ...      ...       ...             ...         ...   \n207515           Street Name      NaN         E             GPS  2005/07/01   \n207516            Regulatory      NaN         N  Field Estimate  2015/06/10   \n207517  Parking Restrictions      NaN        SW  Field Estimate  2008/07/03   \n207518           Street Name      NaN     NW/SE             GPS  2004/07/01   \n207519  Parking Restrictions      NaN        NE             NaN  1991/07/02   \n\n              MATERIAL     PL_TY REUSE  SGN_COUNT_NO SGN_STA_CD  ... STA_CD  \\\n0                  NaN       NaN   NaN           1.0          A  ...      A   \n1       High Intensity  SG_40-06   NaN           0.0          R  ...      R   \n2                  NaN  SG_40-05   NaN           4.0          A  ...      R   \n3       High Intensity  SG_40-05   NaN           4.0          A  ...      A   \n4       High Intensity  SG_40-57   NaN           0.0          A  ...      A   \n...                ...       ...   ...           ...        ...  ...    ...   \n207515  High Intensity       NaN   NaN           1.0          A  ...      A   \n207516  High Intensity  SG_40-05   NaN           3.0          A  ...      A   \n207517             NaN  SG_40-06   NaN           3.0          A  ...      A   \n207518  High Intensity  SG_40-99   NaN           2.0          A  ...      A   \n207519  High Intensity  SG_40-06   NaN           1.0          A  ...      A   \n\n        SIZE_CD SUPPORTTYPE        UNITID  TE_SIGNLOCATION_UNITID  \\\n0         60X75         NaN  1.109184e+09              1109082667   \n1         30X30    Signpole  1.110021e+09              1110021182   \n2       SPECIAL    Signpole  1.110202e+09              1109526373   \n3       SPECIAL    Signpole  1.110202e+09              1109286994   \n4           NaN    Signpole  1.110271e+09              1110172249   \n...         ...         ...           ...                     ...   \n207515     30XL       Trunk  1.109144e+09              1109076036   \n207516  SPECIAL    Signpole  1.109942e+09              1109941864   \n207517    30X45    Signpole  1.109276e+09              1109276231   \n207518     15XL    Signpole  1.109230e+09              1109092275   \n207519    30X30    Signpole  1.109195e+09              1109049565   \n\n                                            POINT Ward Boundaries  \\\n0         POINT (-114.210957448601 51.0685668243)             1.0   \n1       POINT (-113.935804152861 50.911165903496)             4.0   \n2        POINT (-114.05423120852 51.042027593481)            14.0   \n3        POINT (-114.053597489366 51.04135079758)            14.0   \n4       POINT (-113.935926247512 50.911341384981)             4.0   \n...                                           ...             ...   \n207515   POINT (-114.089566544877 50.91413523827)             5.0   \n207516  POINT (-114.073475226496 51.050465695905)            14.0   \n207517  POINT (-114.090109343345 51.052801038311)             7.0   \n207518  POINT (-114.053874443342 50.974157960171)            10.0   \n207519  POINT (-114.006688140223 51.073240858843)             9.0   \n\n        City Quadrants  Calgary Communities  Ward Boundaries 2013-2017  \n0                  1.0                128.0                       14.0  \n1                  3.0                 96.0                        8.0  \n2                  3.0                260.0                        5.0  \n3                  3.0                260.0                        5.0  \n4                  3.0                 96.0                        8.0  \n...                ...                  ...                        ...  \n207515             1.0                156.0                        6.0  \n207516             1.0                262.0                        2.0  \n207517             2.0                 40.0                        7.0  \n207518             3.0                174.0                        5.0  \n207519             4.0                106.0                        3.0  \n\n[207520 rows x 21 columns]",
      "text/html": "<div>\n<style scoped>\n    .dataframe tbody tr th:only-of-type {\n        vertical-align: middle;\n    }\n\n    .dataframe tbody tr th {\n        vertical-align: top;\n    }\n\n    .dataframe thead th {\n        text-align: right;\n    }\n</style>\n<table border=\"1\" class=\"dataframe\">\n  <thead>\n    <tr style=\"text-align: right;\">\n      <th></th>\n      <th>BLADE_TYPE</th>\n      <th>COMMENTS</th>\n      <th>FACING_CD</th>\n      <th>FLD_SRC_TXT</th>\n      <th>INSTDATE</th>\n      <th>MATERIAL</th>\n      <th>PL_TY</th>\n      <th>REUSE</th>\n      <th>SGN_COUNT_NO</th>\n      <th>SGN_STA_CD</th>\n      <th>...</th>\n      <th>STA_CD</th>\n      <th>SIZE_CD</th>\n      <th>SUPPORTTYPE</th>\n      <th>UNITID</th>\n      <th>TE_SIGNLOCATION_UNITID</th>\n      <th>POINT</th>\n      <th>Ward Boundaries</th>\n      <th>City Quadrants</th>\n      <th>Calgary Communities</th>\n      <th>Ward Boundaries 2013-2017</th>\n    </tr>\n  </thead>\n  <tbody>\n    <tr>\n      <th>0</th>\n      <td>Regulatory</td>\n      <td>NaN</td>\n      <td>N</td>\n      <td>NaN</td>\n      <td>2007/07/01</td>\n      <td>NaN</td>\n      <td>NaN</td>\n      <td>NaN</td>\n      <td>1.0</td>\n      <td>A</td>\n      <td>...</td>\n      <td>A</td>\n      <td>60X75</td>\n      <td>NaN</td>\n      <td>1.109184e+09</td>\n      <td>1109082667</td>\n      <td>POINT (-114.210957448601 51.0685668243)</td>\n      <td>1.0</td>\n      <td>1.0</td>\n      <td>128.0</td>\n      <td>14.0</td>\n    </tr>\n    <tr>\n      <th>1</th>\n      <td>Parking Restrictions</td>\n      <td>NaN</td>\n      <td>W</td>\n      <td>GPS</td>\n      <td>2016/08/18</td>\n      <td>High Intensity</td>\n      <td>SG_40-06</td>\n      <td>NaN</td>\n      <td>0.0</td>\n      <td>R</td>\n      <td>...</td>\n      <td>R</td>\n      <td>30X30</td>\n      <td>Signpole</td>\n      <td>1.110021e+09</td>\n      <td>1110021182</td>\n      <td>POINT (-113.935804152861 50.911165903496)</td>\n      <td>4.0</td>\n      <td>3.0</td>\n      <td>96.0</td>\n      <td>8.0</td>\n    </tr>\n    <tr>\n      <th>2</th>\n      <td>Timed Parking</td>\n      <td>NaN</td>\n      <td>NE</td>\n      <td>Field Estimate</td>\n      <td>NaN</td>\n      <td>NaN</td>\n      <td>SG_40-05</td>\n      <td>NaN</td>\n      <td>4.0</td>\n      <td>A</td>\n      <td>...</td>\n      <td>R</td>\n      <td>SPECIAL</td>\n      <td>Signpole</td>\n      <td>1.110202e+09</td>\n      <td>1109526373</td>\n      <td>POINT (-114.05423120852 51.042027593481)</td>\n      <td>14.0</td>\n      <td>3.0</td>\n      <td>260.0</td>\n      <td>5.0</td>\n    </tr>\n    <tr>\n      <th>3</th>\n      <td>Timed Parking</td>\n      <td>NaN</td>\n      <td>NE</td>\n      <td>Field Estimate</td>\n      <td>2019/01/16</td>\n      <td>High Intensity</td>\n      <td>SG_40-05</td>\n      <td>NaN</td>\n      <td>4.0</td>\n      <td>A</td>\n      <td>...</td>\n      <td>A</td>\n      <td>SPECIAL</td>\n      <td>Signpole</td>\n      <td>1.110202e+09</td>\n      <td>1109286994</td>\n      <td>POINT (-114.053597489366 51.04135079758)</td>\n      <td>14.0</td>\n      <td>3.0</td>\n      <td>260.0</td>\n      <td>5.0</td>\n    </tr>\n    <tr>\n      <th>4</th>\n      <td>Warning</td>\n      <td>NaN</td>\n      <td>W</td>\n      <td>Field Estimate</td>\n      <td>2018/09/12</td>\n      <td>High Intensity</td>\n      <td>SG_40-57</td>\n      <td>NaN</td>\n      <td>0.0</td>\n      <td>A</td>\n      <td>...</td>\n      <td>A</td>\n      <td>NaN</td>\n      <td>Signpole</td>\n      <td>1.110271e+09</td>\n      <td>1110172249</td>\n      <td>POINT (-113.935926247512 50.911341384981)</td>\n      <td>4.0</td>\n      <td>3.0</td>\n      <td>96.0</td>\n      <td>8.0</td>\n    </tr>\n    <tr>\n      <th>...</th>\n      <td>...</td>\n      <td>...</td>\n      <td>...</td>\n      <td>...</td>\n      <td>...</td>\n      <td>...</td>\n      <td>...</td>\n      <td>...</td>\n      <td>...</td>\n      <td>...</td>\n      <td>...</td>\n      <td>...</td>\n      <td>...</td>\n      <td>...</td>\n      <td>...</td>\n      <td>...</td>\n      <td>...</td>\n      <td>...</td>\n      <td>...</td>\n      <td>...</td>\n      <td>...</td>\n    </tr>\n    <tr>\n      <th>207515</th>\n      <td>Street Name</td>\n      <td>NaN</td>\n      <td>E</td>\n      <td>GPS</td>\n      <td>2005/07/01</td>\n      <td>High Intensity</td>\n      <td>NaN</td>\n      <td>NaN</td>\n      <td>1.0</td>\n      <td>A</td>\n      <td>...</td>\n      <td>A</td>\n      <td>30XL</td>\n      <td>Trunk</td>\n      <td>1.109144e+09</td>\n      <td>1109076036</td>\n      <td>POINT (-114.089566544877 50.91413523827)</td>\n      <td>5.0</td>\n      <td>1.0</td>\n      <td>156.0</td>\n      <td>6.0</td>\n    </tr>\n    <tr>\n      <th>207516</th>\n      <td>Regulatory</td>\n      <td>NaN</td>\n      <td>N</td>\n      <td>Field Estimate</td>\n      <td>2015/06/10</td>\n      <td>High Intensity</td>\n      <td>SG_40-05</td>\n      <td>NaN</td>\n      <td>3.0</td>\n      <td>A</td>\n      <td>...</td>\n      <td>A</td>\n      <td>SPECIAL</td>\n      <td>Signpole</td>\n      <td>1.109942e+09</td>\n      <td>1109941864</td>\n      <td>POINT (-114.073475226496 51.050465695905)</td>\n      <td>14.0</td>\n      <td>1.0</td>\n      <td>262.0</td>\n      <td>2.0</td>\n    </tr>\n    <tr>\n      <th>207517</th>\n      <td>Parking Restrictions</td>\n      <td>NaN</td>\n      <td>SW</td>\n      <td>Field Estimate</td>\n      <td>2008/07/03</td>\n      <td>NaN</td>\n      <td>SG_40-06</td>\n      <td>NaN</td>\n      <td>3.0</td>\n      <td>A</td>\n      <td>...</td>\n      <td>A</td>\n      <td>30X45</td>\n      <td>Signpole</td>\n      <td>1.109276e+09</td>\n      <td>1109276231</td>\n      <td>POINT (-114.090109343345 51.052801038311)</td>\n      <td>7.0</td>\n      <td>2.0</td>\n      <td>40.0</td>\n      <td>7.0</td>\n    </tr>\n    <tr>\n      <th>207518</th>\n      <td>Street Name</td>\n      <td>NaN</td>\n      <td>NW/SE</td>\n      <td>GPS</td>\n      <td>2004/07/01</td>\n      <td>High Intensity</td>\n      <td>SG_40-99</td>\n      <td>NaN</td>\n      <td>2.0</td>\n      <td>A</td>\n      <td>...</td>\n      <td>A</td>\n      <td>15XL</td>\n      <td>Signpole</td>\n      <td>1.109230e+09</td>\n      <td>1109092275</td>\n      <td>POINT (-114.053874443342 50.974157960171)</td>\n      <td>10.0</td>\n      <td>3.0</td>\n      <td>174.0</td>\n      <td>5.0</td>\n    </tr>\n    <tr>\n      <th>207519</th>\n      <td>Parking Restrictions</td>\n      <td>NaN</td>\n      <td>NE</td>\n      <td>NaN</td>\n      <td>1991/07/02</td>\n      <td>High Intensity</td>\n      <td>SG_40-06</td>\n      <td>NaN</td>\n      <td>1.0</td>\n      <td>A</td>\n      <td>...</td>\n      <td>A</td>\n      <td>30X30</td>\n      <td>Signpole</td>\n      <td>1.109195e+09</td>\n      <td>1109049565</td>\n      <td>POINT (-114.006688140223 51.073240858843)</td>\n      <td>9.0</td>\n      <td>4.0</td>\n      <td>106.0</td>\n      <td>3.0</td>\n    </tr>\n  </tbody>\n</table>\n<p>207520 rows × 21 columns</p>\n</div>"
     },
     "metadata": {},
     "execution_count": 55
    }
   ],
   "source": [
    "signs_df"
   ]
  },
  {
   "cell_type": "code",
   "execution_count": 56,
   "metadata": {
    "tags": []
   },
   "outputs": [
    {
     "output_type": "display_data",
     "data": {
      "text/plain": "0       {'type': 'Point', 'coordinates': [[51.052514, ...\n1       {'type': 'Point', 'coordinates': [[51.154211, ...\n2       {'type': 'Point', 'coordinates': [[51.094081, ...\n3       {'type': 'Point', 'coordinates': [[51.117992, ...\n4       {'type': 'Point', 'coordinates': [[51.037739, ...\n                              ...                        \n1533    {'type': 'Point', 'coordinates': [[51.154147, ...\n1534    {'type': 'Point', 'coordinates': [[50.902069, ...\n1535    {'type': 'Point', 'coordinates': [[51.073213, ...\n1536    {'type': 'Point', 'coordinates': [[51.048341, ...\n1537    {'type': 'Point', 'coordinates': [[50.906049, ...\nName: Point, Length: 1538, dtype: object"
     },
     "metadata": {}
    },
    {
     "output_type": "display_data",
     "data": {
      "text/plain": "0         {'type': 'Point', 'coordinates': [[51.068567, ...\n1         {'type': 'Point', 'coordinates': [[50.911166, ...\n2         {'type': 'Point', 'coordinates': [[51.042028, ...\n3         {'type': 'Point', 'coordinates': [[51.041351, ...\n4         {'type': 'Point', 'coordinates': [[50.911341, ...\n                                ...                        \n207515    {'type': 'Point', 'coordinates': [[50.914135, ...\n207516    {'type': 'Point', 'coordinates': [[51.050466, ...\n207517    {'type': 'Point', 'coordinates': [[51.052801, ...\n207518    {'type': 'Point', 'coordinates': [[50.974158, ...\n207519    {'type': 'Point', 'coordinates': [[51.073241, ...\nName: POINT, Length: 207520, dtype: object"
     },
     "metadata": {}
    },
    {
     "output_type": "display_data",
     "data": {
      "text/plain": "0        {'type': 'Point', 'coordinates': [51.097316, -...\n1        {'type': 'Point', 'coordinates': [51.070539, -...\n2        {'type': 'Point', 'coordinates': [51.067299, -...\n3        {'type': 'Point', 'coordinates': [51.152736, -...\n4        {'type': 'Point', 'coordinates': [51.119684, -...\n                               ...                        \n19783    {'type': 'Point', 'coordinates': [50.946741, -...\n19784    {'type': 'Point', 'coordinates': [50.912974, -...\n19785    {'type': 'Point', 'coordinates': [51.152731, -...\n19786    {'type': 'Point', 'coordinates': [51.18322, -1...\n19787    {'type': 'Point', 'coordinates': [51.047762, -...\nName: location, Length: 19788, dtype: object"
     },
     "metadata": {}
    },
    {
     "output_type": "display_data",
     "data": {
      "text/plain": "0       {'type': 'MultiLineString', 'coordinates': [[5...\n1       {'type': 'MultiLineString', 'coordinates': [[5...\n2       {'type': 'MultiLineString', 'coordinates': [[5...\n3       {'type': 'MultiLineString', 'coordinates': [[5...\n4       {'type': 'MultiLineString', 'coordinates': [[5...\n                              ...                        \n1764    {'type': 'MultiLineString', 'coordinates': [[5...\n1765    {'type': 'MultiLineString', 'coordinates': [[5...\n1766    {'type': 'MultiLineString', 'coordinates': [[5...\n1767    {'type': 'MultiLineString', 'coordinates': [[5...\n1768    {'type': 'MultiLineString', 'coordinates': [[5...\nName: multilinestring, Length: 1769, dtype: object"
     },
     "metadata": {}
    },
    {
     "output_type": "display_data",
     "data": {
      "text/plain": "0       {'type': 'MultiLineString', 'coordinates': [[5...\n1       {'type': 'MultiLineString', 'coordinates': [[5...\n2       {'type': 'MultiLineString', 'coordinates': [[5...\n3       {'type': 'MultiLineString', 'coordinates': [[5...\n4       {'type': 'MultiLineString', 'coordinates': [[5...\n                              ...                        \n1447    {'type': 'MultiLineString', 'coordinates': [[5...\n1448    {'type': 'MultiLineString', 'coordinates': [[5...\n1449    {'type': 'MultiLineString', 'coordinates': [[5...\n1450    {'type': 'MultiLineString', 'coordinates': [[5...\n1451    {'type': 'MultiLineString', 'coordinates': [[5...\nName: multiline, Length: 1452, dtype: object"
     },
     "metadata": {}
    },
    {
     "output_type": "display_data",
     "data": {
      "text/plain": "                           Camera Location Quadrant  \\\n0         Stoney Trail / Deerfoot Trail SE       SE   \n1             Memorial Drive / 52 Street E       NE   \n2    Crowchild Trail / Shaganappi Trail NW       NW   \n3        Crowchild Trail / Sarcee Trail NW       NW   \n4          Airport Trail / Barlow Trail NE       NE   \n..                                     ...      ...   \n121     Memorial Drive / Edmonton Trail NE       NE   \n122       Glenmore Trail / Barlow Trail SE       SE   \n123       Glenmore Trail / Stoney Trail SE       SE   \n124                 5 Avenue / 5 Street SW       SW   \n125                 9 Avenue / 3 Street SE       SE   \n\n                                  Camera URL   longitude   latitude  \\\n0     http://trafficcam.calgary.ca/loc86.jpg -113.976606  50.900726   \n1      http://trafficcam.calgary.ca/loc3.jpg -113.955818  51.053253   \n2     http://trafficcam.calgary.ca/loc37.jpg -114.149379  51.098849   \n3    http://trafficcam.calgary.ca/loc126.jpg -114.178204  51.111255   \n4    http://trafficcam.calgary.ca/loc114.jpg -114.001451  51.139352   \n..                                       ...         ...        ...   \n121   http://trafficcam.calgary.ca/loc30.jpg -114.050136  51.050802   \n122   http://trafficcam.calgary.ca/loc98.jpg -113.981495  50.979446   \n123  http://trafficcam.calgary.ca/loc128.jpg -113.929263  50.979635   \n124  http://trafficcam.calgary.ca/loc122.jpg -114.073644  51.048677   \n125   http://trafficcam.calgary.ca/loc91.jpg -114.055664  51.044390   \n\n                                                 Point  \n0    {'type': 'Point', 'coordinates': [50.900726, -...  \n1    {'type': 'Point', 'coordinates': [51.053253, -...  \n2    {'type': 'Point', 'coordinates': [51.098849, -...  \n3    {'type': 'Point', 'coordinates': [51.111255, -...  \n4    {'type': 'Point', 'coordinates': [51.139352, -...  \n..                                                 ...  \n121  {'type': 'Point', 'coordinates': [51.050802, -...  \n122  {'type': 'Point', 'coordinates': [50.979446, -...  \n123  {'type': 'Point', 'coordinates': [50.979635, -...  \n124  {'type': 'Point', 'coordinates': [51.048677, -...  \n125  {'type': 'Point', 'coordinates': [51.04439, -1...  \n\n[126 rows x 6 columns]",
      "text/html": "<div>\n<style scoped>\n    .dataframe tbody tr th:only-of-type {\n        vertical-align: middle;\n    }\n\n    .dataframe tbody tr th {\n        vertical-align: top;\n    }\n\n    .dataframe thead th {\n        text-align: right;\n    }\n</style>\n<table border=\"1\" class=\"dataframe\">\n  <thead>\n    <tr style=\"text-align: right;\">\n      <th></th>\n      <th>Camera Location</th>\n      <th>Quadrant</th>\n      <th>Camera URL</th>\n      <th>longitude</th>\n      <th>latitude</th>\n      <th>Point</th>\n    </tr>\n  </thead>\n  <tbody>\n    <tr>\n      <th>0</th>\n      <td>Stoney Trail / Deerfoot Trail SE</td>\n      <td>SE</td>\n      <td>http://trafficcam.calgary.ca/loc86.jpg</td>\n      <td>-113.976606</td>\n      <td>50.900726</td>\n      <td>{'type': 'Point', 'coordinates': [50.900726, -...</td>\n    </tr>\n    <tr>\n      <th>1</th>\n      <td>Memorial Drive / 52 Street E</td>\n      <td>NE</td>\n      <td>http://trafficcam.calgary.ca/loc3.jpg</td>\n      <td>-113.955818</td>\n      <td>51.053253</td>\n      <td>{'type': 'Point', 'coordinates': [51.053253, -...</td>\n    </tr>\n    <tr>\n      <th>2</th>\n      <td>Crowchild Trail / Shaganappi Trail NW</td>\n      <td>NW</td>\n      <td>http://trafficcam.calgary.ca/loc37.jpg</td>\n      <td>-114.149379</td>\n      <td>51.098849</td>\n      <td>{'type': 'Point', 'coordinates': [51.098849, -...</td>\n    </tr>\n    <tr>\n      <th>3</th>\n      <td>Crowchild Trail / Sarcee Trail NW</td>\n      <td>NW</td>\n      <td>http://trafficcam.calgary.ca/loc126.jpg</td>\n      <td>-114.178204</td>\n      <td>51.111255</td>\n      <td>{'type': 'Point', 'coordinates': [51.111255, -...</td>\n    </tr>\n    <tr>\n      <th>4</th>\n      <td>Airport Trail / Barlow Trail NE</td>\n      <td>NE</td>\n      <td>http://trafficcam.calgary.ca/loc114.jpg</td>\n      <td>-114.001451</td>\n      <td>51.139352</td>\n      <td>{'type': 'Point', 'coordinates': [51.139352, -...</td>\n    </tr>\n    <tr>\n      <th>...</th>\n      <td>...</td>\n      <td>...</td>\n      <td>...</td>\n      <td>...</td>\n      <td>...</td>\n      <td>...</td>\n    </tr>\n    <tr>\n      <th>121</th>\n      <td>Memorial Drive / Edmonton Trail NE</td>\n      <td>NE</td>\n      <td>http://trafficcam.calgary.ca/loc30.jpg</td>\n      <td>-114.050136</td>\n      <td>51.050802</td>\n      <td>{'type': 'Point', 'coordinates': [51.050802, -...</td>\n    </tr>\n    <tr>\n      <th>122</th>\n      <td>Glenmore Trail / Barlow Trail SE</td>\n      <td>SE</td>\n      <td>http://trafficcam.calgary.ca/loc98.jpg</td>\n      <td>-113.981495</td>\n      <td>50.979446</td>\n      <td>{'type': 'Point', 'coordinates': [50.979446, -...</td>\n    </tr>\n    <tr>\n      <th>123</th>\n      <td>Glenmore Trail / Stoney Trail SE</td>\n      <td>SE</td>\n      <td>http://trafficcam.calgary.ca/loc128.jpg</td>\n      <td>-113.929263</td>\n      <td>50.979635</td>\n      <td>{'type': 'Point', 'coordinates': [50.979635, -...</td>\n    </tr>\n    <tr>\n      <th>124</th>\n      <td>5 Avenue / 5 Street SW</td>\n      <td>SW</td>\n      <td>http://trafficcam.calgary.ca/loc122.jpg</td>\n      <td>-114.073644</td>\n      <td>51.048677</td>\n      <td>{'type': 'Point', 'coordinates': [51.048677, -...</td>\n    </tr>\n    <tr>\n      <th>125</th>\n      <td>9 Avenue / 3 Street SE</td>\n      <td>SE</td>\n      <td>http://trafficcam.calgary.ca/loc91.jpg</td>\n      <td>-114.055664</td>\n      <td>51.044390</td>\n      <td>{'type': 'Point', 'coordinates': [51.04439, -1...</td>\n    </tr>\n  </tbody>\n</table>\n<p>126 rows × 6 columns</p>\n</div>"
     },
     "metadata": {}
    }
   ],
   "source": [
    "\n",
    "def clean_multi_line(s: str, flip = True):\n",
    "    '''\n",
    "    get coordinates from string data and convert to geojson multiline string object \n",
    "    '''\n",
    "    cleaned = list(map(float,re.findall(r'[\\-?\\d\\.?]+', s)))\n",
    "    if flip:\n",
    "        cleaned = flip_coords(cleaned)\n",
    "    return MultiLineString(cleaned)\n",
    "\n",
    "def flip_coords(coords):\n",
    "    flipped = []\n",
    "    lats = [] \n",
    "    lons = []\n",
    "    i = 0\n",
    "    while i < len(coords):\n",
    "        if i % 2 == 0: \n",
    "            lons.append(coords[i])\n",
    "        else:  \n",
    "            lats.append(coords[i])\n",
    "        i+=1\n",
    "    flipped = list(zip(lats,lons))\n",
    "    return flipped\n",
    "\n",
    "def clean_point_coords(s: str, flip=True): \n",
    "    cleaned = list(map(float,re.findall(r'[\\-\\d\\.?]+', s)))\n",
    "    # print(cleaned)\n",
    "    if flip:\n",
    "        cleaned = flip_coords(cleaned)\n",
    "    return Point(cleaned)\n",
    "\n",
    "display(signals_df['Point'].apply(lambda x: clean_point_coords(x)))\n",
    "display(signs_df['POINT'].apply(lambda x: clean_point_coords(x)))\n",
    "display(incidents_df['location'].apply(lambda x: clean_point_coords(x, flip=False)))\n",
    "display(volumes_df['multilinestring'].apply(lambda x: clean_multi_line(x)))\n",
    "display(speeds_df['multiline'].apply(lambda x: clean_multi_line(x)))\n",
    "cameras_df['Point'] = list(zip(cameras_df['latitude'], cameras_df['longitude']))\n",
    "cameras_df['Point'] = cameras_df['Point'].apply(lambda x: Point(x))\n",
    "display(cameras_df)\n"
   ]
  },
  {
   "cell_type": "code",
   "execution_count": 64,
   "metadata": {
    "tags": []
   },
   "outputs": [
    {
     "output_type": "stream",
     "name": "stdout",
     "text": "[51.212425, -113.859905] [50.842822, -114.315796]\n"
    },
    {
     "output_type": "execute_result",
     "data": {
      "text/plain": "<folium.folium.Map at 0x7f26912707d0>",
      "text/html": "<div style=\"width:100%;\"><div style=\"position:relative;width:100%;height:0;padding-bottom:60%;\"><span style=\"color:#565656\">Make this Notebook Trusted to load map: File -> Trust Notebook</span><iframe src=\"about:blank\" style=\"position:absolute;width:100%;height:100%;left:0;top:0;border:none !important;\" data-html=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 onload=\"this.contentDocument.open();this.contentDocument.write(atob(this.getAttribute('data-html')));this.contentDocument.close();\" allowfullscreen webkitallowfullscreen mozallowfullscreen></iframe></div></div>"
     },
     "metadata": {},
     "execution_count": 64
    }
   ],
   "source": [
    "yyc_map = pd.read_csv('City_Boundary_layer.csv')\n",
    "geom = yyc_map.the_geom[0]\n",
    "geom = MultiLineString(clean_multi_line(geom, True))\n",
    "# display(geom['coordinates'])\n",
    "\n",
    "ne = [float('-inf'), float('-inf')]\n",
    "sw = [float('+inf'), float('+inf')]\n",
    "\n",
    "for point in geom['coordinates']:\n",
    "    if point[0] > ne[0]:\n",
    "        ne[0] = point[0] \n",
    "    if point[1] > ne[1]:\n",
    "        ne[1] = point[1]\n",
    "    if point[0] < sw[0]:\n",
    "        sw[0] = point[0]\n",
    "    if point[1] < sw[1]:\n",
    "        sw[1] = point[1]\n",
    "\n",
    "print(ne, sw)\n",
    "    \n",
    "\n",
    "\n",
    "m = folium.Map(location = ne)\n",
    "m\n",
    "\n",
    "rect = folium.Rectangle(bounds=[ne, sw]).add_to(m)\n",
    "m\n",
    "\n",
    "\n",
    "\n",
    "# for point in geom['coordinates']: \n",
    "\n"
   ]
  }
 ]
}