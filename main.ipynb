{
 "metadata": {
  "language_info": {
   "codemirror_mode": {
    "name": "ipython",
    "version": 3
   },
   "file_extension": ".py",
   "mimetype": "text/x-python",
   "name": "python",
   "nbconvert_exporter": "python",
   "pygments_lexer": "ipython3",
   "version": "3.7.7-final"
  },
  "orig_nbformat": 2,
  "kernelspec": {
   "name": "python37764bitminiconda3conda325cb6264bba41129d04ca3e5f9f112e",
   "display_name": "Python 3.7.7 64-bit ('miniconda3': conda)"
  }
 },
 "nbformat": 4,
 "nbformat_minor": 2,
 "cells": [
  {
   "cell_type": "markdown",
   "metadata": {},
   "source": [
    "# ENSF 592 - FINAL PROJECT\n",
    "## Calgary Accident Analysis\n",
    "### By: Mike Lasby\n",
    "\n",
    "# README\n",
    "This notebook is the entry point of our project and functions as the View. The notebook depends on the Controller.py class to retrieve and manipulate data from the underlying data models stored as seperate .py scripts. "
   ]
  },
  {
   "cell_type": "code",
   "execution_count": 1,
   "metadata": {
    "tags": []
   },
   "outputs": [],
   "source": [
    "%matplotlib inline\n",
    "import numpy as np\n",
    "import pandas as pd\n",
    "import seaborn as sns\n",
    "from geojson import Point, MultiLineString\n",
    "import geopandas as gpd\n",
    "# from shapely.geometry import Point, MultiLineString, LineString\n",
    "import re\n",
    "import math\n",
    "import folium\n",
    "import matplotlib.pyplot as plt\n",
    "from controller import Controller"
   ]
  },
  {
   "cell_type": "code",
   "execution_count": 2,
   "metadata": {
    "tags": []
   },
   "outputs": [
    {
     "output_type": "stream",
     "name": "stdout",
     "text": "Loading Data...\n...Data Loaded.\nCreating geometry column in df speeds from multiline. Am I flipping coords? True\nCreating geometry column in df volumes from multilinestring. Am I flipping coords? True\nCreating geometry column in df incidents from location. Am I flipping coords? False\nCreating geometry column in df cameras from None. Am I flipping coords? True\nCreating geometry column in df signals from Point. Am I flipping coords? True\nCreating geometry column in df signs from POINT. Am I flipping coords? True\nCreating geometry column in df cells from cell_bounds. Am I flipping coords? False\n"
    },
    {
     "output_type": "execute_result",
     "data": {
      "text/plain": "                                           INCIDENT INFO  \\\n0      Westbound McKnight Boulevard approaching John ...   \n1                               20 Avenue at 8 Street NW   \n2                           Sunridge Way at 36 Street NE   \n3      Westbound Stoney approaching Shaganappi Trail NW.   \n4      Southbound Nose Hill Drive approaching Crowchi...   \n...                                                  ...   \n19783   Southbound Deerfoot Trail and Douglasdale Bou...   \n19784    Shawnessy Boulevard and Shawville Boulevard SE    \n19785   Eastbound Stoney Trail after Shaganappi Trail...   \n19786           Symons Valley Road NW and 144 Avenue NW    \n19787    Eastbound Memorial Drive and Deerfoot Trail SE    \n\n                                             DESCRIPTION  \\\n0                                    2 vehicle incident.   \n1                                    2 vehicle incident.   \n2                    There is an incident involving LRT.   \n3                                Multi vehicle incident.   \n4                                Multi vehicle incident.   \n...                                                  ...   \n19783   Multi-vehicle incident.  Blocking the right lane   \n19784     Two vehicle incident. Blocking multiple lanes.   \n19785                                  Traffic incident.   \n19786  Traffic incident.  The road is closed between ...   \n19787  Multi-vehicle incident.   Blocking the right lane   \n\n                     START_DT             MODIFIED_DT QUADRANT   Longitude  \\\n0      12/09/2016 04:46:32 PM  12/09/2016 05:16:54 PM       NW -114.083318   \n1      12/09/2016 04:58:23 PM  12/09/2016 05:16:54 PM       NW -114.081378   \n2      12/09/2016 05:14:08 PM  12/09/2016 05:16:54 PM       NE -113.984934   \n3      12/09/2016 05:16:08 PM  12/09/2016 05:16:53 PM       NW -114.147933   \n4      12/09/2016 05:38:05 PM  12/09/2016 05:55:52 PM       NW -114.203241   \n...                       ...                     ...      ...         ...   \n19783  07/11/2020 07:21:57 PM                     NaN      NaN -114.005304   \n19784  07/11/2020 10:29:09 PM                     NaN      NaN -114.069753   \n19785  07/11/2020 11:26:45 PM                     NaN      NaN -114.150728   \n19786  07/12/2020 08:34:16 AM                     NaN      NaN -114.134978   \n19787  07/12/2020 03:52:21 PM                     NaN      NaN -114.019418   \n\n        Latitude                                   location  Count  \\\n0      51.097316        (51.09731625733, -114.083317961464)      1   \n1      51.070539       (51.070538552637, -114.081377719156)      1   \n2      51.067299        (51.067298691023, -113.98493374196)      1   \n3      51.152736       (51.152736445625, -114.147933369876)      1   \n4      51.119684        (51.11968378497, -114.203240843777)      1   \n...          ...                                        ...    ...   \n19783  50.946741   (50.94674131426537, -114.00530375385111)      1   \n19784  50.912974   (50.91297382324482, -114.06975311526708)      1   \n19785  51.152731   (51.15273080944574, -114.15072838091025)      1   \n19786  51.183220   (51.18321993655643, -114.13497799337898)      1   \n19787  51.047762  (51.047761513729455, -114.01941796567567)      1   \n\n                                                      id  \\\n0      2016-12-09T16:46:3251.0973162573297-114.083317...   \n1      2016-12-09T16:58:2351.0705385526371-114.081377...   \n2      2016-12-09T17:14:0851.0672986910231-113.984933...   \n3      2016-12-09T17:16:0851.1527364456253-114.147933...   \n4      2016-12-09T17:38:0551.1196837849704-114.203240...   \n...                                                  ...   \n19783  2020-07-11T19:21:5750.94674131426537-114.00530...   \n19784  2020-07-11T22:29:0950.91297382324482-114.06975...   \n19785  2020-07-11T23:26:4551.15273080944574-114.15072...   \n19786  2020-07-12T08:34:1651.18321993655643-114.13497...   \n19787  2020-07-12T15:52:2151.047761513729455-114.0194...   \n\n                                                geometry  \n0      {'type': 'Point', 'coordinates': [51.097316, -...  \n1      {'type': 'Point', 'coordinates': [51.070539, -...  \n2      {'type': 'Point', 'coordinates': [51.067299, -...  \n3      {'type': 'Point', 'coordinates': [51.152736, -...  \n4      {'type': 'Point', 'coordinates': [51.119684, -...  \n...                                                  ...  \n19783  {'type': 'Point', 'coordinates': [50.946741, -...  \n19784  {'type': 'Point', 'coordinates': [50.912974, -...  \n19785  {'type': 'Point', 'coordinates': [51.152731, -...  \n19786  {'type': 'Point', 'coordinates': [51.18322, -1...  \n19787  {'type': 'Point', 'coordinates': [51.047762, -...  \n\n[19788 rows x 11 columns]",
      "text/html": "<div>\n<style scoped>\n    .dataframe tbody tr th:only-of-type {\n        vertical-align: middle;\n    }\n\n    .dataframe tbody tr th {\n        vertical-align: top;\n    }\n\n    .dataframe thead th {\n        text-align: right;\n    }\n</style>\n<table border=\"1\" class=\"dataframe\">\n  <thead>\n    <tr style=\"text-align: right;\">\n      <th></th>\n      <th>INCIDENT INFO</th>\n      <th>DESCRIPTION</th>\n      <th>START_DT</th>\n      <th>MODIFIED_DT</th>\n      <th>QUADRANT</th>\n      <th>Longitude</th>\n      <th>Latitude</th>\n      <th>location</th>\n      <th>Count</th>\n      <th>id</th>\n      <th>geometry</th>\n    </tr>\n  </thead>\n  <tbody>\n    <tr>\n      <th>0</th>\n      <td>Westbound McKnight Boulevard approaching John ...</td>\n      <td>2 vehicle incident.</td>\n      <td>12/09/2016 04:46:32 PM</td>\n      <td>12/09/2016 05:16:54 PM</td>\n      <td>NW</td>\n      <td>-114.083318</td>\n      <td>51.097316</td>\n      <td>(51.09731625733, -114.083317961464)</td>\n      <td>1</td>\n      <td>2016-12-09T16:46:3251.0973162573297-114.083317...</td>\n      <td>{'type': 'Point', 'coordinates': [51.097316, -...</td>\n    </tr>\n    <tr>\n      <th>1</th>\n      <td>20 Avenue at 8 Street NW</td>\n      <td>2 vehicle incident.</td>\n      <td>12/09/2016 04:58:23 PM</td>\n      <td>12/09/2016 05:16:54 PM</td>\n      <td>NW</td>\n      <td>-114.081378</td>\n      <td>51.070539</td>\n      <td>(51.070538552637, -114.081377719156)</td>\n      <td>1</td>\n      <td>2016-12-09T16:58:2351.0705385526371-114.081377...</td>\n      <td>{'type': 'Point', 'coordinates': [51.070539, -...</td>\n    </tr>\n    <tr>\n      <th>2</th>\n      <td>Sunridge Way at 36 Street NE</td>\n      <td>There is an incident involving LRT.</td>\n      <td>12/09/2016 05:14:08 PM</td>\n      <td>12/09/2016 05:16:54 PM</td>\n      <td>NE</td>\n      <td>-113.984934</td>\n      <td>51.067299</td>\n      <td>(51.067298691023, -113.98493374196)</td>\n      <td>1</td>\n      <td>2016-12-09T17:14:0851.0672986910231-113.984933...</td>\n      <td>{'type': 'Point', 'coordinates': [51.067299, -...</td>\n    </tr>\n    <tr>\n      <th>3</th>\n      <td>Westbound Stoney approaching Shaganappi Trail NW.</td>\n      <td>Multi vehicle incident.</td>\n      <td>12/09/2016 05:16:08 PM</td>\n      <td>12/09/2016 05:16:53 PM</td>\n      <td>NW</td>\n      <td>-114.147933</td>\n      <td>51.152736</td>\n      <td>(51.152736445625, -114.147933369876)</td>\n      <td>1</td>\n      <td>2016-12-09T17:16:0851.1527364456253-114.147933...</td>\n      <td>{'type': 'Point', 'coordinates': [51.152736, -...</td>\n    </tr>\n    <tr>\n      <th>4</th>\n      <td>Southbound Nose Hill Drive approaching Crowchi...</td>\n      <td>Multi vehicle incident.</td>\n      <td>12/09/2016 05:38:05 PM</td>\n      <td>12/09/2016 05:55:52 PM</td>\n      <td>NW</td>\n      <td>-114.203241</td>\n      <td>51.119684</td>\n      <td>(51.11968378497, -114.203240843777)</td>\n      <td>1</td>\n      <td>2016-12-09T17:38:0551.1196837849704-114.203240...</td>\n      <td>{'type': 'Point', 'coordinates': [51.119684, -...</td>\n    </tr>\n    <tr>\n      <th>...</th>\n      <td>...</td>\n      <td>...</td>\n      <td>...</td>\n      <td>...</td>\n      <td>...</td>\n      <td>...</td>\n      <td>...</td>\n      <td>...</td>\n      <td>...</td>\n      <td>...</td>\n      <td>...</td>\n    </tr>\n    <tr>\n      <th>19783</th>\n      <td>Southbound Deerfoot Trail and Douglasdale Bou...</td>\n      <td>Multi-vehicle incident.  Blocking the right lane</td>\n      <td>07/11/2020 07:21:57 PM</td>\n      <td>NaN</td>\n      <td>NaN</td>\n      <td>-114.005304</td>\n      <td>50.946741</td>\n      <td>(50.94674131426537, -114.00530375385111)</td>\n      <td>1</td>\n      <td>2020-07-11T19:21:5750.94674131426537-114.00530...</td>\n      <td>{'type': 'Point', 'coordinates': [50.946741, -...</td>\n    </tr>\n    <tr>\n      <th>19784</th>\n      <td>Shawnessy Boulevard and Shawville Boulevard SE</td>\n      <td>Two vehicle incident. Blocking multiple lanes.</td>\n      <td>07/11/2020 10:29:09 PM</td>\n      <td>NaN</td>\n      <td>NaN</td>\n      <td>-114.069753</td>\n      <td>50.912974</td>\n      <td>(50.91297382324482, -114.06975311526708)</td>\n      <td>1</td>\n      <td>2020-07-11T22:29:0950.91297382324482-114.06975...</td>\n      <td>{'type': 'Point', 'coordinates': [50.912974, -...</td>\n    </tr>\n    <tr>\n      <th>19785</th>\n      <td>Eastbound Stoney Trail after Shaganappi Trail...</td>\n      <td>Traffic incident.</td>\n      <td>07/11/2020 11:26:45 PM</td>\n      <td>NaN</td>\n      <td>NaN</td>\n      <td>-114.150728</td>\n      <td>51.152731</td>\n      <td>(51.15273080944574, -114.15072838091025)</td>\n      <td>1</td>\n      <td>2020-07-11T23:26:4551.15273080944574-114.15072...</td>\n      <td>{'type': 'Point', 'coordinates': [51.152731, -...</td>\n    </tr>\n    <tr>\n      <th>19786</th>\n      <td>Symons Valley Road NW and 144 Avenue NW</td>\n      <td>Traffic incident.  The road is closed between ...</td>\n      <td>07/12/2020 08:34:16 AM</td>\n      <td>NaN</td>\n      <td>NaN</td>\n      <td>-114.134978</td>\n      <td>51.183220</td>\n      <td>(51.18321993655643, -114.13497799337898)</td>\n      <td>1</td>\n      <td>2020-07-12T08:34:1651.18321993655643-114.13497...</td>\n      <td>{'type': 'Point', 'coordinates': [51.18322, -1...</td>\n    </tr>\n    <tr>\n      <th>19787</th>\n      <td>Eastbound Memorial Drive and Deerfoot Trail SE</td>\n      <td>Multi-vehicle incident.   Blocking the right lane</td>\n      <td>07/12/2020 03:52:21 PM</td>\n      <td>NaN</td>\n      <td>NaN</td>\n      <td>-114.019418</td>\n      <td>51.047762</td>\n      <td>(51.047761513729455, -114.01941796567567)</td>\n      <td>1</td>\n      <td>2020-07-12T15:52:2151.047761513729455-114.0194...</td>\n      <td>{'type': 'Point', 'coordinates': [51.047762, -...</td>\n    </tr>\n  </tbody>\n</table>\n<p>19788 rows × 11 columns</p>\n</div>"
     },
     "metadata": {},
     "execution_count": 2
    }
   ],
   "source": [
    "ctrl = Controller()\n",
    "ctrl.load_data()\n",
    "ctrl.add_geo_cols()\n",
    "ctrl.get_frame('incidents')\n",
    "\n",
    "\n"
   ]
  },
  {
   "cell_type": "code",
   "execution_count": 4,
   "metadata": {},
   "outputs": [],
   "source": [
    "incidents_df = pd.read_csv('Traffic_Incidents.csv')\n",
    "speeds_df = pd.read_csv('Speed_Limits.csv')\n",
    "cameras_df = pd.read_csv('Traffic_Camera_Locations.csv')\n",
    "signals_df = pd.read_csv('Traffic_Signals.csv')\n",
    "signs_df = pd.read_csv('Traffic_Signs.csv')\n",
    "volumes_df = pd.read_csv('Traffic_Volumes_for_2018.csv')"
   ]
  },
  {
   "cell_type": "code",
   "execution_count": 11,
   "metadata": {},
   "outputs": [
    {
     "output_type": "execute_result",
     "data": {
      "text/plain": "                  BLADE_TYPE COMMENTS FACING_CD     FLD_SRC_TXT    INSTDATE  \\\n0                 Regulatory      NaN         N             NaN  2007/07/01   \n1       Parking Restrictions      NaN         W             GPS  2016/08/18   \n2              Timed Parking      NaN        NE  Field Estimate         NaN   \n3              Timed Parking      NaN        NE  Field Estimate  2019/01/16   \n4                    Warning      NaN         W  Field Estimate  2018/09/12   \n...                      ...      ...       ...             ...         ...   \n207515           Street Name      NaN         E             GPS  2005/07/01   \n207516            Regulatory      NaN         N  Field Estimate  2015/06/10   \n207517  Parking Restrictions      NaN        SW  Field Estimate  2008/07/03   \n207518           Street Name      NaN     NW/SE             GPS  2004/07/01   \n207519  Parking Restrictions      NaN        NE             NaN  1991/07/02   \n\n              MATERIAL     PL_TY REUSE  SGN_COUNT_NO SGN_STA_CD  ... STA_CD  \\\n0                  NaN       NaN   NaN           1.0          A  ...      A   \n1       High Intensity  SG_40-06   NaN           0.0          R  ...      R   \n2                  NaN  SG_40-05   NaN           4.0          A  ...      R   \n3       High Intensity  SG_40-05   NaN           4.0          A  ...      A   \n4       High Intensity  SG_40-57   NaN           0.0          A  ...      A   \n...                ...       ...   ...           ...        ...  ...    ...   \n207515  High Intensity       NaN   NaN           1.0          A  ...      A   \n207516  High Intensity  SG_40-05   NaN           3.0          A  ...      A   \n207517             NaN  SG_40-06   NaN           3.0          A  ...      A   \n207518  High Intensity  SG_40-99   NaN           2.0          A  ...      A   \n207519  High Intensity  SG_40-06   NaN           1.0          A  ...      A   \n\n        SIZE_CD SUPPORTTYPE        UNITID  TE_SIGNLOCATION_UNITID  \\\n0         60X75         NaN  1.109184e+09              1109082667   \n1         30X30    Signpole  1.110021e+09              1110021182   \n2       SPECIAL    Signpole  1.110202e+09              1109526373   \n3       SPECIAL    Signpole  1.110202e+09              1109286994   \n4           NaN    Signpole  1.110271e+09              1110172249   \n...         ...         ...           ...                     ...   \n207515     30XL       Trunk  1.109144e+09              1109076036   \n207516  SPECIAL    Signpole  1.109942e+09              1109941864   \n207517    30X45    Signpole  1.109276e+09              1109276231   \n207518     15XL    Signpole  1.109230e+09              1109092275   \n207519    30X30    Signpole  1.109195e+09              1109049565   \n\n                                            POINT Ward Boundaries  \\\n0         POINT (-114.210957448601 51.0685668243)             1.0   \n1       POINT (-113.935804152861 50.911165903496)             4.0   \n2        POINT (-114.05423120852 51.042027593481)            14.0   \n3        POINT (-114.053597489366 51.04135079758)            14.0   \n4       POINT (-113.935926247512 50.911341384981)             4.0   \n...                                           ...             ...   \n207515   POINT (-114.089566544877 50.91413523827)             5.0   \n207516  POINT (-114.073475226496 51.050465695905)            14.0   \n207517  POINT (-114.090109343345 51.052801038311)             7.0   \n207518  POINT (-114.053874443342 50.974157960171)            10.0   \n207519  POINT (-114.006688140223 51.073240858843)             9.0   \n\n        City Quadrants  Calgary Communities  Ward Boundaries 2013-2017  \n0                  1.0                128.0                       14.0  \n1                  3.0                 96.0                        8.0  \n2                  3.0                260.0                        5.0  \n3                  3.0                260.0                        5.0  \n4                  3.0                 96.0                        8.0  \n...                ...                  ...                        ...  \n207515             1.0                156.0                        6.0  \n207516             1.0                262.0                        2.0  \n207517             2.0                 40.0                        7.0  \n207518             3.0                174.0                        5.0  \n207519             4.0                106.0                        3.0  \n\n[207520 rows x 21 columns]",
      "text/html": "<div>\n<style scoped>\n    .dataframe tbody tr th:only-of-type {\n        vertical-align: middle;\n    }\n\n    .dataframe tbody tr th {\n        vertical-align: top;\n    }\n\n    .dataframe thead th {\n        text-align: right;\n    }\n</style>\n<table border=\"1\" class=\"dataframe\">\n  <thead>\n    <tr style=\"text-align: right;\">\n      <th></th>\n      <th>BLADE_TYPE</th>\n      <th>COMMENTS</th>\n      <th>FACING_CD</th>\n      <th>FLD_SRC_TXT</th>\n      <th>INSTDATE</th>\n      <th>MATERIAL</th>\n      <th>PL_TY</th>\n      <th>REUSE</th>\n      <th>SGN_COUNT_NO</th>\n      <th>SGN_STA_CD</th>\n      <th>...</th>\n      <th>STA_CD</th>\n      <th>SIZE_CD</th>\n      <th>SUPPORTTYPE</th>\n      <th>UNITID</th>\n      <th>TE_SIGNLOCATION_UNITID</th>\n      <th>POINT</th>\n      <th>Ward Boundaries</th>\n      <th>City Quadrants</th>\n      <th>Calgary Communities</th>\n      <th>Ward Boundaries 2013-2017</th>\n    </tr>\n  </thead>\n  <tbody>\n    <tr>\n      <th>0</th>\n      <td>Regulatory</td>\n      <td>NaN</td>\n      <td>N</td>\n      <td>NaN</td>\n      <td>2007/07/01</td>\n      <td>NaN</td>\n      <td>NaN</td>\n      <td>NaN</td>\n      <td>1.0</td>\n      <td>A</td>\n      <td>...</td>\n      <td>A</td>\n      <td>60X75</td>\n      <td>NaN</td>\n      <td>1.109184e+09</td>\n      <td>1109082667</td>\n      <td>POINT (-114.210957448601 51.0685668243)</td>\n      <td>1.0</td>\n      <td>1.0</td>\n      <td>128.0</td>\n      <td>14.0</td>\n    </tr>\n    <tr>\n      <th>1</th>\n      <td>Parking Restrictions</td>\n      <td>NaN</td>\n      <td>W</td>\n      <td>GPS</td>\n      <td>2016/08/18</td>\n      <td>High Intensity</td>\n      <td>SG_40-06</td>\n      <td>NaN</td>\n      <td>0.0</td>\n      <td>R</td>\n      <td>...</td>\n      <td>R</td>\n      <td>30X30</td>\n      <td>Signpole</td>\n      <td>1.110021e+09</td>\n      <td>1110021182</td>\n      <td>POINT (-113.935804152861 50.911165903496)</td>\n      <td>4.0</td>\n      <td>3.0</td>\n      <td>96.0</td>\n      <td>8.0</td>\n    </tr>\n    <tr>\n      <th>2</th>\n      <td>Timed Parking</td>\n      <td>NaN</td>\n      <td>NE</td>\n      <td>Field Estimate</td>\n      <td>NaN</td>\n      <td>NaN</td>\n      <td>SG_40-05</td>\n      <td>NaN</td>\n      <td>4.0</td>\n      <td>A</td>\n      <td>...</td>\n      <td>R</td>\n      <td>SPECIAL</td>\n      <td>Signpole</td>\n      <td>1.110202e+09</td>\n      <td>1109526373</td>\n      <td>POINT (-114.05423120852 51.042027593481)</td>\n      <td>14.0</td>\n      <td>3.0</td>\n      <td>260.0</td>\n      <td>5.0</td>\n    </tr>\n    <tr>\n      <th>3</th>\n      <td>Timed Parking</td>\n      <td>NaN</td>\n      <td>NE</td>\n      <td>Field Estimate</td>\n      <td>2019/01/16</td>\n      <td>High Intensity</td>\n      <td>SG_40-05</td>\n      <td>NaN</td>\n      <td>4.0</td>\n      <td>A</td>\n      <td>...</td>\n      <td>A</td>\n      <td>SPECIAL</td>\n      <td>Signpole</td>\n      <td>1.110202e+09</td>\n      <td>1109286994</td>\n      <td>POINT (-114.053597489366 51.04135079758)</td>\n      <td>14.0</td>\n      <td>3.0</td>\n      <td>260.0</td>\n      <td>5.0</td>\n    </tr>\n    <tr>\n      <th>4</th>\n      <td>Warning</td>\n      <td>NaN</td>\n      <td>W</td>\n      <td>Field Estimate</td>\n      <td>2018/09/12</td>\n      <td>High Intensity</td>\n      <td>SG_40-57</td>\n      <td>NaN</td>\n      <td>0.0</td>\n      <td>A</td>\n      <td>...</td>\n      <td>A</td>\n      <td>NaN</td>\n      <td>Signpole</td>\n      <td>1.110271e+09</td>\n      <td>1110172249</td>\n      <td>POINT (-113.935926247512 50.911341384981)</td>\n      <td>4.0</td>\n      <td>3.0</td>\n      <td>96.0</td>\n      <td>8.0</td>\n    </tr>\n    <tr>\n      <th>...</th>\n      <td>...</td>\n      <td>...</td>\n      <td>...</td>\n      <td>...</td>\n      <td>...</td>\n      <td>...</td>\n      <td>...</td>\n      <td>...</td>\n      <td>...</td>\n      <td>...</td>\n      <td>...</td>\n      <td>...</td>\n      <td>...</td>\n      <td>...</td>\n      <td>...</td>\n      <td>...</td>\n      <td>...</td>\n      <td>...</td>\n      <td>...</td>\n      <td>...</td>\n      <td>...</td>\n    </tr>\n    <tr>\n      <th>207515</th>\n      <td>Street Name</td>\n      <td>NaN</td>\n      <td>E</td>\n      <td>GPS</td>\n      <td>2005/07/01</td>\n      <td>High Intensity</td>\n      <td>NaN</td>\n      <td>NaN</td>\n      <td>1.0</td>\n      <td>A</td>\n      <td>...</td>\n      <td>A</td>\n      <td>30XL</td>\n      <td>Trunk</td>\n      <td>1.109144e+09</td>\n      <td>1109076036</td>\n      <td>POINT (-114.089566544877 50.91413523827)</td>\n      <td>5.0</td>\n      <td>1.0</td>\n      <td>156.0</td>\n      <td>6.0</td>\n    </tr>\n    <tr>\n      <th>207516</th>\n      <td>Regulatory</td>\n      <td>NaN</td>\n      <td>N</td>\n      <td>Field Estimate</td>\n      <td>2015/06/10</td>\n      <td>High Intensity</td>\n      <td>SG_40-05</td>\n      <td>NaN</td>\n      <td>3.0</td>\n      <td>A</td>\n      <td>...</td>\n      <td>A</td>\n      <td>SPECIAL</td>\n      <td>Signpole</td>\n      <td>1.109942e+09</td>\n      <td>1109941864</td>\n      <td>POINT (-114.073475226496 51.050465695905)</td>\n      <td>14.0</td>\n      <td>1.0</td>\n      <td>262.0</td>\n      <td>2.0</td>\n    </tr>\n    <tr>\n      <th>207517</th>\n      <td>Parking Restrictions</td>\n      <td>NaN</td>\n      <td>SW</td>\n      <td>Field Estimate</td>\n      <td>2008/07/03</td>\n      <td>NaN</td>\n      <td>SG_40-06</td>\n      <td>NaN</td>\n      <td>3.0</td>\n      <td>A</td>\n      <td>...</td>\n      <td>A</td>\n      <td>30X45</td>\n      <td>Signpole</td>\n      <td>1.109276e+09</td>\n      <td>1109276231</td>\n      <td>POINT (-114.090109343345 51.052801038311)</td>\n      <td>7.0</td>\n      <td>2.0</td>\n      <td>40.0</td>\n      <td>7.0</td>\n    </tr>\n    <tr>\n      <th>207518</th>\n      <td>Street Name</td>\n      <td>NaN</td>\n      <td>NW/SE</td>\n      <td>GPS</td>\n      <td>2004/07/01</td>\n      <td>High Intensity</td>\n      <td>SG_40-99</td>\n      <td>NaN</td>\n      <td>2.0</td>\n      <td>A</td>\n      <td>...</td>\n      <td>A</td>\n      <td>15XL</td>\n      <td>Signpole</td>\n      <td>1.109230e+09</td>\n      <td>1109092275</td>\n      <td>POINT (-114.053874443342 50.974157960171)</td>\n      <td>10.0</td>\n      <td>3.0</td>\n      <td>174.0</td>\n      <td>5.0</td>\n    </tr>\n    <tr>\n      <th>207519</th>\n      <td>Parking Restrictions</td>\n      <td>NaN</td>\n      <td>NE</td>\n      <td>NaN</td>\n      <td>1991/07/02</td>\n      <td>High Intensity</td>\n      <td>SG_40-06</td>\n      <td>NaN</td>\n      <td>1.0</td>\n      <td>A</td>\n      <td>...</td>\n      <td>A</td>\n      <td>30X30</td>\n      <td>Signpole</td>\n      <td>1.109195e+09</td>\n      <td>1109049565</td>\n      <td>POINT (-114.006688140223 51.073240858843)</td>\n      <td>9.0</td>\n      <td>4.0</td>\n      <td>106.0</td>\n      <td>3.0</td>\n    </tr>\n  </tbody>\n</table>\n<p>207520 rows × 21 columns</p>\n</div>"
     },
     "metadata": {},
     "execution_count": 11
    }
   ],
   "source": [
    "signs_df"
   ]
  },
  {
   "cell_type": "code",
   "execution_count": 21,
   "metadata": {
    "tags": []
   },
   "outputs": [
    {
     "output_type": "execute_result",
     "data": {
      "text/plain": "     BOUND  CREATED_DT  DISTANCE  SPEED          STREET_NAME  \\\n0        N         NaN      0.81     60       MILLSIDE BV SE   \n1      NaN  2018/10/30       NaN     40  DEERFOOT TR SE RAMP   \n2        S  2018/10/23       NaN     60   HARVEST HILLS BV N   \n3        N  2019/10/09      4.37     70      CROWCHILD TR SW   \n4      NaN  2018/10/30       NaN     80    STONEY TR NE RAMP   \n...    ...         ...       ...    ...                  ...   \n1447     S  2018/10/29       NaN     80         STONEY TR NW   \n1448   N/S  2018/10/31       NaN     70             37 ST SW   \n1449     W  2018/11/02       NaN     60     SUN VALLEY BV SE   \n1450     E         NaN      1.85     60       JOHN LAURIE BV   \n1451   NaN  2018/12/06       NaN     60    STONEY TR SE RAMP   \n\n                                              multiline  \n0     MULTILINESTRING ((-114.073657541927 50.9135772...  \n1     MULTILINESTRING ((-114.034764352652 50.9962241...  \n2     MULTILINESTRING ((-114.068566084381 51.1667137...  \n3     MULTILINESTRING ((-114.117825190175 51.0050022...  \n4     MULTILINESTRING ((-113.918850808952 51.0624482...  \n...                                                 ...  \n1447  MULTILINESTRING ((-114.233241861102 51.0915352...  \n1448  MULTILINESTRING ((-114.140309947853 50.9177590...  \n1449  MULTILINESTRING ((-114.030210417675 50.9043134...  \n1450  MULTILINESTRING ((-114.177870798005 51.1241752...  \n1451  MULTILINESTRING ((-113.988645145196 50.8984752...  \n\n[1452 rows x 6 columns]",
      "text/html": "<div>\n<style scoped>\n    .dataframe tbody tr th:only-of-type {\n        vertical-align: middle;\n    }\n\n    .dataframe tbody tr th {\n        vertical-align: top;\n    }\n\n    .dataframe thead th {\n        text-align: right;\n    }\n</style>\n<table border=\"1\" class=\"dataframe\">\n  <thead>\n    <tr style=\"text-align: right;\">\n      <th></th>\n      <th>BOUND</th>\n      <th>CREATED_DT</th>\n      <th>DISTANCE</th>\n      <th>SPEED</th>\n      <th>STREET_NAME</th>\n      <th>multiline</th>\n    </tr>\n  </thead>\n  <tbody>\n    <tr>\n      <th>0</th>\n      <td>N</td>\n      <td>NaN</td>\n      <td>0.81</td>\n      <td>60</td>\n      <td>MILLSIDE BV SE</td>\n      <td>MULTILINESTRING ((-114.073657541927 50.9135772...</td>\n    </tr>\n    <tr>\n      <th>1</th>\n      <td>NaN</td>\n      <td>2018/10/30</td>\n      <td>NaN</td>\n      <td>40</td>\n      <td>DEERFOOT TR SE RAMP</td>\n      <td>MULTILINESTRING ((-114.034764352652 50.9962241...</td>\n    </tr>\n    <tr>\n      <th>2</th>\n      <td>S</td>\n      <td>2018/10/23</td>\n      <td>NaN</td>\n      <td>60</td>\n      <td>HARVEST HILLS BV N</td>\n      <td>MULTILINESTRING ((-114.068566084381 51.1667137...</td>\n    </tr>\n    <tr>\n      <th>3</th>\n      <td>N</td>\n      <td>2019/10/09</td>\n      <td>4.37</td>\n      <td>70</td>\n      <td>CROWCHILD TR SW</td>\n      <td>MULTILINESTRING ((-114.117825190175 51.0050022...</td>\n    </tr>\n    <tr>\n      <th>4</th>\n      <td>NaN</td>\n      <td>2018/10/30</td>\n      <td>NaN</td>\n      <td>80</td>\n      <td>STONEY TR NE RAMP</td>\n      <td>MULTILINESTRING ((-113.918850808952 51.0624482...</td>\n    </tr>\n    <tr>\n      <th>...</th>\n      <td>...</td>\n      <td>...</td>\n      <td>...</td>\n      <td>...</td>\n      <td>...</td>\n      <td>...</td>\n    </tr>\n    <tr>\n      <th>1447</th>\n      <td>S</td>\n      <td>2018/10/29</td>\n      <td>NaN</td>\n      <td>80</td>\n      <td>STONEY TR NW</td>\n      <td>MULTILINESTRING ((-114.233241861102 51.0915352...</td>\n    </tr>\n    <tr>\n      <th>1448</th>\n      <td>N/S</td>\n      <td>2018/10/31</td>\n      <td>NaN</td>\n      <td>70</td>\n      <td>37 ST SW</td>\n      <td>MULTILINESTRING ((-114.140309947853 50.9177590...</td>\n    </tr>\n    <tr>\n      <th>1449</th>\n      <td>W</td>\n      <td>2018/11/02</td>\n      <td>NaN</td>\n      <td>60</td>\n      <td>SUN VALLEY BV SE</td>\n      <td>MULTILINESTRING ((-114.030210417675 50.9043134...</td>\n    </tr>\n    <tr>\n      <th>1450</th>\n      <td>E</td>\n      <td>NaN</td>\n      <td>1.85</td>\n      <td>60</td>\n      <td>JOHN LAURIE BV</td>\n      <td>MULTILINESTRING ((-114.177870798005 51.1241752...</td>\n    </tr>\n    <tr>\n      <th>1451</th>\n      <td>NaN</td>\n      <td>2018/12/06</td>\n      <td>NaN</td>\n      <td>60</td>\n      <td>STONEY TR SE RAMP</td>\n      <td>MULTILINESTRING ((-113.988645145196 50.8984752...</td>\n    </tr>\n  </tbody>\n</table>\n<p>1452 rows × 6 columns</p>\n</div>"
     },
     "metadata": {},
     "execution_count": 21
    }
   ],
   "source": [
    "# filt = speeds_df['SPEED'] == 50\n",
    "# speeds_df.loc[filt]\n",
    "speeds_df"
   ]
  },
  {
   "cell_type": "code",
   "execution_count": 22,
   "metadata": {},
   "outputs": [
    {
     "output_type": "execute_result",
     "data": {
      "text/plain": "                           Camera Location Quadrant  \\\n0         Stoney Trail / Deerfoot Trail SE       SE   \n1             Memorial Drive / 52 Street E       NE   \n2    Crowchild Trail / Shaganappi Trail NW       NW   \n3        Crowchild Trail / Sarcee Trail NW       NW   \n4          Airport Trail / Barlow Trail NE       NE   \n..                                     ...      ...   \n121     Memorial Drive / Edmonton Trail NE       NE   \n122       Glenmore Trail / Barlow Trail SE       SE   \n123       Glenmore Trail / Stoney Trail SE       SE   \n124                 5 Avenue / 5 Street SW       SW   \n125                 9 Avenue / 3 Street SE       SE   \n\n                                  Camera URL   longitude   latitude  \n0     http://trafficcam.calgary.ca/loc86.jpg -113.976606  50.900726  \n1      http://trafficcam.calgary.ca/loc3.jpg -113.955818  51.053253  \n2     http://trafficcam.calgary.ca/loc37.jpg -114.149379  51.098849  \n3    http://trafficcam.calgary.ca/loc126.jpg -114.178204  51.111255  \n4    http://trafficcam.calgary.ca/loc114.jpg -114.001451  51.139352  \n..                                       ...         ...        ...  \n121   http://trafficcam.calgary.ca/loc30.jpg -114.050136  51.050802  \n122   http://trafficcam.calgary.ca/loc98.jpg -113.981495  50.979446  \n123  http://trafficcam.calgary.ca/loc128.jpg -113.929263  50.979635  \n124  http://trafficcam.calgary.ca/loc122.jpg -114.073644  51.048677  \n125   http://trafficcam.calgary.ca/loc91.jpg -114.055664  51.044390  \n\n[126 rows x 5 columns]",
      "text/html": "<div>\n<style scoped>\n    .dataframe tbody tr th:only-of-type {\n        vertical-align: middle;\n    }\n\n    .dataframe tbody tr th {\n        vertical-align: top;\n    }\n\n    .dataframe thead th {\n        text-align: right;\n    }\n</style>\n<table border=\"1\" class=\"dataframe\">\n  <thead>\n    <tr style=\"text-align: right;\">\n      <th></th>\n      <th>Camera Location</th>\n      <th>Quadrant</th>\n      <th>Camera URL</th>\n      <th>longitude</th>\n      <th>latitude</th>\n    </tr>\n  </thead>\n  <tbody>\n    <tr>\n      <th>0</th>\n      <td>Stoney Trail / Deerfoot Trail SE</td>\n      <td>SE</td>\n      <td>http://trafficcam.calgary.ca/loc86.jpg</td>\n      <td>-113.976606</td>\n      <td>50.900726</td>\n    </tr>\n    <tr>\n      <th>1</th>\n      <td>Memorial Drive / 52 Street E</td>\n      <td>NE</td>\n      <td>http://trafficcam.calgary.ca/loc3.jpg</td>\n      <td>-113.955818</td>\n      <td>51.053253</td>\n    </tr>\n    <tr>\n      <th>2</th>\n      <td>Crowchild Trail / Shaganappi Trail NW</td>\n      <td>NW</td>\n      <td>http://trafficcam.calgary.ca/loc37.jpg</td>\n      <td>-114.149379</td>\n      <td>51.098849</td>\n    </tr>\n    <tr>\n      <th>3</th>\n      <td>Crowchild Trail / Sarcee Trail NW</td>\n      <td>NW</td>\n      <td>http://trafficcam.calgary.ca/loc126.jpg</td>\n      <td>-114.178204</td>\n      <td>51.111255</td>\n    </tr>\n    <tr>\n      <th>4</th>\n      <td>Airport Trail / Barlow Trail NE</td>\n      <td>NE</td>\n      <td>http://trafficcam.calgary.ca/loc114.jpg</td>\n      <td>-114.001451</td>\n      <td>51.139352</td>\n    </tr>\n    <tr>\n      <th>...</th>\n      <td>...</td>\n      <td>...</td>\n      <td>...</td>\n      <td>...</td>\n      <td>...</td>\n    </tr>\n    <tr>\n      <th>121</th>\n      <td>Memorial Drive / Edmonton Trail NE</td>\n      <td>NE</td>\n      <td>http://trafficcam.calgary.ca/loc30.jpg</td>\n      <td>-114.050136</td>\n      <td>51.050802</td>\n    </tr>\n    <tr>\n      <th>122</th>\n      <td>Glenmore Trail / Barlow Trail SE</td>\n      <td>SE</td>\n      <td>http://trafficcam.calgary.ca/loc98.jpg</td>\n      <td>-113.981495</td>\n      <td>50.979446</td>\n    </tr>\n    <tr>\n      <th>123</th>\n      <td>Glenmore Trail / Stoney Trail SE</td>\n      <td>SE</td>\n      <td>http://trafficcam.calgary.ca/loc128.jpg</td>\n      <td>-113.929263</td>\n      <td>50.979635</td>\n    </tr>\n    <tr>\n      <th>124</th>\n      <td>5 Avenue / 5 Street SW</td>\n      <td>SW</td>\n      <td>http://trafficcam.calgary.ca/loc122.jpg</td>\n      <td>-114.073644</td>\n      <td>51.048677</td>\n    </tr>\n    <tr>\n      <th>125</th>\n      <td>9 Avenue / 3 Street SE</td>\n      <td>SE</td>\n      <td>http://trafficcam.calgary.ca/loc91.jpg</td>\n      <td>-114.055664</td>\n      <td>51.044390</td>\n    </tr>\n  </tbody>\n</table>\n<p>126 rows × 5 columns</p>\n</div>"
     },
     "metadata": {},
     "execution_count": 22
    }
   ],
   "source": [
    "cameras_df"
   ]
  },
  {
   "cell_type": "code",
   "execution_count": 23,
   "metadata": {},
   "outputs": [
    {
     "output_type": "execute_result",
     "data": {
      "text/plain": "        INSTDATE                FIRSTROAD                         SECONDROAD  \\\n0     1969/04/01          KENSINGTON ROAD                          12 STREET   \n1     2005/02/09  COUNTRY HILLS BOULEVARD           COVENTRY HILLS BOULEVARD   \n2     2000/11/13               McCALL WAY                       PEGASUS ROAD   \n3     1973/01/01                72 AVENUE                      CENTRE STREET   \n4     1957/01/01                 9 AVENUE                15 STREET/17 AVENUE   \n...          ...                      ...                                ...   \n1533  2017/08/03  COUNTRY HILLS BOULEVARD  ROCKY RIDGE RECREATIONAL FACILITY   \n1534  2017/04/12          BRIDLERIDGE WAY                    BRIDLEWOOD ROAD   \n1535  1966/08/01                10 STREET                          23 AVENUE   \n1536  1956/01/01                 5 AVENUE                           1 STREET   \n1537  2017/08/11     SUN VALLEY BOULEVARD                       SUNPARK GATE   \n\n     QUADRANT                       INT_TYPE PEDBUTTONS PED_TIMER  \\\n0          NW               Overhead Flasher        Yes        No   \n1          NE  Traffic signal T intersection        Yes        No   \n2          NE                 Traffic signal        Yes        No   \n3           N                 Traffic signal        Yes        No   \n4          SE                 Traffic signal        Yes        No   \n...       ...                            ...        ...       ...   \n1533       NW  Traffic signal T intersection        Yes        No   \n1534       SW                Pedestrian RRFB        Yes        No   \n1535       NW               Overhead Flasher        Yes        No   \n1536       SE                 Traffic signal         No       Yes   \n1537       SE                 Traffic signal        Yes       Yes   \n\n      ACCESSIBLE PEDESTRIAN SIGNAL   latitude   longitude  \\\n0                              NaN  51.052514 -114.091740   \n1                              NaN  51.154211 -114.052475   \n2                              NaN  51.094081 -114.011478   \n3                              NaN  51.117992 -114.069588   \n4                              NaN  51.037739 -114.025122   \n...                            ...        ...         ...   \n1533                           NaN  51.154147 -114.228956   \n1534                           NaN  50.902069 -114.109199   \n1535                           NaN  51.073213 -114.084589   \n1536                           NaN  51.048341 -114.060387   \n1537                           NaN  50.906049 -114.058065   \n\n                                          Point  Count  \n0     POINT (-114.091739730382 51.052513524679)      1  \n1      POINT (-114.05247454616 51.154210611434)      1  \n2     POINT (-114.011477743314 51.094081325343)      1  \n3      POINT (-114.069587594341 51.11799160169)      1  \n4     POINT (-114.025122275833 51.037738985756)      1  \n...                                         ...    ...  \n1533   POINT (-114.228956047964 51.15414689593)      1  \n1534  POINT (-114.109199438382 50.902068514229)      1  \n1535  POINT (-114.084588882838 51.073213223999)      1  \n1536  POINT (-114.060387455583 51.048340950291)      1  \n1537   POINT (-114.058064969258 50.90604877345)      1  \n\n[1538 rows x 12 columns]",
      "text/html": "<div>\n<style scoped>\n    .dataframe tbody tr th:only-of-type {\n        vertical-align: middle;\n    }\n\n    .dataframe tbody tr th {\n        vertical-align: top;\n    }\n\n    .dataframe thead th {\n        text-align: right;\n    }\n</style>\n<table border=\"1\" class=\"dataframe\">\n  <thead>\n    <tr style=\"text-align: right;\">\n      <th></th>\n      <th>INSTDATE</th>\n      <th>FIRSTROAD</th>\n      <th>SECONDROAD</th>\n      <th>QUADRANT</th>\n      <th>INT_TYPE</th>\n      <th>PEDBUTTONS</th>\n      <th>PED_TIMER</th>\n      <th>ACCESSIBLE PEDESTRIAN SIGNAL</th>\n      <th>latitude</th>\n      <th>longitude</th>\n      <th>Point</th>\n      <th>Count</th>\n    </tr>\n  </thead>\n  <tbody>\n    <tr>\n      <th>0</th>\n      <td>1969/04/01</td>\n      <td>KENSINGTON ROAD</td>\n      <td>12 STREET</td>\n      <td>NW</td>\n      <td>Overhead Flasher</td>\n      <td>Yes</td>\n      <td>No</td>\n      <td>NaN</td>\n      <td>51.052514</td>\n      <td>-114.091740</td>\n      <td>POINT (-114.091739730382 51.052513524679)</td>\n      <td>1</td>\n    </tr>\n    <tr>\n      <th>1</th>\n      <td>2005/02/09</td>\n      <td>COUNTRY HILLS BOULEVARD</td>\n      <td>COVENTRY HILLS BOULEVARD</td>\n      <td>NE</td>\n      <td>Traffic signal T intersection</td>\n      <td>Yes</td>\n      <td>No</td>\n      <td>NaN</td>\n      <td>51.154211</td>\n      <td>-114.052475</td>\n      <td>POINT (-114.05247454616 51.154210611434)</td>\n      <td>1</td>\n    </tr>\n    <tr>\n      <th>2</th>\n      <td>2000/11/13</td>\n      <td>McCALL WAY</td>\n      <td>PEGASUS ROAD</td>\n      <td>NE</td>\n      <td>Traffic signal</td>\n      <td>Yes</td>\n      <td>No</td>\n      <td>NaN</td>\n      <td>51.094081</td>\n      <td>-114.011478</td>\n      <td>POINT (-114.011477743314 51.094081325343)</td>\n      <td>1</td>\n    </tr>\n    <tr>\n      <th>3</th>\n      <td>1973/01/01</td>\n      <td>72 AVENUE</td>\n      <td>CENTRE STREET</td>\n      <td>N</td>\n      <td>Traffic signal</td>\n      <td>Yes</td>\n      <td>No</td>\n      <td>NaN</td>\n      <td>51.117992</td>\n      <td>-114.069588</td>\n      <td>POINT (-114.069587594341 51.11799160169)</td>\n      <td>1</td>\n    </tr>\n    <tr>\n      <th>4</th>\n      <td>1957/01/01</td>\n      <td>9 AVENUE</td>\n      <td>15 STREET/17 AVENUE</td>\n      <td>SE</td>\n      <td>Traffic signal</td>\n      <td>Yes</td>\n      <td>No</td>\n      <td>NaN</td>\n      <td>51.037739</td>\n      <td>-114.025122</td>\n      <td>POINT (-114.025122275833 51.037738985756)</td>\n      <td>1</td>\n    </tr>\n    <tr>\n      <th>...</th>\n      <td>...</td>\n      <td>...</td>\n      <td>...</td>\n      <td>...</td>\n      <td>...</td>\n      <td>...</td>\n      <td>...</td>\n      <td>...</td>\n      <td>...</td>\n      <td>...</td>\n      <td>...</td>\n      <td>...</td>\n    </tr>\n    <tr>\n      <th>1533</th>\n      <td>2017/08/03</td>\n      <td>COUNTRY HILLS BOULEVARD</td>\n      <td>ROCKY RIDGE RECREATIONAL FACILITY</td>\n      <td>NW</td>\n      <td>Traffic signal T intersection</td>\n      <td>Yes</td>\n      <td>No</td>\n      <td>NaN</td>\n      <td>51.154147</td>\n      <td>-114.228956</td>\n      <td>POINT (-114.228956047964 51.15414689593)</td>\n      <td>1</td>\n    </tr>\n    <tr>\n      <th>1534</th>\n      <td>2017/04/12</td>\n      <td>BRIDLERIDGE WAY</td>\n      <td>BRIDLEWOOD ROAD</td>\n      <td>SW</td>\n      <td>Pedestrian RRFB</td>\n      <td>Yes</td>\n      <td>No</td>\n      <td>NaN</td>\n      <td>50.902069</td>\n      <td>-114.109199</td>\n      <td>POINT (-114.109199438382 50.902068514229)</td>\n      <td>1</td>\n    </tr>\n    <tr>\n      <th>1535</th>\n      <td>1966/08/01</td>\n      <td>10 STREET</td>\n      <td>23 AVENUE</td>\n      <td>NW</td>\n      <td>Overhead Flasher</td>\n      <td>Yes</td>\n      <td>No</td>\n      <td>NaN</td>\n      <td>51.073213</td>\n      <td>-114.084589</td>\n      <td>POINT (-114.084588882838 51.073213223999)</td>\n      <td>1</td>\n    </tr>\n    <tr>\n      <th>1536</th>\n      <td>1956/01/01</td>\n      <td>5 AVENUE</td>\n      <td>1 STREET</td>\n      <td>SE</td>\n      <td>Traffic signal</td>\n      <td>No</td>\n      <td>Yes</td>\n      <td>NaN</td>\n      <td>51.048341</td>\n      <td>-114.060387</td>\n      <td>POINT (-114.060387455583 51.048340950291)</td>\n      <td>1</td>\n    </tr>\n    <tr>\n      <th>1537</th>\n      <td>2017/08/11</td>\n      <td>SUN VALLEY BOULEVARD</td>\n      <td>SUNPARK GATE</td>\n      <td>SE</td>\n      <td>Traffic signal</td>\n      <td>Yes</td>\n      <td>Yes</td>\n      <td>NaN</td>\n      <td>50.906049</td>\n      <td>-114.058065</td>\n      <td>POINT (-114.058064969258 50.90604877345)</td>\n      <td>1</td>\n    </tr>\n  </tbody>\n</table>\n<p>1538 rows × 12 columns</p>\n</div>"
     },
     "metadata": {},
     "execution_count": 23
    }
   ],
   "source": [
    "signals_df"
   ]
  },
  {
   "cell_type": "code",
   "execution_count": 24,
   "metadata": {},
   "outputs": [
    {
     "output_type": "execute_result",
     "data": {
      "text/plain": "                  BLADE_TYPE COMMENTS FACING_CD     FLD_SRC_TXT    INSTDATE  \\\n0                 Regulatory      NaN         N             NaN  2007/07/01   \n1       Parking Restrictions      NaN         W             GPS  2016/08/18   \n2              Timed Parking      NaN        NE  Field Estimate         NaN   \n3              Timed Parking      NaN        NE  Field Estimate  2019/01/16   \n4                    Warning      NaN         W  Field Estimate  2018/09/12   \n...                      ...      ...       ...             ...         ...   \n207515           Street Name      NaN         E             GPS  2005/07/01   \n207516            Regulatory      NaN         N  Field Estimate  2015/06/10   \n207517  Parking Restrictions      NaN        SW  Field Estimate  2008/07/03   \n207518           Street Name      NaN     NW/SE             GPS  2004/07/01   \n207519  Parking Restrictions      NaN        NE             NaN  1991/07/02   \n\n              MATERIAL     PL_TY REUSE  SGN_COUNT_NO SGN_STA_CD  ... STA_CD  \\\n0                  NaN       NaN   NaN           1.0          A  ...      A   \n1       High Intensity  SG_40-06   NaN           0.0          R  ...      R   \n2                  NaN  SG_40-05   NaN           4.0          A  ...      R   \n3       High Intensity  SG_40-05   NaN           4.0          A  ...      A   \n4       High Intensity  SG_40-57   NaN           0.0          A  ...      A   \n...                ...       ...   ...           ...        ...  ...    ...   \n207515  High Intensity       NaN   NaN           1.0          A  ...      A   \n207516  High Intensity  SG_40-05   NaN           3.0          A  ...      A   \n207517             NaN  SG_40-06   NaN           3.0          A  ...      A   \n207518  High Intensity  SG_40-99   NaN           2.0          A  ...      A   \n207519  High Intensity  SG_40-06   NaN           1.0          A  ...      A   \n\n        SIZE_CD SUPPORTTYPE        UNITID  TE_SIGNLOCATION_UNITID  \\\n0         60X75         NaN  1.109184e+09              1109082667   \n1         30X30    Signpole  1.110021e+09              1110021182   \n2       SPECIAL    Signpole  1.110202e+09              1109526373   \n3       SPECIAL    Signpole  1.110202e+09              1109286994   \n4           NaN    Signpole  1.110271e+09              1110172249   \n...         ...         ...           ...                     ...   \n207515     30XL       Trunk  1.109144e+09              1109076036   \n207516  SPECIAL    Signpole  1.109942e+09              1109941864   \n207517    30X45    Signpole  1.109276e+09              1109276231   \n207518     15XL    Signpole  1.109230e+09              1109092275   \n207519    30X30    Signpole  1.109195e+09              1109049565   \n\n                                            POINT Ward Boundaries  \\\n0         POINT (-114.210957448601 51.0685668243)             1.0   \n1       POINT (-113.935804152861 50.911165903496)             4.0   \n2        POINT (-114.05423120852 51.042027593481)            14.0   \n3        POINT (-114.053597489366 51.04135079758)            14.0   \n4       POINT (-113.935926247512 50.911341384981)             4.0   \n...                                           ...             ...   \n207515   POINT (-114.089566544877 50.91413523827)             5.0   \n207516  POINT (-114.073475226496 51.050465695905)            14.0   \n207517  POINT (-114.090109343345 51.052801038311)             7.0   \n207518  POINT (-114.053874443342 50.974157960171)            10.0   \n207519  POINT (-114.006688140223 51.073240858843)             9.0   \n\n        City Quadrants  Calgary Communities  Ward Boundaries 2013-2017  \n0                  1.0                128.0                       14.0  \n1                  3.0                 96.0                        8.0  \n2                  3.0                260.0                        5.0  \n3                  3.0                260.0                        5.0  \n4                  3.0                 96.0                        8.0  \n...                ...                  ...                        ...  \n207515             1.0                156.0                        6.0  \n207516             1.0                262.0                        2.0  \n207517             2.0                 40.0                        7.0  \n207518             3.0                174.0                        5.0  \n207519             4.0                106.0                        3.0  \n\n[207520 rows x 21 columns]",
      "text/html": "<div>\n<style scoped>\n    .dataframe tbody tr th:only-of-type {\n        vertical-align: middle;\n    }\n\n    .dataframe tbody tr th {\n        vertical-align: top;\n    }\n\n    .dataframe thead th {\n        text-align: right;\n    }\n</style>\n<table border=\"1\" class=\"dataframe\">\n  <thead>\n    <tr style=\"text-align: right;\">\n      <th></th>\n      <th>BLADE_TYPE</th>\n      <th>COMMENTS</th>\n      <th>FACING_CD</th>\n      <th>FLD_SRC_TXT</th>\n      <th>INSTDATE</th>\n      <th>MATERIAL</th>\n      <th>PL_TY</th>\n      <th>REUSE</th>\n      <th>SGN_COUNT_NO</th>\n      <th>SGN_STA_CD</th>\n      <th>...</th>\n      <th>STA_CD</th>\n      <th>SIZE_CD</th>\n      <th>SUPPORTTYPE</th>\n      <th>UNITID</th>\n      <th>TE_SIGNLOCATION_UNITID</th>\n      <th>POINT</th>\n      <th>Ward Boundaries</th>\n      <th>City Quadrants</th>\n      <th>Calgary Communities</th>\n      <th>Ward Boundaries 2013-2017</th>\n    </tr>\n  </thead>\n  <tbody>\n    <tr>\n      <th>0</th>\n      <td>Regulatory</td>\n      <td>NaN</td>\n      <td>N</td>\n      <td>NaN</td>\n      <td>2007/07/01</td>\n      <td>NaN</td>\n      <td>NaN</td>\n      <td>NaN</td>\n      <td>1.0</td>\n      <td>A</td>\n      <td>...</td>\n      <td>A</td>\n      <td>60X75</td>\n      <td>NaN</td>\n      <td>1.109184e+09</td>\n      <td>1109082667</td>\n      <td>POINT (-114.210957448601 51.0685668243)</td>\n      <td>1.0</td>\n      <td>1.0</td>\n      <td>128.0</td>\n      <td>14.0</td>\n    </tr>\n    <tr>\n      <th>1</th>\n      <td>Parking Restrictions</td>\n      <td>NaN</td>\n      <td>W</td>\n      <td>GPS</td>\n      <td>2016/08/18</td>\n      <td>High Intensity</td>\n      <td>SG_40-06</td>\n      <td>NaN</td>\n      <td>0.0</td>\n      <td>R</td>\n      <td>...</td>\n      <td>R</td>\n      <td>30X30</td>\n      <td>Signpole</td>\n      <td>1.110021e+09</td>\n      <td>1110021182</td>\n      <td>POINT (-113.935804152861 50.911165903496)</td>\n      <td>4.0</td>\n      <td>3.0</td>\n      <td>96.0</td>\n      <td>8.0</td>\n    </tr>\n    <tr>\n      <th>2</th>\n      <td>Timed Parking</td>\n      <td>NaN</td>\n      <td>NE</td>\n      <td>Field Estimate</td>\n      <td>NaN</td>\n      <td>NaN</td>\n      <td>SG_40-05</td>\n      <td>NaN</td>\n      <td>4.0</td>\n      <td>A</td>\n      <td>...</td>\n      <td>R</td>\n      <td>SPECIAL</td>\n      <td>Signpole</td>\n      <td>1.110202e+09</td>\n      <td>1109526373</td>\n      <td>POINT (-114.05423120852 51.042027593481)</td>\n      <td>14.0</td>\n      <td>3.0</td>\n      <td>260.0</td>\n      <td>5.0</td>\n    </tr>\n    <tr>\n      <th>3</th>\n      <td>Timed Parking</td>\n      <td>NaN</td>\n      <td>NE</td>\n      <td>Field Estimate</td>\n      <td>2019/01/16</td>\n      <td>High Intensity</td>\n      <td>SG_40-05</td>\n      <td>NaN</td>\n      <td>4.0</td>\n      <td>A</td>\n      <td>...</td>\n      <td>A</td>\n      <td>SPECIAL</td>\n      <td>Signpole</td>\n      <td>1.110202e+09</td>\n      <td>1109286994</td>\n      <td>POINT (-114.053597489366 51.04135079758)</td>\n      <td>14.0</td>\n      <td>3.0</td>\n      <td>260.0</td>\n      <td>5.0</td>\n    </tr>\n    <tr>\n      <th>4</th>\n      <td>Warning</td>\n      <td>NaN</td>\n      <td>W</td>\n      <td>Field Estimate</td>\n      <td>2018/09/12</td>\n      <td>High Intensity</td>\n      <td>SG_40-57</td>\n      <td>NaN</td>\n      <td>0.0</td>\n      <td>A</td>\n      <td>...</td>\n      <td>A</td>\n      <td>NaN</td>\n      <td>Signpole</td>\n      <td>1.110271e+09</td>\n      <td>1110172249</td>\n      <td>POINT (-113.935926247512 50.911341384981)</td>\n      <td>4.0</td>\n      <td>3.0</td>\n      <td>96.0</td>\n      <td>8.0</td>\n    </tr>\n    <tr>\n      <th>...</th>\n      <td>...</td>\n      <td>...</td>\n      <td>...</td>\n      <td>...</td>\n      <td>...</td>\n      <td>...</td>\n      <td>...</td>\n      <td>...</td>\n      <td>...</td>\n      <td>...</td>\n      <td>...</td>\n      <td>...</td>\n      <td>...</td>\n      <td>...</td>\n      <td>...</td>\n      <td>...</td>\n      <td>...</td>\n      <td>...</td>\n      <td>...</td>\n      <td>...</td>\n      <td>...</td>\n    </tr>\n    <tr>\n      <th>207515</th>\n      <td>Street Name</td>\n      <td>NaN</td>\n      <td>E</td>\n      <td>GPS</td>\n      <td>2005/07/01</td>\n      <td>High Intensity</td>\n      <td>NaN</td>\n      <td>NaN</td>\n      <td>1.0</td>\n      <td>A</td>\n      <td>...</td>\n      <td>A</td>\n      <td>30XL</td>\n      <td>Trunk</td>\n      <td>1.109144e+09</td>\n      <td>1109076036</td>\n      <td>POINT (-114.089566544877 50.91413523827)</td>\n      <td>5.0</td>\n      <td>1.0</td>\n      <td>156.0</td>\n      <td>6.0</td>\n    </tr>\n    <tr>\n      <th>207516</th>\n      <td>Regulatory</td>\n      <td>NaN</td>\n      <td>N</td>\n      <td>Field Estimate</td>\n      <td>2015/06/10</td>\n      <td>High Intensity</td>\n      <td>SG_40-05</td>\n      <td>NaN</td>\n      <td>3.0</td>\n      <td>A</td>\n      <td>...</td>\n      <td>A</td>\n      <td>SPECIAL</td>\n      <td>Signpole</td>\n      <td>1.109942e+09</td>\n      <td>1109941864</td>\n      <td>POINT (-114.073475226496 51.050465695905)</td>\n      <td>14.0</td>\n      <td>1.0</td>\n      <td>262.0</td>\n      <td>2.0</td>\n    </tr>\n    <tr>\n      <th>207517</th>\n      <td>Parking Restrictions</td>\n      <td>NaN</td>\n      <td>SW</td>\n      <td>Field Estimate</td>\n      <td>2008/07/03</td>\n      <td>NaN</td>\n      <td>SG_40-06</td>\n      <td>NaN</td>\n      <td>3.0</td>\n      <td>A</td>\n      <td>...</td>\n      <td>A</td>\n      <td>30X45</td>\n      <td>Signpole</td>\n      <td>1.109276e+09</td>\n      <td>1109276231</td>\n      <td>POINT (-114.090109343345 51.052801038311)</td>\n      <td>7.0</td>\n      <td>2.0</td>\n      <td>40.0</td>\n      <td>7.0</td>\n    </tr>\n    <tr>\n      <th>207518</th>\n      <td>Street Name</td>\n      <td>NaN</td>\n      <td>NW/SE</td>\n      <td>GPS</td>\n      <td>2004/07/01</td>\n      <td>High Intensity</td>\n      <td>SG_40-99</td>\n      <td>NaN</td>\n      <td>2.0</td>\n      <td>A</td>\n      <td>...</td>\n      <td>A</td>\n      <td>15XL</td>\n      <td>Signpole</td>\n      <td>1.109230e+09</td>\n      <td>1109092275</td>\n      <td>POINT (-114.053874443342 50.974157960171)</td>\n      <td>10.0</td>\n      <td>3.0</td>\n      <td>174.0</td>\n      <td>5.0</td>\n    </tr>\n    <tr>\n      <th>207519</th>\n      <td>Parking Restrictions</td>\n      <td>NaN</td>\n      <td>NE</td>\n      <td>NaN</td>\n      <td>1991/07/02</td>\n      <td>High Intensity</td>\n      <td>SG_40-06</td>\n      <td>NaN</td>\n      <td>1.0</td>\n      <td>A</td>\n      <td>...</td>\n      <td>A</td>\n      <td>30X30</td>\n      <td>Signpole</td>\n      <td>1.109195e+09</td>\n      <td>1109049565</td>\n      <td>POINT (-114.006688140223 51.073240858843)</td>\n      <td>9.0</td>\n      <td>4.0</td>\n      <td>106.0</td>\n      <td>3.0</td>\n    </tr>\n  </tbody>\n</table>\n<p>207520 rows × 21 columns</p>\n</div>"
     },
     "metadata": {},
     "execution_count": 24
    }
   ],
   "source": [
    "signs_df"
   ]
  },
  {
   "cell_type": "code",
   "execution_count": 13,
   "metadata": {
    "tags": []
   },
   "outputs": [
    {
     "output_type": "display_data",
     "data": {
      "text/plain": "                           Camera Location Quadrant  \\\n0         Stoney Trail / Deerfoot Trail SE       SE   \n1             Memorial Drive / 52 Street E       NE   \n2    Crowchild Trail / Shaganappi Trail NW       NW   \n3        Crowchild Trail / Sarcee Trail NW       NW   \n4          Airport Trail / Barlow Trail NE       NE   \n..                                     ...      ...   \n121     Memorial Drive / Edmonton Trail NE       NE   \n122       Glenmore Trail / Barlow Trail SE       SE   \n123       Glenmore Trail / Stoney Trail SE       SE   \n124                 5 Avenue / 5 Street SW       SW   \n125                 9 Avenue / 3 Street SE       SE   \n\n                                  Camera URL   longitude   latitude  \\\n0     http://trafficcam.calgary.ca/loc86.jpg -113.976606  50.900726   \n1      http://trafficcam.calgary.ca/loc3.jpg -113.955818  51.053253   \n2     http://trafficcam.calgary.ca/loc37.jpg -114.149379  51.098849   \n3    http://trafficcam.calgary.ca/loc126.jpg -114.178204  51.111255   \n4    http://trafficcam.calgary.ca/loc114.jpg -114.001451  51.139352   \n..                                       ...         ...        ...   \n121   http://trafficcam.calgary.ca/loc30.jpg -114.050136  51.050802   \n122   http://trafficcam.calgary.ca/loc98.jpg -113.981495  50.979446   \n123  http://trafficcam.calgary.ca/loc128.jpg -113.929263  50.979635   \n124  http://trafficcam.calgary.ca/loc122.jpg -114.073644  51.048677   \n125   http://trafficcam.calgary.ca/loc91.jpg -114.055664  51.044390   \n\n                                                 Point  \n0    {'type': 'Point', 'coordinates': [50.900726, -...  \n1    {'type': 'Point', 'coordinates': [51.053253, -...  \n2    {'type': 'Point', 'coordinates': [51.098849, -...  \n3    {'type': 'Point', 'coordinates': [51.111255, -...  \n4    {'type': 'Point', 'coordinates': [51.139352, -...  \n..                                                 ...  \n121  {'type': 'Point', 'coordinates': [51.050802, -...  \n122  {'type': 'Point', 'coordinates': [50.979446, -...  \n123  {'type': 'Point', 'coordinates': [50.979635, -...  \n124  {'type': 'Point', 'coordinates': [51.048677, -...  \n125  {'type': 'Point', 'coordinates': [51.04439, -1...  \n\n[126 rows x 6 columns]",
      "text/html": "<div>\n<style scoped>\n    .dataframe tbody tr th:only-of-type {\n        vertical-align: middle;\n    }\n\n    .dataframe tbody tr th {\n        vertical-align: top;\n    }\n\n    .dataframe thead th {\n        text-align: right;\n    }\n</style>\n<table border=\"1\" class=\"dataframe\">\n  <thead>\n    <tr style=\"text-align: right;\">\n      <th></th>\n      <th>Camera Location</th>\n      <th>Quadrant</th>\n      <th>Camera URL</th>\n      <th>longitude</th>\n      <th>latitude</th>\n      <th>Point</th>\n    </tr>\n  </thead>\n  <tbody>\n    <tr>\n      <th>0</th>\n      <td>Stoney Trail / Deerfoot Trail SE</td>\n      <td>SE</td>\n      <td>http://trafficcam.calgary.ca/loc86.jpg</td>\n      <td>-113.976606</td>\n      <td>50.900726</td>\n      <td>{'type': 'Point', 'coordinates': [50.900726, -...</td>\n    </tr>\n    <tr>\n      <th>1</th>\n      <td>Memorial Drive / 52 Street E</td>\n      <td>NE</td>\n      <td>http://trafficcam.calgary.ca/loc3.jpg</td>\n      <td>-113.955818</td>\n      <td>51.053253</td>\n      <td>{'type': 'Point', 'coordinates': [51.053253, -...</td>\n    </tr>\n    <tr>\n      <th>2</th>\n      <td>Crowchild Trail / Shaganappi Trail NW</td>\n      <td>NW</td>\n      <td>http://trafficcam.calgary.ca/loc37.jpg</td>\n      <td>-114.149379</td>\n      <td>51.098849</td>\n      <td>{'type': 'Point', 'coordinates': [51.098849, -...</td>\n    </tr>\n    <tr>\n      <th>3</th>\n      <td>Crowchild Trail / Sarcee Trail NW</td>\n      <td>NW</td>\n      <td>http://trafficcam.calgary.ca/loc126.jpg</td>\n      <td>-114.178204</td>\n      <td>51.111255</td>\n      <td>{'type': 'Point', 'coordinates': [51.111255, -...</td>\n    </tr>\n    <tr>\n      <th>4</th>\n      <td>Airport Trail / Barlow Trail NE</td>\n      <td>NE</td>\n      <td>http://trafficcam.calgary.ca/loc114.jpg</td>\n      <td>-114.001451</td>\n      <td>51.139352</td>\n      <td>{'type': 'Point', 'coordinates': [51.139352, -...</td>\n    </tr>\n    <tr>\n      <th>...</th>\n      <td>...</td>\n      <td>...</td>\n      <td>...</td>\n      <td>...</td>\n      <td>...</td>\n      <td>...</td>\n    </tr>\n    <tr>\n      <th>121</th>\n      <td>Memorial Drive / Edmonton Trail NE</td>\n      <td>NE</td>\n      <td>http://trafficcam.calgary.ca/loc30.jpg</td>\n      <td>-114.050136</td>\n      <td>51.050802</td>\n      <td>{'type': 'Point', 'coordinates': [51.050802, -...</td>\n    </tr>\n    <tr>\n      <th>122</th>\n      <td>Glenmore Trail / Barlow Trail SE</td>\n      <td>SE</td>\n      <td>http://trafficcam.calgary.ca/loc98.jpg</td>\n      <td>-113.981495</td>\n      <td>50.979446</td>\n      <td>{'type': 'Point', 'coordinates': [50.979446, -...</td>\n    </tr>\n    <tr>\n      <th>123</th>\n      <td>Glenmore Trail / Stoney Trail SE</td>\n      <td>SE</td>\n      <td>http://trafficcam.calgary.ca/loc128.jpg</td>\n      <td>-113.929263</td>\n      <td>50.979635</td>\n      <td>{'type': 'Point', 'coordinates': [50.979635, -...</td>\n    </tr>\n    <tr>\n      <th>124</th>\n      <td>5 Avenue / 5 Street SW</td>\n      <td>SW</td>\n      <td>http://trafficcam.calgary.ca/loc122.jpg</td>\n      <td>-114.073644</td>\n      <td>51.048677</td>\n      <td>{'type': 'Point', 'coordinates': [51.048677, -...</td>\n    </tr>\n    <tr>\n      <th>125</th>\n      <td>9 Avenue / 3 Street SE</td>\n      <td>SE</td>\n      <td>http://trafficcam.calgary.ca/loc91.jpg</td>\n      <td>-114.055664</td>\n      <td>51.044390</td>\n      <td>{'type': 'Point', 'coordinates': [51.04439, -1...</td>\n    </tr>\n  </tbody>\n</table>\n<p>126 rows × 6 columns</p>\n</div>"
     },
     "metadata": {}
    }
   ],
   "source": [
    "\n",
    "def clean_multi_line(s: str, flip = True):\n",
    "    '''\n",
    "    get coordinates from string data and convert to geojson multiline string object \n",
    "    '''\n",
    "    cleaned = list(map(float,re.findall(r'[\\-?\\d\\.?]+', s)))\n",
    "    if flip:\n",
    "        cleaned = flip_coords(cleaned)\n",
    "    return MultiLineString(cleaned)\n",
    "\n",
    "def flip_coords(coords):\n",
    "    flipped = []\n",
    "    lats = [] \n",
    "    lons = []\n",
    "    i = 0\n",
    "    while i < len(coords):\n",
    "        if i % 2 == 0: \n",
    "            lons.append(coords[i])\n",
    "        else:  \n",
    "            lats.append(coords[i])\n",
    "        i+=1\n",
    "    flipped = list(zip(lats,lons))\n",
    "    return flipped\n",
    "\n",
    "def clean_point_coords(s: str, flip=True): \n",
    "    cleaned = list(map(float,re.findall(r'[\\-\\d\\.?]+', s)))\n",
    "    # print(cleaned)\n",
    "    if flip:\n",
    "        cleaned = flip_coords(cleaned)\n",
    "        cleaned = [cleaned[0][0], cleaned[0][1]]\n",
    "    return Point(cleaned)\n",
    "\n",
    "    \n",
    "\n",
    "# display(signals_df['Point'].apply(lambda x: clean_point_coords(x)))\n",
    "# # display(signs_df['POINT'].apply(lambda x: clean_point_coords(x)))\n",
    "# display(incidents_df['location'].apply(lambda x: clean_point_coords(x, flip=False)))\n",
    "\n",
    "# display(volumes_df['multilinestring'].apply(lambda x: clean_multi_line(x)))\n",
    "# display(speeds_df['multiline'].apply(lambda x: clean_multi_line(x)))\n",
    "cameras_df['Point'] = list(zip(cameras_df['latitude'], cameras_df['longitude']))\n",
    "cameras_df['Point'] = cameras_df['Point'].apply(lambda x: Point(x))\n",
    "display(cameras_df)\n",
    "\n"
   ]
  },
  {
   "cell_type": "code",
   "execution_count": 15,
   "metadata": {
    "tags": []
   },
   "outputs": [
    {
     "output_type": "stream",
     "name": "stdout",
     "text": "[51.212425, -113.859905] [50.842822, -114.315796]\n"
    },
    {
     "output_type": "display_data",
     "data": {
      "text/plain": "[51.068567, -114.210957]"
     },
     "metadata": {}
    },
    {
     "output_type": "display_data",
     "data": {
      "text/plain": "                  BLADE_TYPE COMMENTS FACING_CD     FLD_SRC_TXT    INSTDATE  \\\n0                 Regulatory      NaN         N             NaN  2007/07/01   \n1       Parking Restrictions      NaN         W             GPS  2016/08/18   \n2              Timed Parking      NaN        NE  Field Estimate         NaN   \n3              Timed Parking      NaN        NE  Field Estimate  2019/01/16   \n4                    Warning      NaN         W  Field Estimate  2018/09/12   \n...                      ...      ...       ...             ...         ...   \n207515           Street Name      NaN         E             GPS  2005/07/01   \n207516            Regulatory      NaN         N  Field Estimate  2015/06/10   \n207517  Parking Restrictions      NaN        SW  Field Estimate  2008/07/03   \n207518           Street Name      NaN     NW/SE             GPS  2004/07/01   \n207519  Parking Restrictions      NaN        NE             NaN  1991/07/02   \n\n              MATERIAL     PL_TY REUSE  SGN_COUNT_NO SGN_STA_CD  ...  SIZE_CD  \\\n0                  NaN       NaN   NaN           1.0          A  ...    60X75   \n1       High Intensity  SG_40-06   NaN           0.0          R  ...    30X30   \n2                  NaN  SG_40-05   NaN           4.0          A  ...  SPECIAL   \n3       High Intensity  SG_40-05   NaN           4.0          A  ...  SPECIAL   \n4       High Intensity  SG_40-57   NaN           0.0          A  ...      NaN   \n...                ...       ...   ...           ...        ...  ...      ...   \n207515  High Intensity       NaN   NaN           1.0          A  ...     30XL   \n207516  High Intensity  SG_40-05   NaN           3.0          A  ...  SPECIAL   \n207517             NaN  SG_40-06   NaN           3.0          A  ...    30X45   \n207518  High Intensity  SG_40-99   NaN           2.0          A  ...     15XL   \n207519  High Intensity  SG_40-06   NaN           1.0          A  ...    30X30   \n\n       SUPPORTTYPE        UNITID TE_SIGNLOCATION_UNITID  \\\n0              NaN  1.109184e+09             1109082667   \n1         Signpole  1.110021e+09             1110021182   \n2         Signpole  1.110202e+09             1109526373   \n3         Signpole  1.110202e+09             1109286994   \n4         Signpole  1.110271e+09             1110172249   \n...            ...           ...                    ...   \n207515       Trunk  1.109144e+09             1109076036   \n207516    Signpole  1.109942e+09             1109941864   \n207517    Signpole  1.109276e+09             1109276231   \n207518    Signpole  1.109230e+09             1109092275   \n207519    Signpole  1.109195e+09             1109049565   \n\n                                                    POINT  Ward Boundaries  \\\n0       {'type': 'Point', 'coordinates': [51.068567, -...              1.0   \n1       {'type': 'Point', 'coordinates': [50.911166, -...              4.0   \n2       {'type': 'Point', 'coordinates': [51.042028, -...             14.0   \n3       {'type': 'Point', 'coordinates': [51.041351, -...             14.0   \n4       {'type': 'Point', 'coordinates': [50.911341, -...              4.0   \n...                                                   ...              ...   \n207515  {'type': 'Point', 'coordinates': [50.914135, -...              5.0   \n207516  {'type': 'Point', 'coordinates': [51.050466, -...             14.0   \n207517  {'type': 'Point', 'coordinates': [51.052801, -...              7.0   \n207518  {'type': 'Point', 'coordinates': [50.974158, -...             10.0   \n207519  {'type': 'Point', 'coordinates': [51.073241, -...              9.0   \n\n       City Quadrants  Calgary Communities  Ward Boundaries 2013-2017  cell  \n0                 1.0                128.0                       14.0    62  \n1                 3.0                 96.0                        8.0    18  \n2                 3.0                260.0                        5.0    55  \n3                 3.0                260.0                        5.0    55  \n4                 3.0                 96.0                        8.0    18  \n...               ...                  ...                        ...   ...  \n207515            1.0                156.0                        6.0    14  \n207516            1.0                262.0                        2.0    55  \n207517            2.0                 40.0                        7.0    54  \n207518            3.0                174.0                        5.0    35  \n207519            4.0                106.0                        3.0    66  \n\n[207520 rows x 22 columns]",
      "text/html": "<div>\n<style scoped>\n    .dataframe tbody tr th:only-of-type {\n        vertical-align: middle;\n    }\n\n    .dataframe tbody tr th {\n        vertical-align: top;\n    }\n\n    .dataframe thead th {\n        text-align: right;\n    }\n</style>\n<table border=\"1\" class=\"dataframe\">\n  <thead>\n    <tr style=\"text-align: right;\">\n      <th></th>\n      <th>BLADE_TYPE</th>\n      <th>COMMENTS</th>\n      <th>FACING_CD</th>\n      <th>FLD_SRC_TXT</th>\n      <th>INSTDATE</th>\n      <th>MATERIAL</th>\n      <th>PL_TY</th>\n      <th>REUSE</th>\n      <th>SGN_COUNT_NO</th>\n      <th>SGN_STA_CD</th>\n      <th>...</th>\n      <th>SIZE_CD</th>\n      <th>SUPPORTTYPE</th>\n      <th>UNITID</th>\n      <th>TE_SIGNLOCATION_UNITID</th>\n      <th>POINT</th>\n      <th>Ward Boundaries</th>\n      <th>City Quadrants</th>\n      <th>Calgary Communities</th>\n      <th>Ward Boundaries 2013-2017</th>\n      <th>cell</th>\n    </tr>\n  </thead>\n  <tbody>\n    <tr>\n      <th>0</th>\n      <td>Regulatory</td>\n      <td>NaN</td>\n      <td>N</td>\n      <td>NaN</td>\n      <td>2007/07/01</td>\n      <td>NaN</td>\n      <td>NaN</td>\n      <td>NaN</td>\n      <td>1.0</td>\n      <td>A</td>\n      <td>...</td>\n      <td>60X75</td>\n      <td>NaN</td>\n      <td>1.109184e+09</td>\n      <td>1109082667</td>\n      <td>{'type': 'Point', 'coordinates': [51.068567, -...</td>\n      <td>1.0</td>\n      <td>1.0</td>\n      <td>128.0</td>\n      <td>14.0</td>\n      <td>62</td>\n    </tr>\n    <tr>\n      <th>1</th>\n      <td>Parking Restrictions</td>\n      <td>NaN</td>\n      <td>W</td>\n      <td>GPS</td>\n      <td>2016/08/18</td>\n      <td>High Intensity</td>\n      <td>SG_40-06</td>\n      <td>NaN</td>\n      <td>0.0</td>\n      <td>R</td>\n      <td>...</td>\n      <td>30X30</td>\n      <td>Signpole</td>\n      <td>1.110021e+09</td>\n      <td>1110021182</td>\n      <td>{'type': 'Point', 'coordinates': [50.911166, -...</td>\n      <td>4.0</td>\n      <td>3.0</td>\n      <td>96.0</td>\n      <td>8.0</td>\n      <td>18</td>\n    </tr>\n    <tr>\n      <th>2</th>\n      <td>Timed Parking</td>\n      <td>NaN</td>\n      <td>NE</td>\n      <td>Field Estimate</td>\n      <td>NaN</td>\n      <td>NaN</td>\n      <td>SG_40-05</td>\n      <td>NaN</td>\n      <td>4.0</td>\n      <td>A</td>\n      <td>...</td>\n      <td>SPECIAL</td>\n      <td>Signpole</td>\n      <td>1.110202e+09</td>\n      <td>1109526373</td>\n      <td>{'type': 'Point', 'coordinates': [51.042028, -...</td>\n      <td>14.0</td>\n      <td>3.0</td>\n      <td>260.0</td>\n      <td>5.0</td>\n      <td>55</td>\n    </tr>\n    <tr>\n      <th>3</th>\n      <td>Timed Parking</td>\n      <td>NaN</td>\n      <td>NE</td>\n      <td>Field Estimate</td>\n      <td>2019/01/16</td>\n      <td>High Intensity</td>\n      <td>SG_40-05</td>\n      <td>NaN</td>\n      <td>4.0</td>\n      <td>A</td>\n      <td>...</td>\n      <td>SPECIAL</td>\n      <td>Signpole</td>\n      <td>1.110202e+09</td>\n      <td>1109286994</td>\n      <td>{'type': 'Point', 'coordinates': [51.041351, -...</td>\n      <td>14.0</td>\n      <td>3.0</td>\n      <td>260.0</td>\n      <td>5.0</td>\n      <td>55</td>\n    </tr>\n    <tr>\n      <th>4</th>\n      <td>Warning</td>\n      <td>NaN</td>\n      <td>W</td>\n      <td>Field Estimate</td>\n      <td>2018/09/12</td>\n      <td>High Intensity</td>\n      <td>SG_40-57</td>\n      <td>NaN</td>\n      <td>0.0</td>\n      <td>A</td>\n      <td>...</td>\n      <td>NaN</td>\n      <td>Signpole</td>\n      <td>1.110271e+09</td>\n      <td>1110172249</td>\n      <td>{'type': 'Point', 'coordinates': [50.911341, -...</td>\n      <td>4.0</td>\n      <td>3.0</td>\n      <td>96.0</td>\n      <td>8.0</td>\n      <td>18</td>\n    </tr>\n    <tr>\n      <th>...</th>\n      <td>...</td>\n      <td>...</td>\n      <td>...</td>\n      <td>...</td>\n      <td>...</td>\n      <td>...</td>\n      <td>...</td>\n      <td>...</td>\n      <td>...</td>\n      <td>...</td>\n      <td>...</td>\n      <td>...</td>\n      <td>...</td>\n      <td>...</td>\n      <td>...</td>\n      <td>...</td>\n      <td>...</td>\n      <td>...</td>\n      <td>...</td>\n      <td>...</td>\n      <td>...</td>\n    </tr>\n    <tr>\n      <th>207515</th>\n      <td>Street Name</td>\n      <td>NaN</td>\n      <td>E</td>\n      <td>GPS</td>\n      <td>2005/07/01</td>\n      <td>High Intensity</td>\n      <td>NaN</td>\n      <td>NaN</td>\n      <td>1.0</td>\n      <td>A</td>\n      <td>...</td>\n      <td>30XL</td>\n      <td>Trunk</td>\n      <td>1.109144e+09</td>\n      <td>1109076036</td>\n      <td>{'type': 'Point', 'coordinates': [50.914135, -...</td>\n      <td>5.0</td>\n      <td>1.0</td>\n      <td>156.0</td>\n      <td>6.0</td>\n      <td>14</td>\n    </tr>\n    <tr>\n      <th>207516</th>\n      <td>Regulatory</td>\n      <td>NaN</td>\n      <td>N</td>\n      <td>Field Estimate</td>\n      <td>2015/06/10</td>\n      <td>High Intensity</td>\n      <td>SG_40-05</td>\n      <td>NaN</td>\n      <td>3.0</td>\n      <td>A</td>\n      <td>...</td>\n      <td>SPECIAL</td>\n      <td>Signpole</td>\n      <td>1.109942e+09</td>\n      <td>1109941864</td>\n      <td>{'type': 'Point', 'coordinates': [51.050466, -...</td>\n      <td>14.0</td>\n      <td>1.0</td>\n      <td>262.0</td>\n      <td>2.0</td>\n      <td>55</td>\n    </tr>\n    <tr>\n      <th>207517</th>\n      <td>Parking Restrictions</td>\n      <td>NaN</td>\n      <td>SW</td>\n      <td>Field Estimate</td>\n      <td>2008/07/03</td>\n      <td>NaN</td>\n      <td>SG_40-06</td>\n      <td>NaN</td>\n      <td>3.0</td>\n      <td>A</td>\n      <td>...</td>\n      <td>30X45</td>\n      <td>Signpole</td>\n      <td>1.109276e+09</td>\n      <td>1109276231</td>\n      <td>{'type': 'Point', 'coordinates': [51.052801, -...</td>\n      <td>7.0</td>\n      <td>2.0</td>\n      <td>40.0</td>\n      <td>7.0</td>\n      <td>54</td>\n    </tr>\n    <tr>\n      <th>207518</th>\n      <td>Street Name</td>\n      <td>NaN</td>\n      <td>NW/SE</td>\n      <td>GPS</td>\n      <td>2004/07/01</td>\n      <td>High Intensity</td>\n      <td>SG_40-99</td>\n      <td>NaN</td>\n      <td>2.0</td>\n      <td>A</td>\n      <td>...</td>\n      <td>15XL</td>\n      <td>Signpole</td>\n      <td>1.109230e+09</td>\n      <td>1109092275</td>\n      <td>{'type': 'Point', 'coordinates': [50.974158, -...</td>\n      <td>10.0</td>\n      <td>3.0</td>\n      <td>174.0</td>\n      <td>5.0</td>\n      <td>35</td>\n    </tr>\n    <tr>\n      <th>207519</th>\n      <td>Parking Restrictions</td>\n      <td>NaN</td>\n      <td>NE</td>\n      <td>NaN</td>\n      <td>1991/07/02</td>\n      <td>High Intensity</td>\n      <td>SG_40-06</td>\n      <td>NaN</td>\n      <td>1.0</td>\n      <td>A</td>\n      <td>...</td>\n      <td>30X30</td>\n      <td>Signpole</td>\n      <td>1.109195e+09</td>\n      <td>1109049565</td>\n      <td>{'type': 'Point', 'coordinates': [51.073241, -...</td>\n      <td>9.0</td>\n      <td>4.0</td>\n      <td>106.0</td>\n      <td>3.0</td>\n      <td>66</td>\n    </tr>\n  </tbody>\n</table>\n<p>207520 rows × 22 columns</p>\n</div>"
     },
     "metadata": {}
    }
   ],
   "source": [
    "yyc_map = pd.read_csv('City_Boundary_layer.csv')\n",
    "geom = yyc_map.the_geom[0]\n",
    "geom = MultiLineString(clean_multi_line(geom, True))\n",
    "\n",
    "ne = [float('-inf'), float('-inf')]\n",
    "sw = [float('+inf'), float('+inf')]\n",
    "\n",
    "for point in geom['coordinates']:\n",
    "    if point[0] > ne[0]:\n",
    "        ne[0] = point[0] \n",
    "    if point[1] > ne[1]:\n",
    "        ne[1] = point[1]\n",
    "    if point[0] < sw[0]:\n",
    "        sw[0] = point[0]\n",
    "    if point[1] < sw[1]:\n",
    "        sw[1] = point[1]\n",
    "\n",
    "print(ne, sw)\n",
    "    \n",
    "def get_cells_df():\n",
    "    cols = np.linspace(sw[1], ne[1], num = 11)\n",
    "    rows = np.linspace(sw[0], ne[0], num = 11)\n",
    "    points = []\n",
    "    for col in cols: \n",
    "        for row in rows: \n",
    "            points.append([row, col])\n",
    "    cells = []\n",
    "    cell_bounds=[]\n",
    "    cell_idx = 0\n",
    "    for idx_y, row in enumerate(rows):\n",
    "        if idx_y == 10:\n",
    "            break\n",
    "        for idx_x, col in enumerate(cols):\n",
    "            if idx_x == 10:\n",
    "                break\n",
    "            bottom_left = [rows[idx_y], cols[idx_x]]\n",
    "            top_right = [rows[idx_y+1], cols[idx_x+1]]\n",
    "            cell_bounds.append([bottom_left, top_right])\n",
    "            cells.append(folium.Rectangle(bounds=[bottom_left, top_right], tooltip=f'Cell: {cell_idx}'))\n",
    "            cell_idx+=1\n",
    "    \n",
    "    cells_df = pd.DataFrame({'cells': cells, 'cell_bounds': cell_bounds})\n",
    "\n",
    "    return cells_df\n",
    "\n",
    "\n",
    "width, height = 960, 600\n",
    "\n",
    "cells_df = get_cells_df()\n",
    "# display(cells_df)\n",
    "\n",
    "# cells_test = cells_df\n",
    "# cells_test['cells'] = cells_test['cell_bounds'].apply(lambda x: folium.Rectangle(bounds=x, tooltip=\"Cool Man\"))\n",
    "\n",
    "m = folium.Map(location = ne, width = width, height = height, toFront= True)\n",
    "\n",
    "\n",
    "for cell in cells_df['cells']:\n",
    "    cell.add_to(m)\n",
    "\n",
    "rect = folium.Rectangle(bounds=[ne, sw], weight=2, dash_array=(\"4\"), color='red', tooltip = 'Analysis Boundary').add_to(m)\n",
    "\n",
    "m.save('index.html')\n",
    "\n",
    "speeds_test_df = speeds_df\n",
    "\n",
    "signs_test_df = signs_df\n",
    "\n",
    "## TODO: UNCOMMMENT BELOW LINE ON NEW KERNAL RUN\n",
    "signs_test_df['POINT'] = signs_df['POINT'].apply(lambda x: clean_point_coords(x))\n",
    "display(signs_test_df['POINT'].iloc[0]['coordinates'])\n",
    "\n",
    "def place_in_cell(geom):\n",
    "    if isinstance(geom, Point):\n",
    "        # print(geom)\n",
    "        lat = geom['coordinates'][0]\n",
    "        lon = geom['coordinates'][1]\n",
    "        for idx, cell in cells_df['cell_bounds'].items():\n",
    "            sw = cell[0]\n",
    "            ne = cell[1]\n",
    "            if (lat >= sw[0]) and (lat<ne[0]) and (lon>=sw[1]) and (lon<ne[1]):\n",
    "                # print(f'HIT! {lat}, {lon} is in cell {idx} with bounds {sw, ne}')\n",
    "                return idx\n",
    "        return -1\n",
    "\n",
    "    elif isinstance(geom, MultiLineString):\n",
    "        cell_counts = {}\n",
    "        for point in geom['coordinates']:\n",
    "            lat = point[0]\n",
    "            lon = point[1]\n",
    "            for idx, cell in cells_df['cell_bounds'].items():\n",
    "                sw = cell[0]\n",
    "                ne = cell[1]\n",
    "                if (lat >= sw[0]) and (lat<ne[0]) and (lon>=sw[1]) and (lon<ne[1]):\n",
    "                    cell_counts[idx] = cell_counts.get(idx,0)+1\n",
    "        return cell_counts         \n",
    "\n",
    "signs_test_df['cell'] = signs_test_df['POINT'].apply(lambda x: place_in_cell(x))\n",
    "display(signs_test_df)\n",
    "\n",
    "\n"
   ]
  },
  {
   "cell_type": "code",
   "execution_count": 16,
   "metadata": {},
   "outputs": [
    {
     "output_type": "execute_result",
     "data": {
      "text/plain": "                                                cells  \\\n0   <folium.vector_layers.Rectangle object at 0x7f...   \n1   <folium.vector_layers.Rectangle object at 0x7f...   \n2   <folium.vector_layers.Rectangle object at 0x7f...   \n3   <folium.vector_layers.Rectangle object at 0x7f...   \n4   <folium.vector_layers.Rectangle object at 0x7f...   \n..                                                ...   \n95  <folium.vector_layers.Rectangle object at 0x7f...   \n96  <folium.vector_layers.Rectangle object at 0x7f...   \n97  <folium.vector_layers.Rectangle object at 0x7f...   \n98  <folium.vector_layers.Rectangle object at 0x7f...   \n99  <folium.vector_layers.Rectangle object at 0x7f...   \n\n                                          cell_bounds  \n0   [[50.842822, -114.315796], [50.8797823, -114.2...  \n1   [[50.842822, -114.2702069], [50.8797823, -114....  \n2   [[50.842822, -114.2246178], [50.8797823, -114....  \n3   [[50.842822, -114.1790287], [50.8797823, -114....  \n4   [[50.842822, -114.1334396], [50.8797823, -114....  \n..                                                ...  \n95  [[51.175464700000006, -114.0878505], [51.21242...  \n96  [[51.175464700000006, -114.0422614], [51.21242...  \n97  [[51.175464700000006, -113.9966723], [51.21242...  \n98  [[51.175464700000006, -113.9510832], [51.21242...  \n99  [[51.175464700000006, -113.9054941], [51.21242...  \n\n[100 rows x 2 columns]",
      "text/html": "<div>\n<style scoped>\n    .dataframe tbody tr th:only-of-type {\n        vertical-align: middle;\n    }\n\n    .dataframe tbody tr th {\n        vertical-align: top;\n    }\n\n    .dataframe thead th {\n        text-align: right;\n    }\n</style>\n<table border=\"1\" class=\"dataframe\">\n  <thead>\n    <tr style=\"text-align: right;\">\n      <th></th>\n      <th>cells</th>\n      <th>cell_bounds</th>\n    </tr>\n  </thead>\n  <tbody>\n    <tr>\n      <th>0</th>\n      <td>&lt;folium.vector_layers.Rectangle object at 0x7f...</td>\n      <td>[[50.842822, -114.315796], [50.8797823, -114.2...</td>\n    </tr>\n    <tr>\n      <th>1</th>\n      <td>&lt;folium.vector_layers.Rectangle object at 0x7f...</td>\n      <td>[[50.842822, -114.2702069], [50.8797823, -114....</td>\n    </tr>\n    <tr>\n      <th>2</th>\n      <td>&lt;folium.vector_layers.Rectangle object at 0x7f...</td>\n      <td>[[50.842822, -114.2246178], [50.8797823, -114....</td>\n    </tr>\n    <tr>\n      <th>3</th>\n      <td>&lt;folium.vector_layers.Rectangle object at 0x7f...</td>\n      <td>[[50.842822, -114.1790287], [50.8797823, -114....</td>\n    </tr>\n    <tr>\n      <th>4</th>\n      <td>&lt;folium.vector_layers.Rectangle object at 0x7f...</td>\n      <td>[[50.842822, -114.1334396], [50.8797823, -114....</td>\n    </tr>\n    <tr>\n      <th>...</th>\n      <td>...</td>\n      <td>...</td>\n    </tr>\n    <tr>\n      <th>95</th>\n      <td>&lt;folium.vector_layers.Rectangle object at 0x7f...</td>\n      <td>[[51.175464700000006, -114.0878505], [51.21242...</td>\n    </tr>\n    <tr>\n      <th>96</th>\n      <td>&lt;folium.vector_layers.Rectangle object at 0x7f...</td>\n      <td>[[51.175464700000006, -114.0422614], [51.21242...</td>\n    </tr>\n    <tr>\n      <th>97</th>\n      <td>&lt;folium.vector_layers.Rectangle object at 0x7f...</td>\n      <td>[[51.175464700000006, -113.9966723], [51.21242...</td>\n    </tr>\n    <tr>\n      <th>98</th>\n      <td>&lt;folium.vector_layers.Rectangle object at 0x7f...</td>\n      <td>[[51.175464700000006, -113.9510832], [51.21242...</td>\n    </tr>\n    <tr>\n      <th>99</th>\n      <td>&lt;folium.vector_layers.Rectangle object at 0x7f...</td>\n      <td>[[51.175464700000006, -113.9054941], [51.21242...</td>\n    </tr>\n  </tbody>\n</table>\n<p>100 rows × 2 columns</p>\n</div>"
     },
     "metadata": {},
     "execution_count": 16
    }
   ],
   "source": [
    "cells_df"
   ]
  },
  {
   "cell_type": "code",
   "execution_count": 27,
   "metadata": {
    "tags": []
   },
   "outputs": [
    {
     "output_type": "stream",
     "name": "stdout",
     "text": "running\n"
    },
    {
     "output_type": "error",
     "ename": "KeyError",
     "evalue": "'cell'",
     "traceback": [
      "\u001b[0;31m---------------------------------------------------------------------------\u001b[0m",
      "\u001b[0;31mKeyError\u001b[0m                                  Traceback (most recent call last)",
      "\u001b[0;32m<ipython-input-27-1313a33f7737>\u001b[0m in \u001b[0;36m<module>\u001b[0;34m\u001b[0m\n\u001b[1;32m     22\u001b[0m \u001b[0mplot_signs\u001b[0m \u001b[0;34m=\u001b[0m \u001b[0msigns_test_df\u001b[0m\u001b[0;34m.\u001b[0m\u001b[0mloc\u001b[0m\u001b[0;34m[\u001b[0m\u001b[0mfilt\u001b[0m\u001b[0;34m]\u001b[0m\u001b[0;34m\u001b[0m\u001b[0;34m\u001b[0m\u001b[0m\n\u001b[1;32m     23\u001b[0m \u001b[0;34m\u001b[0m\u001b[0m\n\u001b[0;32m---> 24\u001b[0;31m \u001b[0mcell_groups\u001b[0m \u001b[0;34m=\u001b[0m \u001b[0msigns_test_df\u001b[0m\u001b[0;34m.\u001b[0m\u001b[0mgroupby\u001b[0m\u001b[0;34m(\u001b[0m\u001b[0mby\u001b[0m\u001b[0;34m=\u001b[0m\u001b[0;34m'cell'\u001b[0m\u001b[0;34m,\u001b[0m \u001b[0mas_index\u001b[0m\u001b[0;34m=\u001b[0m\u001b[0;32mTrue\u001b[0m\u001b[0;34m,\u001b[0m \u001b[0msort\u001b[0m\u001b[0;34m=\u001b[0m\u001b[0;32mTrue\u001b[0m\u001b[0;34m)\u001b[0m\u001b[0;34m\u001b[0m\u001b[0;34m\u001b[0m\u001b[0m\n\u001b[0m\u001b[1;32m     25\u001b[0m \u001b[0;34m\u001b[0m\u001b[0m\n\u001b[1;32m     26\u001b[0m \u001b[0mdisplay\u001b[0m\u001b[0;34m(\u001b[0m\u001b[0mcell_groups\u001b[0m\u001b[0;34m[\u001b[0m\u001b[0;34m'BLADE_TYPE'\u001b[0m\u001b[0;34m]\u001b[0m\u001b[0;34m.\u001b[0m\u001b[0magg\u001b[0m\u001b[0;34m(\u001b[0m\u001b[0;34m'count'\u001b[0m\u001b[0;34m)\u001b[0m\u001b[0;34m.\u001b[0m\u001b[0msort_values\u001b[0m\u001b[0;34m(\u001b[0m\u001b[0mascending\u001b[0m\u001b[0;34m=\u001b[0m\u001b[0;32mFalse\u001b[0m\u001b[0;34m)\u001b[0m\u001b[0;34m.\u001b[0m\u001b[0mhead\u001b[0m\u001b[0;34m(\u001b[0m\u001b[0;36m10\u001b[0m\u001b[0;34m)\u001b[0m\u001b[0;34m)\u001b[0m\u001b[0;34m\u001b[0m\u001b[0;34m\u001b[0m\u001b[0m\n",
      "\u001b[0;32m~/miniconda3/lib/python3.7/site-packages/pandas/core/frame.py\u001b[0m in \u001b[0;36mgroupby\u001b[0;34m(self, by, axis, level, as_index, sort, group_keys, squeeze, observed)\u001b[0m\n\u001b[1;32m   5808\u001b[0m             \u001b[0mgroup_keys\u001b[0m\u001b[0;34m=\u001b[0m\u001b[0mgroup_keys\u001b[0m\u001b[0;34m,\u001b[0m\u001b[0;34m\u001b[0m\u001b[0;34m\u001b[0m\u001b[0m\n\u001b[1;32m   5809\u001b[0m             \u001b[0msqueeze\u001b[0m\u001b[0;34m=\u001b[0m\u001b[0msqueeze\u001b[0m\u001b[0;34m,\u001b[0m\u001b[0;34m\u001b[0m\u001b[0;34m\u001b[0m\u001b[0m\n\u001b[0;32m-> 5810\u001b[0;31m             \u001b[0mobserved\u001b[0m\u001b[0;34m=\u001b[0m\u001b[0mobserved\u001b[0m\u001b[0;34m,\u001b[0m\u001b[0;34m\u001b[0m\u001b[0;34m\u001b[0m\u001b[0m\n\u001b[0m\u001b[1;32m   5811\u001b[0m         )\n\u001b[1;32m   5812\u001b[0m \u001b[0;34m\u001b[0m\u001b[0m\n",
      "\u001b[0;32m~/miniconda3/lib/python3.7/site-packages/pandas/core/groupby/groupby.py\u001b[0m in \u001b[0;36m__init__\u001b[0;34m(self, obj, keys, axis, level, grouper, exclusions, selection, as_index, sort, group_keys, squeeze, observed, mutated)\u001b[0m\n\u001b[1;32m    408\u001b[0m                 \u001b[0msort\u001b[0m\u001b[0;34m=\u001b[0m\u001b[0msort\u001b[0m\u001b[0;34m,\u001b[0m\u001b[0;34m\u001b[0m\u001b[0;34m\u001b[0m\u001b[0m\n\u001b[1;32m    409\u001b[0m                 \u001b[0mobserved\u001b[0m\u001b[0;34m=\u001b[0m\u001b[0mobserved\u001b[0m\u001b[0;34m,\u001b[0m\u001b[0;34m\u001b[0m\u001b[0;34m\u001b[0m\u001b[0m\n\u001b[0;32m--> 410\u001b[0;31m                 \u001b[0mmutated\u001b[0m\u001b[0;34m=\u001b[0m\u001b[0mself\u001b[0m\u001b[0;34m.\u001b[0m\u001b[0mmutated\u001b[0m\u001b[0;34m,\u001b[0m\u001b[0;34m\u001b[0m\u001b[0;34m\u001b[0m\u001b[0m\n\u001b[0m\u001b[1;32m    411\u001b[0m             )\n\u001b[1;32m    412\u001b[0m \u001b[0;34m\u001b[0m\u001b[0m\n",
      "\u001b[0;32m~/miniconda3/lib/python3.7/site-packages/pandas/core/groupby/grouper.py\u001b[0m in \u001b[0;36mget_grouper\u001b[0;34m(obj, key, axis, level, sort, observed, mutated, validate)\u001b[0m\n\u001b[1;32m    598\u001b[0m                 \u001b[0min_axis\u001b[0m\u001b[0;34m,\u001b[0m \u001b[0mname\u001b[0m\u001b[0;34m,\u001b[0m \u001b[0mlevel\u001b[0m\u001b[0;34m,\u001b[0m \u001b[0mgpr\u001b[0m \u001b[0;34m=\u001b[0m \u001b[0;32mFalse\u001b[0m\u001b[0;34m,\u001b[0m \u001b[0;32mNone\u001b[0m\u001b[0;34m,\u001b[0m \u001b[0mgpr\u001b[0m\u001b[0;34m,\u001b[0m \u001b[0;32mNone\u001b[0m\u001b[0;34m\u001b[0m\u001b[0;34m\u001b[0m\u001b[0m\n\u001b[1;32m    599\u001b[0m             \u001b[0;32melse\u001b[0m\u001b[0;34m:\u001b[0m\u001b[0;34m\u001b[0m\u001b[0;34m\u001b[0m\u001b[0m\n\u001b[0;32m--> 600\u001b[0;31m                 \u001b[0;32mraise\u001b[0m \u001b[0mKeyError\u001b[0m\u001b[0;34m(\u001b[0m\u001b[0mgpr\u001b[0m\u001b[0;34m)\u001b[0m\u001b[0;34m\u001b[0m\u001b[0;34m\u001b[0m\u001b[0m\n\u001b[0m\u001b[1;32m    601\u001b[0m         \u001b[0;32melif\u001b[0m \u001b[0misinstance\u001b[0m\u001b[0;34m(\u001b[0m\u001b[0mgpr\u001b[0m\u001b[0;34m,\u001b[0m \u001b[0mGrouper\u001b[0m\u001b[0;34m)\u001b[0m \u001b[0;32mand\u001b[0m \u001b[0mgpr\u001b[0m\u001b[0;34m.\u001b[0m\u001b[0mkey\u001b[0m \u001b[0;32mis\u001b[0m \u001b[0;32mnot\u001b[0m \u001b[0;32mNone\u001b[0m\u001b[0;34m:\u001b[0m\u001b[0;34m\u001b[0m\u001b[0;34m\u001b[0m\u001b[0m\n\u001b[1;32m    602\u001b[0m             \u001b[0;31m# Add key to exclusions\u001b[0m\u001b[0;34m\u001b[0m\u001b[0;34m\u001b[0m\u001b[0;34m\u001b[0m\u001b[0m\n",
      "\u001b[0;31mKeyError\u001b[0m: 'cell'"
     ]
    }
   ],
   "source": [
    "# point = signs_test_df['POINT'].iloc[0]['coordinates']\n",
    "print('running')\n",
    "\n",
    "def plot_markers(df, location, tip_col, mapa):\n",
    "    for idx, row in df.iterrows():\n",
    "        coords = row[location]['coordinates'][0]\n",
    "        tooltip = f'Cell: {row[\"cell\"]}, Type: {row[tip_col]}'\n",
    "        # print(coords, tooltip)\n",
    "\n",
    "        folium.Marker(coords, tooltip=tooltip).add_to(mapa)\n",
    "\n",
    "# # /['Regulatory' 'Parking Restrictions' 'Timed Parking' 'Warning' 'Park Plus'\n",
    "# #  'Pedestrian' 'Street Name' 'Yield' 'Stop' 'Snow Route'\n",
    "# #  'Guide / Information' nan 'Bicycle / Pathway' 'Disabled Parking'\n",
    "# #  'Loading Zone' 'Playground' 'Residential Parking' 'Overhead Guide'\n",
    "# #  'Speed' 'Hospital' 'School' 'Halo']\n",
    "\n",
    "signs_of_interest = ['Pedestrian', 'Yield', 'Stop', 'Speed', 'Bicycle / Pathway']\n",
    "\n",
    "filt = signs_test_df['BLADE_TYPE'].isin(signs_of_interest)\n",
    "\n",
    "plot_signs = signs_test_df.loc[filt]\n",
    "\n",
    "cell_groups = signs_test_df.groupby(by='cell', as_index=True, sort=True)\n",
    "\n",
    "display(cell_groups['BLADE_TYPE'].agg('count').sort_values(ascending=False).head(10))\n",
    "\n",
    "sns.distplot(signs_test_df['cell'], kde = False)\n",
    "\n",
    "\n",
    "\n",
    "# display(cell_groups.get_group(-1)['POINT'])\n",
    "\n",
    "# display(cell_groups.get_group(-1))\n",
    "\n",
    "# plot_markers(cell_groups.get_group(-1),'POINT', m)\n",
    "    \n",
    "# plot_markers(plot_signs[['cell', 'POINT', 'BLADE_TYPE']], 'POINT', m)\n",
    "m.save('index.html')\n",
    "\n",
    "\n",
    "\n",
    "\n"
   ]
  },
  {
   "cell_type": "code",
   "execution_count": 28,
   "metadata": {
    "tags": []
   },
   "outputs": [
    {
     "output_type": "error",
     "ename": "NameError",
     "evalue": "name 'place_in_cell' is not defined",
     "traceback": [
      "\u001b[0;31m---------------------------------------------------------------------------\u001b[0m",
      "\u001b[0;31mNameError\u001b[0m                                 Traceback (most recent call last)",
      "\u001b[0;32m<ipython-input-28-60c6c00736a1>\u001b[0m in \u001b[0;36m<module>\u001b[0;34m\u001b[0m\n\u001b[1;32m      7\u001b[0m \u001b[0;31m# display(signals_test_df['Point'].iloc[0])\u001b[0m\u001b[0;34m\u001b[0m\u001b[0;34m\u001b[0m\u001b[0;34m\u001b[0m\u001b[0m\n\u001b[1;32m      8\u001b[0m \u001b[0;34m\u001b[0m\u001b[0m\n\u001b[0;32m----> 9\u001b[0;31m \u001b[0msignals_test_df\u001b[0m\u001b[0;34m[\u001b[0m\u001b[0;34m'cell'\u001b[0m\u001b[0;34m]\u001b[0m \u001b[0;34m=\u001b[0m \u001b[0msignals_test_df\u001b[0m\u001b[0;34m[\u001b[0m\u001b[0;34m'Point'\u001b[0m\u001b[0;34m]\u001b[0m\u001b[0;34m.\u001b[0m\u001b[0mapply\u001b[0m\u001b[0;34m(\u001b[0m\u001b[0;32mlambda\u001b[0m \u001b[0mx\u001b[0m\u001b[0;34m:\u001b[0m \u001b[0mplace_in_cell\u001b[0m\u001b[0;34m(\u001b[0m\u001b[0mx\u001b[0m\u001b[0;34m)\u001b[0m\u001b[0;34m)\u001b[0m\u001b[0;34m\u001b[0m\u001b[0;34m\u001b[0m\u001b[0m\n\u001b[0m\u001b[1;32m     10\u001b[0m \u001b[0mdisplay\u001b[0m\u001b[0;34m(\u001b[0m\u001b[0msignals_test_df\u001b[0m\u001b[0;34m)\u001b[0m\u001b[0;34m\u001b[0m\u001b[0;34m\u001b[0m\u001b[0m\n\u001b[1;32m     11\u001b[0m \u001b[0;34m\u001b[0m\u001b[0m\n",
      "\u001b[0;32m~/miniconda3/lib/python3.7/site-packages/pandas/core/series.py\u001b[0m in \u001b[0;36mapply\u001b[0;34m(self, func, convert_dtype, args, **kwds)\u001b[0m\n\u001b[1;32m   3846\u001b[0m             \u001b[0;32melse\u001b[0m\u001b[0;34m:\u001b[0m\u001b[0;34m\u001b[0m\u001b[0;34m\u001b[0m\u001b[0m\n\u001b[1;32m   3847\u001b[0m                 \u001b[0mvalues\u001b[0m \u001b[0;34m=\u001b[0m \u001b[0mself\u001b[0m\u001b[0;34m.\u001b[0m\u001b[0mastype\u001b[0m\u001b[0;34m(\u001b[0m\u001b[0mobject\u001b[0m\u001b[0;34m)\u001b[0m\u001b[0;34m.\u001b[0m\u001b[0mvalues\u001b[0m\u001b[0;34m\u001b[0m\u001b[0;34m\u001b[0m\u001b[0m\n\u001b[0;32m-> 3848\u001b[0;31m                 \u001b[0mmapped\u001b[0m \u001b[0;34m=\u001b[0m \u001b[0mlib\u001b[0m\u001b[0;34m.\u001b[0m\u001b[0mmap_infer\u001b[0m\u001b[0;34m(\u001b[0m\u001b[0mvalues\u001b[0m\u001b[0;34m,\u001b[0m \u001b[0mf\u001b[0m\u001b[0;34m,\u001b[0m \u001b[0mconvert\u001b[0m\u001b[0;34m=\u001b[0m\u001b[0mconvert_dtype\u001b[0m\u001b[0;34m)\u001b[0m\u001b[0;34m\u001b[0m\u001b[0;34m\u001b[0m\u001b[0m\n\u001b[0m\u001b[1;32m   3849\u001b[0m \u001b[0;34m\u001b[0m\u001b[0m\n\u001b[1;32m   3850\u001b[0m         \u001b[0;32mif\u001b[0m \u001b[0mlen\u001b[0m\u001b[0;34m(\u001b[0m\u001b[0mmapped\u001b[0m\u001b[0;34m)\u001b[0m \u001b[0;32mand\u001b[0m \u001b[0misinstance\u001b[0m\u001b[0;34m(\u001b[0m\u001b[0mmapped\u001b[0m\u001b[0;34m[\u001b[0m\u001b[0;36m0\u001b[0m\u001b[0;34m]\u001b[0m\u001b[0;34m,\u001b[0m \u001b[0mSeries\u001b[0m\u001b[0;34m)\u001b[0m\u001b[0;34m:\u001b[0m\u001b[0;34m\u001b[0m\u001b[0;34m\u001b[0m\u001b[0m\n",
      "\u001b[0;32mpandas/_libs/lib.pyx\u001b[0m in \u001b[0;36mpandas._libs.lib.map_infer\u001b[0;34m()\u001b[0m\n",
      "\u001b[0;32m<ipython-input-28-60c6c00736a1>\u001b[0m in \u001b[0;36m<lambda>\u001b[0;34m(x)\u001b[0m\n\u001b[1;32m      7\u001b[0m \u001b[0;31m# display(signals_test_df['Point'].iloc[0])\u001b[0m\u001b[0;34m\u001b[0m\u001b[0;34m\u001b[0m\u001b[0;34m\u001b[0m\u001b[0m\n\u001b[1;32m      8\u001b[0m \u001b[0;34m\u001b[0m\u001b[0m\n\u001b[0;32m----> 9\u001b[0;31m \u001b[0msignals_test_df\u001b[0m\u001b[0;34m[\u001b[0m\u001b[0;34m'cell'\u001b[0m\u001b[0;34m]\u001b[0m \u001b[0;34m=\u001b[0m \u001b[0msignals_test_df\u001b[0m\u001b[0;34m[\u001b[0m\u001b[0;34m'Point'\u001b[0m\u001b[0;34m]\u001b[0m\u001b[0;34m.\u001b[0m\u001b[0mapply\u001b[0m\u001b[0;34m(\u001b[0m\u001b[0;32mlambda\u001b[0m \u001b[0mx\u001b[0m\u001b[0;34m:\u001b[0m \u001b[0mplace_in_cell\u001b[0m\u001b[0;34m(\u001b[0m\u001b[0mx\u001b[0m\u001b[0;34m)\u001b[0m\u001b[0;34m)\u001b[0m\u001b[0;34m\u001b[0m\u001b[0;34m\u001b[0m\u001b[0m\n\u001b[0m\u001b[1;32m     10\u001b[0m \u001b[0mdisplay\u001b[0m\u001b[0;34m(\u001b[0m\u001b[0msignals_test_df\u001b[0m\u001b[0;34m)\u001b[0m\u001b[0;34m\u001b[0m\u001b[0;34m\u001b[0m\u001b[0m\n\u001b[1;32m     11\u001b[0m \u001b[0;34m\u001b[0m\u001b[0m\n",
      "\u001b[0;31mNameError\u001b[0m: name 'place_in_cell' is not defined"
     ]
    }
   ],
   "source": [
    "signals_test_df= signals_df\n",
    "\n",
    "# signals_test_df['Point'] = signals_test_df['Point'].apply(lambda x: clean_point_coords(x))\n",
    "\n",
    "# display(signals_test_df)\n",
    "\n",
    "# display(signals_test_df['Point'].iloc[0])\n",
    "\n",
    "signals_test_df['cell'] = signals_test_df['Point'].apply(lambda x: place_in_cell(x))\n",
    "display(signals_test_df)\n",
    "\n",
    "\n",
    "# plot_markers(signals_test_df,'Point', 'INT_TYPE', m)\n",
    "# m.save('index.html')\n",
    "\n",
    "plot=sns.distplot(signals_test_df['cell'], kde = False)\n",
    "plt.show(plot)\n",
    "\n",
    "cell_groups = signals_test_df.groupby(by='cell', as_index=True, sort=True)\n",
    "\n",
    "display(cell_groups.agg('count').sort_values(by='INT_TYPE', ascending=False).head(10))\n",
    "\n"
   ]
  },
  {
   "cell_type": "code",
   "execution_count": 29,
   "metadata": {
    "tags": []
   },
   "outputs": [
    {
     "output_type": "error",
     "ename": "NameError",
     "evalue": "name 'place_in_cell' is not defined",
     "traceback": [
      "\u001b[0;31m---------------------------------------------------------------------------\u001b[0m",
      "\u001b[0;31mNameError\u001b[0m                                 Traceback (most recent call last)",
      "\u001b[0;32m<ipython-input-29-215d7d71d4ff>\u001b[0m in \u001b[0;36m<module>\u001b[0;34m\u001b[0m\n\u001b[1;32m      8\u001b[0m \u001b[0;34m\u001b[0m\u001b[0m\n\u001b[1;32m      9\u001b[0m \u001b[0;34m\u001b[0m\u001b[0m\n\u001b[0;32m---> 10\u001b[0;31m \u001b[0mcameras_test_df\u001b[0m\u001b[0;34m[\u001b[0m\u001b[0;34m'cell'\u001b[0m\u001b[0;34m]\u001b[0m \u001b[0;34m=\u001b[0m \u001b[0mcameras_test_df\u001b[0m\u001b[0;34m[\u001b[0m\u001b[0;34m'Point'\u001b[0m\u001b[0;34m]\u001b[0m\u001b[0;34m.\u001b[0m\u001b[0mapply\u001b[0m\u001b[0;34m(\u001b[0m\u001b[0;32mlambda\u001b[0m \u001b[0mx\u001b[0m\u001b[0;34m:\u001b[0m \u001b[0mplace_in_cell\u001b[0m\u001b[0;34m(\u001b[0m\u001b[0mx\u001b[0m\u001b[0;34m)\u001b[0m\u001b[0;34m)\u001b[0m\u001b[0;34m\u001b[0m\u001b[0;34m\u001b[0m\u001b[0m\n\u001b[0m\u001b[1;32m     11\u001b[0m \u001b[0;34m\u001b[0m\u001b[0m\n\u001b[1;32m     12\u001b[0m \u001b[0;31m# display(cameras_test_df)\u001b[0m\u001b[0;34m\u001b[0m\u001b[0;34m\u001b[0m\u001b[0;34m\u001b[0m\u001b[0m\n",
      "\u001b[0;32m~/miniconda3/lib/python3.7/site-packages/pandas/core/series.py\u001b[0m in \u001b[0;36mapply\u001b[0;34m(self, func, convert_dtype, args, **kwds)\u001b[0m\n\u001b[1;32m   3846\u001b[0m             \u001b[0;32melse\u001b[0m\u001b[0;34m:\u001b[0m\u001b[0;34m\u001b[0m\u001b[0;34m\u001b[0m\u001b[0m\n\u001b[1;32m   3847\u001b[0m                 \u001b[0mvalues\u001b[0m \u001b[0;34m=\u001b[0m \u001b[0mself\u001b[0m\u001b[0;34m.\u001b[0m\u001b[0mastype\u001b[0m\u001b[0;34m(\u001b[0m\u001b[0mobject\u001b[0m\u001b[0;34m)\u001b[0m\u001b[0;34m.\u001b[0m\u001b[0mvalues\u001b[0m\u001b[0;34m\u001b[0m\u001b[0;34m\u001b[0m\u001b[0m\n\u001b[0;32m-> 3848\u001b[0;31m                 \u001b[0mmapped\u001b[0m \u001b[0;34m=\u001b[0m \u001b[0mlib\u001b[0m\u001b[0;34m.\u001b[0m\u001b[0mmap_infer\u001b[0m\u001b[0;34m(\u001b[0m\u001b[0mvalues\u001b[0m\u001b[0;34m,\u001b[0m \u001b[0mf\u001b[0m\u001b[0;34m,\u001b[0m \u001b[0mconvert\u001b[0m\u001b[0;34m=\u001b[0m\u001b[0mconvert_dtype\u001b[0m\u001b[0;34m)\u001b[0m\u001b[0;34m\u001b[0m\u001b[0;34m\u001b[0m\u001b[0m\n\u001b[0m\u001b[1;32m   3849\u001b[0m \u001b[0;34m\u001b[0m\u001b[0m\n\u001b[1;32m   3850\u001b[0m         \u001b[0;32mif\u001b[0m \u001b[0mlen\u001b[0m\u001b[0;34m(\u001b[0m\u001b[0mmapped\u001b[0m\u001b[0;34m)\u001b[0m \u001b[0;32mand\u001b[0m \u001b[0misinstance\u001b[0m\u001b[0;34m(\u001b[0m\u001b[0mmapped\u001b[0m\u001b[0;34m[\u001b[0m\u001b[0;36m0\u001b[0m\u001b[0;34m]\u001b[0m\u001b[0;34m,\u001b[0m \u001b[0mSeries\u001b[0m\u001b[0;34m)\u001b[0m\u001b[0;34m:\u001b[0m\u001b[0;34m\u001b[0m\u001b[0;34m\u001b[0m\u001b[0m\n",
      "\u001b[0;32mpandas/_libs/lib.pyx\u001b[0m in \u001b[0;36mpandas._libs.lib.map_infer\u001b[0;34m()\u001b[0m\n",
      "\u001b[0;32m<ipython-input-29-215d7d71d4ff>\u001b[0m in \u001b[0;36m<lambda>\u001b[0;34m(x)\u001b[0m\n\u001b[1;32m      8\u001b[0m \u001b[0;34m\u001b[0m\u001b[0m\n\u001b[1;32m      9\u001b[0m \u001b[0;34m\u001b[0m\u001b[0m\n\u001b[0;32m---> 10\u001b[0;31m \u001b[0mcameras_test_df\u001b[0m\u001b[0;34m[\u001b[0m\u001b[0;34m'cell'\u001b[0m\u001b[0;34m]\u001b[0m \u001b[0;34m=\u001b[0m \u001b[0mcameras_test_df\u001b[0m\u001b[0;34m[\u001b[0m\u001b[0;34m'Point'\u001b[0m\u001b[0;34m]\u001b[0m\u001b[0;34m.\u001b[0m\u001b[0mapply\u001b[0m\u001b[0;34m(\u001b[0m\u001b[0;32mlambda\u001b[0m \u001b[0mx\u001b[0m\u001b[0;34m:\u001b[0m \u001b[0mplace_in_cell\u001b[0m\u001b[0;34m(\u001b[0m\u001b[0mx\u001b[0m\u001b[0;34m)\u001b[0m\u001b[0;34m)\u001b[0m\u001b[0;34m\u001b[0m\u001b[0;34m\u001b[0m\u001b[0m\n\u001b[0m\u001b[1;32m     11\u001b[0m \u001b[0;34m\u001b[0m\u001b[0m\n\u001b[1;32m     12\u001b[0m \u001b[0;31m# display(cameras_test_df)\u001b[0m\u001b[0;34m\u001b[0m\u001b[0;34m\u001b[0m\u001b[0;34m\u001b[0m\u001b[0m\n",
      "\u001b[0;31mNameError\u001b[0m: name 'place_in_cell' is not defined"
     ]
    }
   ],
   "source": [
    "cameras_df\n",
    "\n",
    "cameras_test_df = cameras_df\n",
    "\n",
    "#NOTE: CAMERAS DF ALREADY IN POINT FORM\n",
    "# cameras_test_df['cell'] = cameras_test_df['Point'].apply(lambda x: clean_point_coords(x))\n",
    "\n",
    "\n",
    "\n",
    "cameras_test_df['cell'] = cameras_test_df['Point'].apply(lambda x: place_in_cell(x))\n",
    "\n",
    "# display(cameras_test_df)\n",
    "# display(cameras_test_df['Point'].iloc[0]['coordinates'][0]\n",
    "\n",
    "camera_groups = cameras_test_df.groupby(by ='cell', as_index = True)\n",
    "\n",
    "display(camera_groups['Camera Location'].count().sort_values(ascending=False))\n",
    "\n",
    "\n",
    "plot=sns.distplot(cameras_test_df['cell'], kde = False)\n",
    "plt.show(plot)\n"
   ]
  },
  {
   "cell_type": "code",
   "execution_count": 30,
   "metadata": {
    "tags": []
   },
   "outputs": [
    {
     "output_type": "error",
     "ename": "NameError",
     "evalue": "name 'place_in_cell' is not defined",
     "traceback": [
      "\u001b[0;31m---------------------------------------------------------------------------\u001b[0m",
      "\u001b[0;31mNameError\u001b[0m                                 Traceback (most recent call last)",
      "\u001b[0;32m<ipython-input-30-c308013191d8>\u001b[0m in \u001b[0;36m<module>\u001b[0;34m\u001b[0m\n\u001b[1;32m      1\u001b[0m \u001b[0mspeeds_df_test\u001b[0m \u001b[0;34m=\u001b[0m \u001b[0mspeeds_df\u001b[0m\u001b[0;34m\u001b[0m\u001b[0;34m\u001b[0m\u001b[0m\n\u001b[1;32m      2\u001b[0m \u001b[0mspeeds_df_test\u001b[0m\u001b[0;34m[\u001b[0m\u001b[0;34m'geometry'\u001b[0m\u001b[0;34m]\u001b[0m \u001b[0;34m=\u001b[0m \u001b[0mspeeds_df_test\u001b[0m\u001b[0;34m[\u001b[0m\u001b[0;34m'multiline'\u001b[0m\u001b[0;34m]\u001b[0m\u001b[0;34m.\u001b[0m\u001b[0mapply\u001b[0m\u001b[0;34m(\u001b[0m\u001b[0;32mlambda\u001b[0m \u001b[0mx\u001b[0m\u001b[0;34m:\u001b[0m \u001b[0mclean_multi_line\u001b[0m\u001b[0;34m(\u001b[0m\u001b[0mx\u001b[0m\u001b[0;34m)\u001b[0m\u001b[0;34m)\u001b[0m\u001b[0;34m\u001b[0m\u001b[0;34m\u001b[0m\u001b[0m\n\u001b[0;32m----> 3\u001b[0;31m \u001b[0mspeeds_df_test\u001b[0m\u001b[0;34m[\u001b[0m\u001b[0;34m'cell'\u001b[0m\u001b[0;34m]\u001b[0m \u001b[0;34m=\u001b[0m \u001b[0mspeeds_df_test\u001b[0m\u001b[0;34m[\u001b[0m\u001b[0;34m'geometry'\u001b[0m\u001b[0;34m]\u001b[0m\u001b[0;34m.\u001b[0m\u001b[0mapply\u001b[0m\u001b[0;34m(\u001b[0m\u001b[0;32mlambda\u001b[0m \u001b[0mx\u001b[0m\u001b[0;34m:\u001b[0m \u001b[0mplace_in_cell\u001b[0m\u001b[0;34m(\u001b[0m\u001b[0mx\u001b[0m\u001b[0;34m)\u001b[0m\u001b[0;34m)\u001b[0m\u001b[0;34m\u001b[0m\u001b[0;34m\u001b[0m\u001b[0m\n\u001b[0m",
      "\u001b[0;32m~/miniconda3/lib/python3.7/site-packages/pandas/core/series.py\u001b[0m in \u001b[0;36mapply\u001b[0;34m(self, func, convert_dtype, args, **kwds)\u001b[0m\n\u001b[1;32m   3846\u001b[0m             \u001b[0;32melse\u001b[0m\u001b[0;34m:\u001b[0m\u001b[0;34m\u001b[0m\u001b[0;34m\u001b[0m\u001b[0m\n\u001b[1;32m   3847\u001b[0m                 \u001b[0mvalues\u001b[0m \u001b[0;34m=\u001b[0m \u001b[0mself\u001b[0m\u001b[0;34m.\u001b[0m\u001b[0mastype\u001b[0m\u001b[0;34m(\u001b[0m\u001b[0mobject\u001b[0m\u001b[0;34m)\u001b[0m\u001b[0;34m.\u001b[0m\u001b[0mvalues\u001b[0m\u001b[0;34m\u001b[0m\u001b[0;34m\u001b[0m\u001b[0m\n\u001b[0;32m-> 3848\u001b[0;31m                 \u001b[0mmapped\u001b[0m \u001b[0;34m=\u001b[0m \u001b[0mlib\u001b[0m\u001b[0;34m.\u001b[0m\u001b[0mmap_infer\u001b[0m\u001b[0;34m(\u001b[0m\u001b[0mvalues\u001b[0m\u001b[0;34m,\u001b[0m \u001b[0mf\u001b[0m\u001b[0;34m,\u001b[0m \u001b[0mconvert\u001b[0m\u001b[0;34m=\u001b[0m\u001b[0mconvert_dtype\u001b[0m\u001b[0;34m)\u001b[0m\u001b[0;34m\u001b[0m\u001b[0;34m\u001b[0m\u001b[0m\n\u001b[0m\u001b[1;32m   3849\u001b[0m \u001b[0;34m\u001b[0m\u001b[0m\n\u001b[1;32m   3850\u001b[0m         \u001b[0;32mif\u001b[0m \u001b[0mlen\u001b[0m\u001b[0;34m(\u001b[0m\u001b[0mmapped\u001b[0m\u001b[0;34m)\u001b[0m \u001b[0;32mand\u001b[0m \u001b[0misinstance\u001b[0m\u001b[0;34m(\u001b[0m\u001b[0mmapped\u001b[0m\u001b[0;34m[\u001b[0m\u001b[0;36m0\u001b[0m\u001b[0;34m]\u001b[0m\u001b[0;34m,\u001b[0m \u001b[0mSeries\u001b[0m\u001b[0;34m)\u001b[0m\u001b[0;34m:\u001b[0m\u001b[0;34m\u001b[0m\u001b[0;34m\u001b[0m\u001b[0m\n",
      "\u001b[0;32mpandas/_libs/lib.pyx\u001b[0m in \u001b[0;36mpandas._libs.lib.map_infer\u001b[0;34m()\u001b[0m\n",
      "\u001b[0;32m<ipython-input-30-c308013191d8>\u001b[0m in \u001b[0;36m<lambda>\u001b[0;34m(x)\u001b[0m\n\u001b[1;32m      1\u001b[0m \u001b[0mspeeds_df_test\u001b[0m \u001b[0;34m=\u001b[0m \u001b[0mspeeds_df\u001b[0m\u001b[0;34m\u001b[0m\u001b[0;34m\u001b[0m\u001b[0m\n\u001b[1;32m      2\u001b[0m \u001b[0mspeeds_df_test\u001b[0m\u001b[0;34m[\u001b[0m\u001b[0;34m'geometry'\u001b[0m\u001b[0;34m]\u001b[0m \u001b[0;34m=\u001b[0m \u001b[0mspeeds_df_test\u001b[0m\u001b[0;34m[\u001b[0m\u001b[0;34m'multiline'\u001b[0m\u001b[0;34m]\u001b[0m\u001b[0;34m.\u001b[0m\u001b[0mapply\u001b[0m\u001b[0;34m(\u001b[0m\u001b[0;32mlambda\u001b[0m \u001b[0mx\u001b[0m\u001b[0;34m:\u001b[0m \u001b[0mclean_multi_line\u001b[0m\u001b[0;34m(\u001b[0m\u001b[0mx\u001b[0m\u001b[0;34m)\u001b[0m\u001b[0;34m)\u001b[0m\u001b[0;34m\u001b[0m\u001b[0;34m\u001b[0m\u001b[0m\n\u001b[0;32m----> 3\u001b[0;31m \u001b[0mspeeds_df_test\u001b[0m\u001b[0;34m[\u001b[0m\u001b[0;34m'cell'\u001b[0m\u001b[0;34m]\u001b[0m \u001b[0;34m=\u001b[0m \u001b[0mspeeds_df_test\u001b[0m\u001b[0;34m[\u001b[0m\u001b[0;34m'geometry'\u001b[0m\u001b[0;34m]\u001b[0m\u001b[0;34m.\u001b[0m\u001b[0mapply\u001b[0m\u001b[0;34m(\u001b[0m\u001b[0;32mlambda\u001b[0m \u001b[0mx\u001b[0m\u001b[0;34m:\u001b[0m \u001b[0mplace_in_cell\u001b[0m\u001b[0;34m(\u001b[0m\u001b[0mx\u001b[0m\u001b[0;34m)\u001b[0m\u001b[0;34m)\u001b[0m\u001b[0;34m\u001b[0m\u001b[0;34m\u001b[0m\u001b[0m\n\u001b[0m",
      "\u001b[0;31mNameError\u001b[0m: name 'place_in_cell' is not defined"
     ]
    }
   ],
   "source": [
    "speeds_df_test = speeds_df\n",
    "speeds_df_test['geometry'] = speeds_df_test['multiline'].apply(lambda x: clean_multi_line(x))\n",
    "speeds_df_test['cell'] = speeds_df_test['geometry'].apply(lambda x: place_in_cell(x))\n"
   ]
  },
  {
   "cell_type": "code",
   "execution_count": 31,
   "metadata": {},
   "outputs": [
    {
     "output_type": "execute_result",
     "data": {
      "text/plain": "     BOUND  CREATED_DT  DISTANCE  SPEED          STREET_NAME  \\\n0        N         NaN      0.81     60       MILLSIDE BV SE   \n1      NaN  2018/10/30       NaN     40  DEERFOOT TR SE RAMP   \n2        S  2018/10/23       NaN     60   HARVEST HILLS BV N   \n3        N  2019/10/09      4.37     70      CROWCHILD TR SW   \n4      NaN  2018/10/30       NaN     80    STONEY TR NE RAMP   \n...    ...         ...       ...    ...                  ...   \n1447     S  2018/10/29       NaN     80         STONEY TR NW   \n1448   N/S  2018/10/31       NaN     70             37 ST SW   \n1449     W  2018/11/02       NaN     60     SUN VALLEY BV SE   \n1450     E         NaN      1.85     60       JOHN LAURIE BV   \n1451   NaN  2018/12/06       NaN     60    STONEY TR SE RAMP   \n\n                                              multiline  \\\n0     MULTILINESTRING ((-114.073657541927 50.9135772...   \n1     MULTILINESTRING ((-114.034764352652 50.9962241...   \n2     MULTILINESTRING ((-114.068566084381 51.1667137...   \n3     MULTILINESTRING ((-114.117825190175 51.0050022...   \n4     MULTILINESTRING ((-113.918850808952 51.0624482...   \n...                                                 ...   \n1447  MULTILINESTRING ((-114.233241861102 51.0915352...   \n1448  MULTILINESTRING ((-114.140309947853 50.9177590...   \n1449  MULTILINESTRING ((-114.030210417675 50.9043134...   \n1450  MULTILINESTRING ((-114.177870798005 51.1241752...   \n1451  MULTILINESTRING ((-113.988645145196 50.8984752...   \n\n                                               geometry  \n0     {'type': 'MultiLineString', 'coordinates': [[5...  \n1     {'type': 'MultiLineString', 'coordinates': [[5...  \n2     {'type': 'MultiLineString', 'coordinates': [[5...  \n3     {'type': 'MultiLineString', 'coordinates': [[5...  \n4     {'type': 'MultiLineString', 'coordinates': [[5...  \n...                                                 ...  \n1447  {'type': 'MultiLineString', 'coordinates': [[5...  \n1448  {'type': 'MultiLineString', 'coordinates': [[5...  \n1449  {'type': 'MultiLineString', 'coordinates': [[5...  \n1450  {'type': 'MultiLineString', 'coordinates': [[5...  \n1451  {'type': 'MultiLineString', 'coordinates': [[5...  \n\n[1452 rows x 7 columns]",
      "text/html": "<div>\n<style scoped>\n    .dataframe tbody tr th:only-of-type {\n        vertical-align: middle;\n    }\n\n    .dataframe tbody tr th {\n        vertical-align: top;\n    }\n\n    .dataframe thead th {\n        text-align: right;\n    }\n</style>\n<table border=\"1\" class=\"dataframe\">\n  <thead>\n    <tr style=\"text-align: right;\">\n      <th></th>\n      <th>BOUND</th>\n      <th>CREATED_DT</th>\n      <th>DISTANCE</th>\n      <th>SPEED</th>\n      <th>STREET_NAME</th>\n      <th>multiline</th>\n      <th>geometry</th>\n    </tr>\n  </thead>\n  <tbody>\n    <tr>\n      <th>0</th>\n      <td>N</td>\n      <td>NaN</td>\n      <td>0.81</td>\n      <td>60</td>\n      <td>MILLSIDE BV SE</td>\n      <td>MULTILINESTRING ((-114.073657541927 50.9135772...</td>\n      <td>{'type': 'MultiLineString', 'coordinates': [[5...</td>\n    </tr>\n    <tr>\n      <th>1</th>\n      <td>NaN</td>\n      <td>2018/10/30</td>\n      <td>NaN</td>\n      <td>40</td>\n      <td>DEERFOOT TR SE RAMP</td>\n      <td>MULTILINESTRING ((-114.034764352652 50.9962241...</td>\n      <td>{'type': 'MultiLineString', 'coordinates': [[5...</td>\n    </tr>\n    <tr>\n      <th>2</th>\n      <td>S</td>\n      <td>2018/10/23</td>\n      <td>NaN</td>\n      <td>60</td>\n      <td>HARVEST HILLS BV N</td>\n      <td>MULTILINESTRING ((-114.068566084381 51.1667137...</td>\n      <td>{'type': 'MultiLineString', 'coordinates': [[5...</td>\n    </tr>\n    <tr>\n      <th>3</th>\n      <td>N</td>\n      <td>2019/10/09</td>\n      <td>4.37</td>\n      <td>70</td>\n      <td>CROWCHILD TR SW</td>\n      <td>MULTILINESTRING ((-114.117825190175 51.0050022...</td>\n      <td>{'type': 'MultiLineString', 'coordinates': [[5...</td>\n    </tr>\n    <tr>\n      <th>4</th>\n      <td>NaN</td>\n      <td>2018/10/30</td>\n      <td>NaN</td>\n      <td>80</td>\n      <td>STONEY TR NE RAMP</td>\n      <td>MULTILINESTRING ((-113.918850808952 51.0624482...</td>\n      <td>{'type': 'MultiLineString', 'coordinates': [[5...</td>\n    </tr>\n    <tr>\n      <th>...</th>\n      <td>...</td>\n      <td>...</td>\n      <td>...</td>\n      <td>...</td>\n      <td>...</td>\n      <td>...</td>\n      <td>...</td>\n    </tr>\n    <tr>\n      <th>1447</th>\n      <td>S</td>\n      <td>2018/10/29</td>\n      <td>NaN</td>\n      <td>80</td>\n      <td>STONEY TR NW</td>\n      <td>MULTILINESTRING ((-114.233241861102 51.0915352...</td>\n      <td>{'type': 'MultiLineString', 'coordinates': [[5...</td>\n    </tr>\n    <tr>\n      <th>1448</th>\n      <td>N/S</td>\n      <td>2018/10/31</td>\n      <td>NaN</td>\n      <td>70</td>\n      <td>37 ST SW</td>\n      <td>MULTILINESTRING ((-114.140309947853 50.9177590...</td>\n      <td>{'type': 'MultiLineString', 'coordinates': [[5...</td>\n    </tr>\n    <tr>\n      <th>1449</th>\n      <td>W</td>\n      <td>2018/11/02</td>\n      <td>NaN</td>\n      <td>60</td>\n      <td>SUN VALLEY BV SE</td>\n      <td>MULTILINESTRING ((-114.030210417675 50.9043134...</td>\n      <td>{'type': 'MultiLineString', 'coordinates': [[5...</td>\n    </tr>\n    <tr>\n      <th>1450</th>\n      <td>E</td>\n      <td>NaN</td>\n      <td>1.85</td>\n      <td>60</td>\n      <td>JOHN LAURIE BV</td>\n      <td>MULTILINESTRING ((-114.177870798005 51.1241752...</td>\n      <td>{'type': 'MultiLineString', 'coordinates': [[5...</td>\n    </tr>\n    <tr>\n      <th>1451</th>\n      <td>NaN</td>\n      <td>2018/12/06</td>\n      <td>NaN</td>\n      <td>60</td>\n      <td>STONEY TR SE RAMP</td>\n      <td>MULTILINESTRING ((-113.988645145196 50.8984752...</td>\n      <td>{'type': 'MultiLineString', 'coordinates': [[5...</td>\n    </tr>\n  </tbody>\n</table>\n<p>1452 rows × 7 columns</p>\n</div>"
     },
     "metadata": {},
     "execution_count": 31
    }
   ],
   "source": [
    "speeds_df_test\n"
   ]
  },
  {
   "cell_type": "code",
   "execution_count": 32,
   "metadata": {},
   "outputs": [
    {
     "output_type": "display_data",
     "data": {
      "text/plain": "<IPython.core.display.HTML object>",
      "text/html": "<iframe src=\"index.html\" frameborder = \"0\" width = \"960\" height = \"600\" allowfullscreen=\"true\" mozallowfullscreen=\"true\" webkitallowfullscreen=\"true\"></iframe>\n"
     },
     "metadata": {}
    }
   ],
   "source": [
    "%%html\n",
    "<iframe src=\"index.html\" frameborder = \"0\" width = \"960\" height = \"600\" allowfullscreen=\"true\" mozallowfullscreen=\"true\" webkitallowfullscreen=\"true\"></iframe>"
   ]
  },
  {
   "cell_type": "code",
   "execution_count": null,
   "metadata": {},
   "outputs": [],
   "source": []
  }
 ]
}